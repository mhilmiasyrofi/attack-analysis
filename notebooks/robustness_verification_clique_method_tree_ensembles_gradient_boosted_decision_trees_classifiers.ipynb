{
 "cells": [
  {
   "cell_type": "markdown",
   "metadata": {},
   "source": [
    "# Clique Method Robustness Verification for Tree Ensembles and Gradient Boosted Decision Tree Classifiers"
   ]
  },
  {
   "cell_type": "code",
   "execution_count": 1,
   "metadata": {},
   "outputs": [],
   "source": [
    "from xgboost import XGBClassifier\n",
    "import lightgbm\n",
    "import numpy as np\n",
    "from sklearn.ensemble import ExtraTreesClassifier, RandomForestClassifier, GradientBoostingClassifier\n",
    "\n",
    "from art.classifiers import XGBoostClassifier, LightGBMClassifier, SklearnClassifier\n",
    "from art.utils import master_seed, load_dataset\n",
    "from art.metrics import RobustnessVerificationTreeModelsCliqueMethod\n",
    "\n",
    "import warnings\n",
    "warnings.filterwarnings('ignore')"
   ]
  },
  {
   "cell_type": "code",
   "execution_count": 2,
   "metadata": {},
   "outputs": [],
   "source": [
    "NB_TRAIN = 100\n",
    "NB_TEST = 100\n",
    "\n",
    "(x_train, y_train), (x_test, y_test), _, _ = load_dataset('mnist')\n",
    "\n",
    "n_classes = 10\n",
    "n_features = 28 * 28\n",
    "n_train = x_train.shape[0]\n",
    "n_test = x_test.shape[0]\n",
    "x_train = x_train.reshape((n_train, n_features))\n",
    "x_test = x_test.reshape((n_test, n_features))\n",
    "\n",
    "x_train = x_train[:NB_TRAIN]\n",
    "y_train = y_train[:NB_TRAIN]\n",
    "x_test = x_test[:NB_TEST]\n",
    "y_test = y_test[:NB_TEST]\n",
    "\n",
    "master_seed(42)"
   ]
  },
  {
   "cell_type": "markdown",
   "metadata": {},
   "source": [
    "# XGBoost"
   ]
  },
  {
   "cell_type": "code",
   "execution_count": 3,
   "metadata": {},
   "outputs": [
    {
     "ename": "ValueError",
     "evalue": "The truth value of an array with more than one element is ambiguous. Use a.any() or a.all()",
     "output_type": "error",
     "traceback": [
      "\u001b[0;31m---------------------------------------------------------------------------\u001b[0m",
      "\u001b[0;31mValueError\u001b[0m                                Traceback (most recent call last)",
      "\u001b[0;32m<ipython-input-3-e02e8d6884e1>\u001b[0m in \u001b[0;36m<module>\u001b[0;34m\u001b[0m\n\u001b[1;32m      6\u001b[0m \u001b[0mrt\u001b[0m \u001b[0;34m=\u001b[0m \u001b[0mRobustnessVerificationTreeModelsCliqueMethod\u001b[0m\u001b[0;34m(\u001b[0m\u001b[0mclassifier\u001b[0m\u001b[0;34m=\u001b[0m\u001b[0mclassifier\u001b[0m\u001b[0;34m)\u001b[0m\u001b[0;34m\u001b[0m\u001b[0;34m\u001b[0m\u001b[0m\n\u001b[1;32m      7\u001b[0m average_bound, verified_error = rt.verify(x=x_test, y=y_test, eps_init=0.3, num_search_steps=10, max_clique=2,\n\u001b[0;32m----> 8\u001b[0;31m                                           max_level=2)\n\u001b[0m\u001b[1;32m      9\u001b[0m \u001b[0;34m\u001b[0m\u001b[0m\n\u001b[1;32m     10\u001b[0m \u001b[0mprint\u001b[0m\u001b[0;34m(\u001b[0m\u001b[0;34m'Average bound:'\u001b[0m\u001b[0;34m,\u001b[0m \u001b[0maverage_bound\u001b[0m\u001b[0;34m)\u001b[0m\u001b[0;34m\u001b[0m\u001b[0;34m\u001b[0m\u001b[0m\n",
      "\u001b[0;32m~/venv36/lib64/python3.6/site-packages/art/metrics/verification_decisions_trees.py\u001b[0m in \u001b[0;36mverify\u001b[0;34m(self, x, y, eps_init, norm, num_search_steps, max_clique, max_level)\u001b[0m\n\u001b[1;32m     98\u001b[0m                 \u001b[0;32melse\u001b[0m\u001b[0;34m:\u001b[0m\u001b[0;34m\u001b[0m\u001b[0;34m\u001b[0m\u001b[0m\n\u001b[1;32m     99\u001b[0m                     \u001b[0;32mfor\u001b[0m \u001b[0mi_class\u001b[0m \u001b[0;32min\u001b[0m \u001b[0mrange\u001b[0m\u001b[0;34m(\u001b[0m\u001b[0mself\u001b[0m\u001b[0;34m.\u001b[0m\u001b[0m_classifier\u001b[0m\u001b[0;34m.\u001b[0m\u001b[0mnb_classes\u001b[0m\u001b[0;34m(\u001b[0m\u001b[0;34m)\u001b[0m\u001b[0;34m)\u001b[0m\u001b[0;34m:\u001b[0m\u001b[0;34m\u001b[0m\u001b[0;34m\u001b[0m\u001b[0m\n\u001b[0;32m--> 100\u001b[0;31m                         \u001b[0;32mif\u001b[0m \u001b[0mi_class\u001b[0m \u001b[0;34m!=\u001b[0m \u001b[0mself\u001b[0m\u001b[0;34m.\u001b[0m\u001b[0my\u001b[0m\u001b[0;34m[\u001b[0m\u001b[0mi_sample\u001b[0m\u001b[0;34m]\u001b[0m\u001b[0;34m:\u001b[0m\u001b[0;34m\u001b[0m\u001b[0;34m\u001b[0m\u001b[0m\n\u001b[0m\u001b[1;32m    101\u001b[0m                             \u001b[0mbest_score\u001b[0m \u001b[0;34m=\u001b[0m \u001b[0mself\u001b[0m\u001b[0;34m.\u001b[0m\u001b[0m_get_best_score\u001b[0m\u001b[0;34m(\u001b[0m\u001b[0mi_sample\u001b[0m\u001b[0;34m,\u001b[0m \u001b[0meps\u001b[0m\u001b[0;34m,\u001b[0m \u001b[0mnorm\u001b[0m\u001b[0;34m,\u001b[0m \u001b[0mtarget_label\u001b[0m\u001b[0;34m=\u001b[0m\u001b[0mi_class\u001b[0m\u001b[0;34m)\u001b[0m\u001b[0;34m\u001b[0m\u001b[0;34m\u001b[0m\u001b[0m\n\u001b[1;32m    102\u001b[0m                             \u001b[0mis_robust\u001b[0m \u001b[0;34m=\u001b[0m \u001b[0mis_robust\u001b[0m \u001b[0;32mand\u001b[0m \u001b[0;34m(\u001b[0m\u001b[0mbest_score\u001b[0m \u001b[0;34m>\u001b[0m \u001b[0;36m0\u001b[0m\u001b[0;34m)\u001b[0m\u001b[0;34m\u001b[0m\u001b[0;34m\u001b[0m\u001b[0m\n",
      "\u001b[0;31mValueError\u001b[0m: The truth value of an array with more than one element is ambiguous. Use a.any() or a.all()"
     ]
    }
   ],
   "source": [
    "model = XGBClassifier(n_estimators=4, max_depth=6)\n",
    "model.fit(x_train, np.argmax(y_train, axis=1))\n",
    "\n",
    "classifier = XGBoostClassifier(model=model, num_features=n_features, nb_classes=n_classes)\n",
    "\n",
    "rt = RobustnessVerificationTreeModelsCliqueMethod(classifier=classifier)\n",
    "average_bound, verified_error = rt.verify(x=x_test, y=y_test, eps_init=0.3, num_search_steps=10, max_clique=2,\n",
    "                                          max_level=2)\n",
    "\n",
    "print('Average bound:', average_bound)\n",
    "print('Verified error at eps:', verified_error)"
   ]
  },
  {
   "cell_type": "markdown",
   "metadata": {},
   "source": [
    "# LightGBM"
   ]
  },
  {
   "cell_type": "code",
   "execution_count": null,
   "metadata": {},
   "outputs": [],
   "source": [
    "train_data = lightgbm.Dataset(x_train, label=np.argmax(y_train, axis=1))\n",
    "test_data = lightgbm.Dataset(x_test, label=np.argmax(y_test, axis=1))\n",
    "\n",
    "parameters = {'objective': 'multiclass',\n",
    "              'num_class': n_classes,\n",
    "              'metric': 'multi_logloss',\n",
    "              'is_unbalance': 'true',\n",
    "              'boosting': 'gbdt',\n",
    "              'num_leaves': 5,\n",
    "              'feature_fraction': 0.5,\n",
    "              'bagging_fraction': 0.5,\n",
    "              'bagging_freq': 0,\n",
    "              'learning_rate': 0.05,\n",
    "              'verbose': 0}\n",
    "\n",
    "model = lightgbm.train(parameters,\n",
    "                       train_data,\n",
    "                       valid_sets=test_data,\n",
    "                       num_boost_round=2,\n",
    "                       early_stopping_rounds=10)\n",
    "\n",
    "classifier = LightGBMClassifier(model=model)\n",
    "\n",
    "rt = RobustnessVerificationTreeModelsCliqueMethod(classifier=classifier)\n",
    "average_bound, verified_error = rt.verify(x=x_test, y=y_test, eps_init=0.3, num_search_steps=10, max_clique=2,\n",
    "                                          max_level=2)\n",
    "\n",
    "print('Average bound:', average_bound)\n",
    "print('Verified error at eps:', verified_error)"
   ]
  },
  {
   "cell_type": "markdown",
   "metadata": {},
   "source": [
    "# GradientBoosting"
   ]
  },
  {
   "cell_type": "code",
   "execution_count": null,
   "metadata": {},
   "outputs": [],
   "source": [
    "model = GradientBoostingClassifier(n_estimators=4, max_depth=6)\n",
    "model.fit(x_train, np.argmax(y_train, axis=1))\n",
    "\n",
    "classifier = SklearnClassifier(model=model)\n",
    "\n",
    "rt = RobustnessVerificationTreeModelsCliqueMethod(classifier=classifier)\n",
    "average_bound, verified_error = rt.verify(x=x_test, y=y_test, eps_init=0.3, num_search_steps=10, max_clique=2, \n",
    "                                          max_level=2)\n",
    "\n",
    "print('Average bound:', average_bound)\n",
    "print('Verified error at eps:', verified_error)"
   ]
  },
  {
   "cell_type": "markdown",
   "metadata": {},
   "source": [
    "# RandomForest"
   ]
  },
  {
   "cell_type": "code",
   "execution_count": null,
   "metadata": {},
   "outputs": [],
   "source": [
    "model = RandomForestClassifier(n_estimators=4, max_depth=6)\n",
    "model.fit(x_train, np.argmax(y_train, axis=1))\n",
    "\n",
    "classifier = SklearnClassifier(model=model)\n",
    "\n",
    "rt = RobustnessVerificationTreeModelsCliqueMethod(classifier=classifier)\n",
    "average_bound, verified_error = rt.verify(x=x_test, y=y_test, eps_init=0.3, num_search_steps=10, max_clique=2, \n",
    "                                          max_level=2)\n",
    "\n",
    "print('Average bound:', average_bound)\n",
    "print('Verified error at eps:', verified_error)"
   ]
  },
  {
   "cell_type": "markdown",
   "metadata": {},
   "source": [
    "# ExtraTrees"
   ]
  },
  {
   "cell_type": "code",
   "execution_count": null,
   "metadata": {},
   "outputs": [],
   "source": [
    "model = ExtraTreesClassifier(n_estimators=4, max_depth=6)\n",
    "model.fit(x_train, np.argmax(y_train, axis=1))\n",
    "\n",
    "classifier = SklearnClassifier(model=model)\n",
    "\n",
    "rt = RobustnessVerificationTreeModelsCliqueMethod(classifier=classifier)\n",
    "average_bound, verified_error = rt.verify(x=x_test, y=y_test, eps_init=0.3, num_search_steps=10, max_clique=2, \n",
    "                                          max_level=2)\n",
    "\n",
    "print('Average bound:', average_bound)\n",
    "print('Verified error at eps:', verified_error)"
   ]
  },
  {
   "cell_type": "code",
   "execution_count": null,
   "metadata": {},
   "outputs": [],
   "source": []
  }
 ],
 "metadata": {
  "kernelspec": {
   "display_name": "venv36",
   "language": "python",
   "name": "venv36"
  },
  "language_info": {
   "codemirror_mode": {
    "name": "ipython",
    "version": 3
   },
   "file_extension": ".py",
   "mimetype": "text/x-python",
   "name": "python",
   "nbconvert_exporter": "python",
   "pygments_lexer": "ipython3",
   "version": "3.6.8"
  }
 },
 "nbformat": 4,
 "nbformat_minor": 2
}
