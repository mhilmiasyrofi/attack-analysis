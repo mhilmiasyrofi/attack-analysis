{
 "cells": [
  {
   "cell_type": "markdown",
   "metadata": {
    "colab_type": "text",
    "id": "aPIA-10zdv4P"
   },
   "source": [
    "## ART Randomized Smoothing"
   ]
  },
  {
   "cell_type": "code",
   "execution_count": 1,
   "metadata": {
    "colab": {
     "base_uri": "https://localhost:8080/",
     "height": 34
    },
    "colab_type": "code",
    "id": "CGDOyI0HgDfx",
    "outputId": "2d61711f-6f8a-41b5-f05c-1085fd00fa13"
   },
   "outputs": [
    {
     "name": "stderr",
     "output_type": "stream",
     "text": [
      "Using TensorFlow backend.\n"
     ]
    }
   ],
   "source": [
    "import keras.backend as k\n",
    "from keras.models import load_model\n",
    "from keras.models import Sequential\n",
    "from keras.layers import Dense, Flatten, Conv2D, MaxPooling2D, Dropout\n",
    "\n",
    "from art.config import ART_DATA_PATH\n",
    "from art.defences import GaussianAugmentation\n",
    "from art.attacks import FastGradientMethod\n",
    "from art.classifiers import KerasClassifier\n",
    "from art.utils import load_dataset, get_file, compute_accuracy\n",
    "from art.wrappers import RandomizedSmoothing\n",
    "\n",
    "import numpy as np\n",
    "%matplotlib inline\n",
    "import matplotlib.pyplot as plt"
   ]
  },
  {
   "cell_type": "markdown",
   "metadata": {
    "colab_type": "text",
    "id": "FqXvuMM9dv4U"
   },
   "source": [
    "### Load data"
   ]
  },
  {
   "cell_type": "code",
   "execution_count": 2,
   "metadata": {
    "colab": {},
    "colab_type": "code",
    "id": "z9OztmSidv4V"
   },
   "outputs": [],
   "source": [
    "# Read MNIST dataset\n",
    "(x_train, y_train), (x_test, y_test), min_, max_ = load_dataset(str('mnist'))\n",
    "\n",
    "num_samples_test = 250\n",
    "x_test = x_test[0:num_samples_test]\n",
    "y_test = y_test[0:num_samples_test]"
   ]
  },
  {
   "cell_type": "markdown",
   "metadata": {
    "colab_type": "text",
    "id": "xDCzquK1dv4X"
   },
   "source": [
    "### Train classifiers"
   ]
  },
  {
   "cell_type": "code",
   "execution_count": 3,
   "metadata": {
    "colab": {},
    "colab_type": "code",
    "id": "G-mh9wSAHm-Z"
   },
   "outputs": [],
   "source": [
    "# create Keras convolutional neural network - basic architecture\n",
    "def cnn_mnist(input_shape, min_val, max_val):\n",
    "  \n",
    "    model = Sequential()\n",
    "    model.add(Conv2D(32, kernel_size=(3, 3), activation='relu', input_shape=input_shape))\n",
    "    model.add(MaxPooling2D(pool_size=(2, 2)))\n",
    "    model.add(Conv2D(64, (3, 3), activation='relu'))\n",
    "    model.add(MaxPooling2D(pool_size=(2, 2)))\n",
    "    model.add(Dropout(0.25))\n",
    "    model.add(Flatten())\n",
    "    model.add(Dense(128, activation='relu'))\n",
    "    model.add(Dense(10, activation='softmax'))\n",
    "\n",
    "    model.compile(loss='categorical_crossentropy', optimizer='adam', metrics=['accuracy'])\n",
    "\n",
    "    classifier = KerasClassifier(clip_values=(min_val, max_val), \n",
    "                                model=model, use_logits=False)\n",
    "    return classifier"
   ]
  },
  {
   "cell_type": "code",
   "execution_count": 4,
   "metadata": {
    "colab": {},
    "colab_type": "code",
    "id": "tGbe8Cjmdv4a"
   },
   "outputs": [
    {
     "name": "stdout",
     "output_type": "stream",
     "text": [
      "WARNING:tensorflow:From /Users/sharon/anaconda/envs/tensorflow/lib/python3.6/site-packages/tensorflow/python/framework/op_def_library.py:263: colocate_with (from tensorflow.python.framework.ops) is deprecated and will be removed in a future version.\n",
      "Instructions for updating:\n",
      "Colocations handled automatically by placer.\n",
      "WARNING:tensorflow:From /Users/sharon/anaconda/envs/tensorflow/lib/python3.6/site-packages/tensorflow/python/ops/math_ops.py:3066: to_int32 (from tensorflow.python.ops.math_ops) is deprecated and will be removed in a future version.\n",
      "Instructions for updating:\n",
      "Use tf.cast instead.\n",
      "WARNING:tensorflow:From /Users/sharon/anaconda/envs/tensorflow/lib/python3.6/site-packages/keras/backend/tensorflow_backend.py:3298: softmax_cross_entropy_with_logits (from tensorflow.python.ops.nn_ops) is deprecated and will be removed in a future version.\n",
      "Instructions for updating:\n",
      "\n",
      "Future major versions of TensorFlow will allow gradients to flow\n",
      "into the labels input on backprop by default.\n",
      "\n",
      "See `tf.nn.softmax_cross_entropy_with_logits_v2`.\n",
      "\n"
     ]
    }
   ],
   "source": [
    "num_epochs = 3\n",
    "\n",
    "# # Construct and train a convolutional neural network\n",
    "# classifier = cnn_mnist(x_train.shape[1:], min_, max_)\n",
    "# classifier.fit(x_train, y_train, nb_epochs=num_epochs, batch_size=128)\n",
    "\n",
    "# import trained model to save time :)\n",
    "path = get_file('mnist_cnn_original.h5', extract=False, path=ART_DATA_PATH,\n",
    "                url='https://www.dropbox.com/s/p2nyzne9chcerid/mnist_cnn_original.h5?dl=1')\n",
    "classifier_model = load_model(path)\n",
    "classifier = KerasClassifier(clip_values=(min_, max_), model=classifier_model, \n",
    "                             use_logits=False)"
   ]
  },
  {
   "cell_type": "code",
   "execution_count": 5,
   "metadata": {
    "colab": {
     "base_uri": "https://localhost:8080/",
     "height": 221
    },
    "colab_type": "code",
    "id": "qH0lH14Ddv4d",
    "outputId": "058fe69b-70af-46ad-8d71-bc7f923f2202"
   },
   "outputs": [
    {
     "name": "stdout",
     "output_type": "stream",
     "text": [
      "WARNING:tensorflow:From /Users/sharon/anaconda/envs/tensorflow/lib/python3.6/site-packages/keras/backend/tensorflow_backend.py:3445: calling dropout (from tensorflow.python.ops.nn_ops) with keep_prob is deprecated and will be removed in a future version.\n",
      "Instructions for updating:\n",
      "Please use `rate` instead of `keep_prob`. Rate should be set to `rate = 1 - keep_prob`.\n",
      "Epoch 1/3\n",
      "469/468 [==============================] - 30s 63ms/step - loss: 0.2744 - acc: 0.9172\n",
      "Epoch 2/3\n",
      "469/468 [==============================] - 30s 63ms/step - loss: 0.0821 - acc: 0.9745\n",
      "Epoch 3/3\n",
      "469/468 [==============================] - 30s 64ms/step - loss: 0.0609 - acc: 0.9807\n",
      "Epoch 1/3\n",
      "469/468 [==============================] - 31s 66ms/step - loss: 0.3985 - acc: 0.8738\n",
      "Epoch 2/3\n",
      "469/468 [==============================] - 32s 69ms/step - loss: 0.1520 - acc: 0.9509\n",
      "Epoch 3/3\n",
      "469/468 [==============================] - 32s 67ms/step - loss: 0.1150 - acc: 0.9633\n"
     ]
    }
   ],
   "source": [
    "# add Gaussian noise and train two classifiers\n",
    "sigma1 = 0.25\n",
    "sigma2 = 0.5\n",
    "\n",
    "# sigma = 0.25\n",
    "ga = GaussianAugmentation(sigma=sigma1, augmentation=False)\n",
    "x_new1, _ = ga(x_train)\n",
    "\n",
    "classifier_ga1 = cnn_mnist(x_train.shape[1:], min_, max_)\n",
    "classifier_ga1.fit(x_new1, y_train, nb_epochs=num_epochs, batch_size=128)\n",
    "\n",
    "# sigma = 0.5\n",
    "ga = GaussianAugmentation(sigma=sigma2, augmentation=False)\n",
    "x_new2, _ = ga(x_train)\n",
    "\n",
    "classifier_ga2 = cnn_mnist(x_train.shape[1:], min_, max_)\n",
    "classifier_ga2.fit(x_new2, y_train, nb_epochs=num_epochs, batch_size=128)"
   ]
  },
  {
   "cell_type": "code",
   "execution_count": 6,
   "metadata": {
    "colab": {},
    "colab_type": "code",
    "id": "XYJN3rCpdv4h"
   },
   "outputs": [],
   "source": [
    "# create smoothed classifiers\n",
    "classifier_rs = RandomizedSmoothing(classifier, sample_size=100, scale=0.25, alpha=0.001)\n",
    "classifier_rs1 = RandomizedSmoothing(classifier_ga1, sample_size=100, scale=sigma1, alpha=0.001)\n",
    "classifier_rs2 = RandomizedSmoothing(classifier_ga2, sample_size=100, scale=sigma2, alpha=0.001)"
   ]
  },
  {
   "cell_type": "markdown",
   "metadata": {
    "colab_type": "text",
    "id": "kukXRDcedv4j"
   },
   "source": [
    "### Prediction"
   ]
  },
  {
   "cell_type": "code",
   "execution_count": 7,
   "metadata": {
    "colab": {
     "base_uri": "https://localhost:8080/",
     "height": 221
    },
    "colab_type": "code",
    "id": "jcPkXptcdv4k",
    "outputId": "ee65b562-0839-483b-9b1f-b7c911e3131a"
   },
   "outputs": [
    {
     "name": "stdout",
     "output_type": "stream",
     "text": [
      "4 prediction(s) abstained.\n",
      "4 prediction(s) abstained.\n",
      "Original test data (first 250 images):\n",
      "Original Classifier\n",
      "Accuracy: 0.996\n",
      "Coverage: 1.0\n",
      "Smoothed Classifier, sigma=0.25\n",
      "Accuracy: 0.9959349593495935\n",
      "Coverage: 0.984\n",
      "Smoothed Classifier, sigma=0.5\n",
      "Accuracy: 1.0\n",
      "Coverage: 0.984\n"
     ]
    }
   ],
   "source": [
    "# compare prediction of randomized smoothed models to original model f\n",
    "x_preds = classifier.predict(x_test)\n",
    "x_preds_rs1 = classifier_rs1.predict(x_test)\n",
    "x_preds_rs2 = classifier_rs2.predict(x_test)\n",
    "acc, cov = compute_accuracy(x_preds, y_test)\n",
    "acc_rs1, cov_rs1 = compute_accuracy(x_preds_rs1, y_test)\n",
    "acc_rs2, cov_rs2 = compute_accuracy(x_preds_rs2, y_test)\n",
    "\n",
    "print(\"Original test data (first 250 images):\")\n",
    "print(\"Original Classifier\")\n",
    "print(\"Accuracy: {}\".format(acc))\n",
    "print(\"Coverage: {}\".format(cov))\n",
    "print(\"Smoothed Classifier, sigma=\" + str(sigma1))\n",
    "print(\"Accuracy: {}\".format(acc_rs1))\n",
    "print(\"Coverage: {}\".format(cov_rs1))\n",
    "print(\"Smoothed Classifier, sigma=\" + str(sigma2))\n",
    "print(\"Accuracy: {}\".format(acc_rs2))\n",
    "print(\"Coverage: {}\".format(cov_rs2))"
   ]
  },
  {
   "cell_type": "markdown",
   "metadata": {
    "colab_type": "text",
    "id": "hqea3xvMdv4n"
   },
   "source": [
    "### Certification accuracy and radius"
   ]
  },
  {
   "cell_type": "code",
   "execution_count": 8,
   "metadata": {
    "colab": {},
    "colab_type": "code",
    "id": "D6Va8ST8dv4n"
   },
   "outputs": [],
   "source": [
    "# calculate certification accuracy for a given radius\n",
    "def getCertAcc(radius, pred, y_test):\n",
    "\n",
    "    rad_list = np.linspace(0,2.25,201)\n",
    "    cert_acc = []\n",
    "    num_cert = len(np.where(radius > 0)[0])\n",
    "    for r in rad_list:\n",
    "        rad_idx = np.where(radius > r)[0]\n",
    "        y_test_subset = y_test[rad_idx]\n",
    "        cert_acc.append(np.sum(pred[rad_idx] == np.argmax(y_test_subset, axis=1))/num_cert)\n",
    "    return cert_acc"
   ]
  },
  {
   "cell_type": "code",
   "execution_count": 9,
   "metadata": {
    "colab": {},
    "colab_type": "code",
    "id": "iPWY6KFMdv4p"
   },
   "outputs": [],
   "source": [
    "# compute certification\n",
    "pred0, radius0 = classifier_rs.certify(x_test, n=500)\n",
    "pred1, radius1 = classifier_rs1.certify(x_test, n=500)\n",
    "pred2, radius2 = classifier_rs2.certify(x_test, n=500)"
   ]
  },
  {
   "cell_type": "code",
   "execution_count": 10,
   "metadata": {
    "colab": {
     "base_uri": "https://localhost:8080/",
     "height": 283
    },
    "colab_type": "code",
    "id": "ZZv5wDHSdv4s",
    "outputId": "a6fbe7ba-dfbb-47bd-8e56-794fb689cb14"
   },
   "outputs": [
    {
     "data": {
      "image/png": "[encoded data removed]",
      "text/plain": [
       "<matplotlib.figure.Figure at 0x1a538a8668>"
      ]
     },
     "metadata": {
      "needs_background": "light"
     },
     "output_type": "display_data"
    }
   ],
   "source": [
    "# plot certification accuracy wrt to radius\n",
    "rad_list = np.linspace(0,2.25,201)\n",
    "plt.plot(rad_list, getCertAcc(radius0, pred0, y_test), 'r-', label='original')\n",
    "plt.plot(rad_list, getCertAcc(radius1, pred1, y_test), '-', color='cornflowerblue', label='smoothed, $\\sigma=$' + str(sigma1))\n",
    "plt.plot(rad_list, getCertAcc(radius2, pred2, y_test), '-', color='royalblue', label='smoothed, $\\sigma=$' + str(sigma2))\n",
    "plt.xlabel('radius')\n",
    "plt.ylabel('certified accuracy')\n",
    "plt.legend()\n",
    "plt.show()"
   ]
  }
 ],
 "metadata": {
  "accelerator": "GPU",
  "colab": {
   "collapsed_sections": [],
   "name": "randomized_smoothing_mnist.ipynb",
   "provenance": [],
   "version": "0.3.2"
  },
  "kernelspec": {
   "display_name": "Python 3",
   "language": "python",
   "name": "python3"
  },
  "language_info": {
   "codemirror_mode": {
    "name": "ipython",
    "version": 3
   },
   "file_extension": ".py",
   "mimetype": "text/x-python",
   "name": "python",
   "nbconvert_exporter": "python",
   "pygments_lexer": "ipython3",
   "version": "3.4.10"
  }
 },
 "nbformat": 4,
 "nbformat_minor": 1
}
