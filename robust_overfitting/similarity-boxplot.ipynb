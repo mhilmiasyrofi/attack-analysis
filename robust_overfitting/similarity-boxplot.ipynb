{
 "cells": [
  {
   "cell_type": "markdown",
   "metadata": {},
   "source": [
    "# Upper-bound Analysis"
   ]
  },
  {
   "cell_type": "code",
   "execution_count": 1,
   "metadata": {},
   "outputs": [],
   "source": [
    "import pandas as pd\n",
    "import numpy as np\n",
    "import seaborn as sns\n",
    "import matplotlib.pyplot as plt\n",
    "%matplotlib inline\n",
    "from scipy.spatial import distance\n",
    "\n",
    "pd.options.display.float_format = '{:,.3f}'.format"
   ]
  },
  {
   "cell_type": "code",
   "execution_count": 2,
   "metadata": {},
   "outputs": [],
   "source": [
    "base_dir = \"../trained_models/AT/1000val/full/\"\n",
    "def load_data(train, test, fname, valtest=None) :\n",
    "    if valtest == None :\n",
    "        fpath = base_dir + \"{}/eval/best/{}/{}.txt\".format(train, test, fname)\n",
    "    else :\n",
    "        fpath = base_dir + \"{}/val/{}/best/{}/{}.txt\".format(train, valtest, test, fname)\n",
    "\n",
    "    return np.loadtxt(fpath).astype(np.int)\n",
    "\n",
    "train = \"autoattack\"\n",
    "test = \"pgd\"\n",
    "\n",
    "y_original = load_data(train, test, \"Y_original\", 1000)\n",
    "y_original_pred = load_data(train, test, \"Y_original_pred\", 1000)\n",
    "y_adv = load_data(train, test, \"Y_adv\", 1000)\n",
    "y_adv_pred = load_data(train, test, \"Y_adv_pred\", 1000)"
   ]
  },
  {
   "cell_type": "code",
   "execution_count": 3,
   "metadata": {},
   "outputs": [
    {
     "name": "stdout",
     "output_type": "stream",
     "text": [
      "Y_adv(pgd,autoattack): [3 8 8 ... 5 1 7]\n",
      "Y_adv_pred(pgd,autoattack): [3 8 8 ... 5 1 7]\n"
     ]
    }
   ],
   "source": [
    "def get_robust_data(train, test, valtest=None):\n",
    "    y_adv = load_data(train, test, \"Y_adv\", valtest)\n",
    "    y_adv_pred = load_data(train, test, \"Y_adv_pred\", valtest)\n",
    "    return y_adv, y_adv_pred\n",
    "\n",
    "train = \"pgd\"\n",
    "test = \"autoattack\"\n",
    "y_adv, y_adv_pred = get_robust_data(train, test, None)\n",
    "\n",
    "print(\"Y_adv({},{}): {}\".format(train, test, y_adv))\n",
    "print(\"Y_adv_pred({},{}): {}\".format(train, test, y_adv_pred))"
   ]
  },
  {
   "cell_type": "code",
   "execution_count": 4,
   "metadata": {},
   "outputs": [],
   "source": [
    "attacks = [\"autoattack\", \"autopgd\", \"bim\", \"cw\", \"fgsm\", \"pgd\", \"deepfool\", \"newtonfool\", \"squareattack\", \"pixelattack\", \"spatialtransformation\"]"
   ]
  },
  {
   "cell_type": "code",
   "execution_count": 5,
   "metadata": {},
   "outputs": [],
   "source": [
    "train = attacks.copy()\n",
    "\n",
    "test = attacks.copy()\n",
    "test.append(\"all\")"
   ]
  },
  {
   "cell_type": "code",
   "execution_count": 6,
   "metadata": {},
   "outputs": [],
   "source": [
    "def get_accuracies(attacks, valtest=None) :\n",
    "    predictions = {}\n",
    "    labels = {}\n",
    "\n",
    "    for a1 in train :\n",
    "        p = np.array([])\n",
    "        l = np.array([])\n",
    "        for a2 in attacks :\n",
    "            y, y_pred = get_robust_data(a1, a2, valtest)\n",
    "            p = np.concatenate((p, y_pred))\n",
    "            l = np.concatenate((l, y))\n",
    "        predictions[a1] = {}\n",
    "        labels[a1] = {}\n",
    "        predictions[a1][\"all\"] = p\n",
    "        labels[a1][\"all\"] = l\n",
    "\n",
    "    for a1 in train :\n",
    "        for a2 in attacks :\n",
    "            y, y_pred = get_robust_data(a1, a2, valtest)\n",
    "            predictions[a1][a2] = y_pred\n",
    "            labels[a1][a2] = y\n",
    "\n",
    "    accs = {}\n",
    "    for tr in train :\n",
    "        accs[tr] = {}\n",
    "        for ts in test :\n",
    "            accs[tr][ts] = (labels[tr][ts] == predictions[tr][ts]).sum().item() / len(labels[tr][ts])\n",
    "\n",
    "\n",
    "    accs = pd.DataFrame(data=accs)\n",
    "    accs_transpose = pd.DataFrame(data=accs).T\n",
    "    return accs_transpose, accs \n",
    "\n",
    "accs_transpose, accs = get_accuracies(attacks, 1000)"
   ]
  },
  {
   "cell_type": "code",
   "execution_count": 7,
   "metadata": {},
   "outputs": [
    {
     "data": {
      "text/html": [
       "<div>\n",
       "<style scoped>\n",
       "    .dataframe tbody tr th:only-of-type {\n",
       "        vertical-align: middle;\n",
       "    }\n",
       "\n",
       "    .dataframe tbody tr th {\n",
       "        vertical-align: top;\n",
       "    }\n",
       "\n",
       "    .dataframe thead th {\n",
       "        text-align: right;\n",
       "    }\n",
       "</style>\n",
       "<table border=\"1\" class=\"dataframe\">\n",
       "  <thead>\n",
       "    <tr style=\"text-align: right;\">\n",
       "      <th></th>\n",
       "      <th>autoattack</th>\n",
       "      <th>autopgd</th>\n",
       "      <th>bim</th>\n",
       "      <th>cw</th>\n",
       "      <th>fgsm</th>\n",
       "      <th>pgd</th>\n",
       "      <th>deepfool</th>\n",
       "      <th>newtonfool</th>\n",
       "      <th>squareattack</th>\n",
       "      <th>pixelattack</th>\n",
       "      <th>spatialtransformation</th>\n",
       "      <th>all</th>\n",
       "    </tr>\n",
       "  </thead>\n",
       "  <tbody>\n",
       "    <tr>\n",
       "      <th>autoattack</th>\n",
       "      <td>0.762</td>\n",
       "      <td>0.761</td>\n",
       "      <td>0.755</td>\n",
       "      <td>0.765</td>\n",
       "      <td>0.741</td>\n",
       "      <td>0.759</td>\n",
       "      <td>0.759</td>\n",
       "      <td>0.765</td>\n",
       "      <td>0.766</td>\n",
       "      <td>0.129</td>\n",
       "      <td>0.345</td>\n",
       "      <td>0.664</td>\n",
       "    </tr>\n",
       "    <tr>\n",
       "      <th>autopgd</th>\n",
       "      <td>0.751</td>\n",
       "      <td>0.751</td>\n",
       "      <td>0.739</td>\n",
       "      <td>0.757</td>\n",
       "      <td>0.732</td>\n",
       "      <td>0.748</td>\n",
       "      <td>0.755</td>\n",
       "      <td>0.762</td>\n",
       "      <td>0.764</td>\n",
       "      <td>0.132</td>\n",
       "      <td>0.367</td>\n",
       "      <td>0.660</td>\n",
       "    </tr>\n",
       "    <tr>\n",
       "      <th>bim</th>\n",
       "      <td>0.778</td>\n",
       "      <td>0.777</td>\n",
       "      <td>0.769</td>\n",
       "      <td>0.785</td>\n",
       "      <td>0.744</td>\n",
       "      <td>0.766</td>\n",
       "      <td>0.778</td>\n",
       "      <td>0.784</td>\n",
       "      <td>0.781</td>\n",
       "      <td>0.135</td>\n",
       "      <td>0.362</td>\n",
       "      <td>0.678</td>\n",
       "    </tr>\n",
       "    <tr>\n",
       "      <th>cw</th>\n",
       "      <td>0.762</td>\n",
       "      <td>0.765</td>\n",
       "      <td>0.761</td>\n",
       "      <td>0.803</td>\n",
       "      <td>0.760</td>\n",
       "      <td>0.760</td>\n",
       "      <td>0.791</td>\n",
       "      <td>0.791</td>\n",
       "      <td>0.791</td>\n",
       "      <td>0.112</td>\n",
       "      <td>0.398</td>\n",
       "      <td>0.681</td>\n",
       "    </tr>\n",
       "    <tr>\n",
       "      <th>fgsm</th>\n",
       "      <td>0.727</td>\n",
       "      <td>0.726</td>\n",
       "      <td>0.734</td>\n",
       "      <td>0.740</td>\n",
       "      <td>0.736</td>\n",
       "      <td>0.732</td>\n",
       "      <td>0.737</td>\n",
       "      <td>0.739</td>\n",
       "      <td>0.746</td>\n",
       "      <td>0.133</td>\n",
       "      <td>0.332</td>\n",
       "      <td>0.644</td>\n",
       "    </tr>\n",
       "    <tr>\n",
       "      <th>pgd</th>\n",
       "      <td>0.753</td>\n",
       "      <td>0.752</td>\n",
       "      <td>0.744</td>\n",
       "      <td>0.755</td>\n",
       "      <td>0.724</td>\n",
       "      <td>0.754</td>\n",
       "      <td>0.744</td>\n",
       "      <td>0.754</td>\n",
       "      <td>0.751</td>\n",
       "      <td>0.149</td>\n",
       "      <td>0.393</td>\n",
       "      <td>0.661</td>\n",
       "    </tr>\n",
       "    <tr>\n",
       "      <th>deepfool</th>\n",
       "      <td>0.764</td>\n",
       "      <td>0.764</td>\n",
       "      <td>0.753</td>\n",
       "      <td>0.779</td>\n",
       "      <td>0.741</td>\n",
       "      <td>0.753</td>\n",
       "      <td>0.770</td>\n",
       "      <td>0.765</td>\n",
       "      <td>0.774</td>\n",
       "      <td>0.094</td>\n",
       "      <td>0.384</td>\n",
       "      <td>0.667</td>\n",
       "    </tr>\n",
       "    <tr>\n",
       "      <th>newtonfool</th>\n",
       "      <td>0.744</td>\n",
       "      <td>0.744</td>\n",
       "      <td>0.750</td>\n",
       "      <td>0.765</td>\n",
       "      <td>0.732</td>\n",
       "      <td>0.749</td>\n",
       "      <td>0.757</td>\n",
       "      <td>0.770</td>\n",
       "      <td>0.770</td>\n",
       "      <td>0.112</td>\n",
       "      <td>0.349</td>\n",
       "      <td>0.658</td>\n",
       "    </tr>\n",
       "    <tr>\n",
       "      <th>squareattack</th>\n",
       "      <td>0.692</td>\n",
       "      <td>0.693</td>\n",
       "      <td>0.696</td>\n",
       "      <td>0.752</td>\n",
       "      <td>0.680</td>\n",
       "      <td>0.682</td>\n",
       "      <td>0.688</td>\n",
       "      <td>0.748</td>\n",
       "      <td>0.815</td>\n",
       "      <td>0.147</td>\n",
       "      <td>0.355</td>\n",
       "      <td>0.632</td>\n",
       "    </tr>\n",
       "    <tr>\n",
       "      <th>pixelattack</th>\n",
       "      <td>0.089</td>\n",
       "      <td>0.089</td>\n",
       "      <td>0.089</td>\n",
       "      <td>0.089</td>\n",
       "      <td>0.089</td>\n",
       "      <td>0.089</td>\n",
       "      <td>0.089</td>\n",
       "      <td>0.089</td>\n",
       "      <td>0.089</td>\n",
       "      <td>0.781</td>\n",
       "      <td>0.089</td>\n",
       "      <td>0.152</td>\n",
       "    </tr>\n",
       "    <tr>\n",
       "      <th>spatialtransformation</th>\n",
       "      <td>0.488</td>\n",
       "      <td>0.487</td>\n",
       "      <td>0.494</td>\n",
       "      <td>0.519</td>\n",
       "      <td>0.485</td>\n",
       "      <td>0.496</td>\n",
       "      <td>0.498</td>\n",
       "      <td>0.519</td>\n",
       "      <td>0.537</td>\n",
       "      <td>0.114</td>\n",
       "      <td>0.811</td>\n",
       "      <td>0.495</td>\n",
       "    </tr>\n",
       "  </tbody>\n",
       "</table>\n",
       "</div>"
      ],
      "text/plain": [
       "                       autoattack  autopgd   bim    cw  fgsm   pgd  deepfool  \\\n",
       "autoattack                  0.762    0.761 0.755 0.765 0.741 0.759     0.759   \n",
       "autopgd                     0.751    0.751 0.739 0.757 0.732 0.748     0.755   \n",
       "bim                         0.778    0.777 0.769 0.785 0.744 0.766     0.778   \n",
       "cw                          0.762    0.765 0.761 0.803 0.760 0.760     0.791   \n",
       "fgsm                        0.727    0.726 0.734 0.740 0.736 0.732     0.737   \n",
       "pgd                         0.753    0.752 0.744 0.755 0.724 0.754     0.744   \n",
       "deepfool                    0.764    0.764 0.753 0.779 0.741 0.753     0.770   \n",
       "newtonfool                  0.744    0.744 0.750 0.765 0.732 0.749     0.757   \n",
       "squareattack                0.692    0.693 0.696 0.752 0.680 0.682     0.688   \n",
       "pixelattack                 0.089    0.089 0.089 0.089 0.089 0.089     0.089   \n",
       "spatialtransformation       0.488    0.487 0.494 0.519 0.485 0.496     0.498   \n",
       "\n",
       "                       newtonfool  squareattack  pixelattack  \\\n",
       "autoattack                  0.765         0.766        0.129   \n",
       "autopgd                     0.762         0.764        0.132   \n",
       "bim                         0.784         0.781        0.135   \n",
       "cw                          0.791         0.791        0.112   \n",
       "fgsm                        0.739         0.746        0.133   \n",
       "pgd                         0.754         0.751        0.149   \n",
       "deepfool                    0.765         0.774        0.094   \n",
       "newtonfool                  0.770         0.770        0.112   \n",
       "squareattack                0.748         0.815        0.147   \n",
       "pixelattack                 0.089         0.089        0.781   \n",
       "spatialtransformation       0.519         0.537        0.114   \n",
       "\n",
       "                       spatialtransformation   all  \n",
       "autoattack                             0.345 0.664  \n",
       "autopgd                                0.367 0.660  \n",
       "bim                                    0.362 0.678  \n",
       "cw                                     0.398 0.681  \n",
       "fgsm                                   0.332 0.644  \n",
       "pgd                                    0.393 0.661  \n",
       "deepfool                               0.384 0.667  \n",
       "newtonfool                             0.349 0.658  \n",
       "squareattack                           0.355 0.632  \n",
       "pixelattack                            0.089 0.152  \n",
       "spatialtransformation                  0.811 0.495  "
      ]
     },
     "execution_count": 7,
     "metadata": {},
     "output_type": "execute_result"
    }
   ],
   "source": [
    "accs_transpose"
   ]
  },
  {
   "cell_type": "code",
   "execution_count": 8,
   "metadata": {},
   "outputs": [
    {
     "data": {
      "text/html": [
       "<div>\n",
       "<style scoped>\n",
       "    .dataframe tbody tr th:only-of-type {\n",
       "        vertical-align: middle;\n",
       "    }\n",
       "\n",
       "    .dataframe tbody tr th {\n",
       "        vertical-align: top;\n",
       "    }\n",
       "\n",
       "    .dataframe thead th {\n",
       "        text-align: right;\n",
       "    }\n",
       "</style>\n",
       "<table border=\"1\" class=\"dataframe\">\n",
       "  <thead>\n",
       "    <tr style=\"text-align: right;\">\n",
       "      <th></th>\n",
       "      <th>cw</th>\n",
       "      <th>bim</th>\n",
       "      <th>deepfool</th>\n",
       "      <th>autoattack</th>\n",
       "      <th>pgd</th>\n",
       "      <th>autopgd</th>\n",
       "      <th>newtonfool</th>\n",
       "      <th>fgsm</th>\n",
       "      <th>squareattack</th>\n",
       "      <th>spatialtransformation</th>\n",
       "      <th>pixelattack</th>\n",
       "      <th>all</th>\n",
       "    </tr>\n",
       "  </thead>\n",
       "  <tbody>\n",
       "    <tr>\n",
       "      <th>cw</th>\n",
       "      <td>0.803</td>\n",
       "      <td>0.761</td>\n",
       "      <td>0.791</td>\n",
       "      <td>0.762</td>\n",
       "      <td>0.760</td>\n",
       "      <td>0.765</td>\n",
       "      <td>0.791</td>\n",
       "      <td>0.760</td>\n",
       "      <td>0.791</td>\n",
       "      <td>0.398</td>\n",
       "      <td>0.112</td>\n",
       "      <td>0.681</td>\n",
       "    </tr>\n",
       "    <tr>\n",
       "      <th>bim</th>\n",
       "      <td>0.785</td>\n",
       "      <td>0.769</td>\n",
       "      <td>0.778</td>\n",
       "      <td>0.778</td>\n",
       "      <td>0.766</td>\n",
       "      <td>0.777</td>\n",
       "      <td>0.784</td>\n",
       "      <td>0.744</td>\n",
       "      <td>0.781</td>\n",
       "      <td>0.362</td>\n",
       "      <td>0.135</td>\n",
       "      <td>0.678</td>\n",
       "    </tr>\n",
       "    <tr>\n",
       "      <th>deepfool</th>\n",
       "      <td>0.779</td>\n",
       "      <td>0.753</td>\n",
       "      <td>0.770</td>\n",
       "      <td>0.764</td>\n",
       "      <td>0.753</td>\n",
       "      <td>0.764</td>\n",
       "      <td>0.765</td>\n",
       "      <td>0.741</td>\n",
       "      <td>0.774</td>\n",
       "      <td>0.384</td>\n",
       "      <td>0.094</td>\n",
       "      <td>0.667</td>\n",
       "    </tr>\n",
       "    <tr>\n",
       "      <th>autoattack</th>\n",
       "      <td>0.765</td>\n",
       "      <td>0.755</td>\n",
       "      <td>0.759</td>\n",
       "      <td>0.762</td>\n",
       "      <td>0.759</td>\n",
       "      <td>0.761</td>\n",
       "      <td>0.765</td>\n",
       "      <td>0.741</td>\n",
       "      <td>0.766</td>\n",
       "      <td>0.345</td>\n",
       "      <td>0.129</td>\n",
       "      <td>0.664</td>\n",
       "    </tr>\n",
       "    <tr>\n",
       "      <th>pgd</th>\n",
       "      <td>0.755</td>\n",
       "      <td>0.744</td>\n",
       "      <td>0.744</td>\n",
       "      <td>0.753</td>\n",
       "      <td>0.754</td>\n",
       "      <td>0.752</td>\n",
       "      <td>0.754</td>\n",
       "      <td>0.724</td>\n",
       "      <td>0.751</td>\n",
       "      <td>0.393</td>\n",
       "      <td>0.149</td>\n",
       "      <td>0.661</td>\n",
       "    </tr>\n",
       "    <tr>\n",
       "      <th>autopgd</th>\n",
       "      <td>0.757</td>\n",
       "      <td>0.739</td>\n",
       "      <td>0.755</td>\n",
       "      <td>0.751</td>\n",
       "      <td>0.748</td>\n",
       "      <td>0.751</td>\n",
       "      <td>0.762</td>\n",
       "      <td>0.732</td>\n",
       "      <td>0.764</td>\n",
       "      <td>0.367</td>\n",
       "      <td>0.132</td>\n",
       "      <td>0.660</td>\n",
       "    </tr>\n",
       "    <tr>\n",
       "      <th>newtonfool</th>\n",
       "      <td>0.765</td>\n",
       "      <td>0.750</td>\n",
       "      <td>0.757</td>\n",
       "      <td>0.744</td>\n",
       "      <td>0.749</td>\n",
       "      <td>0.744</td>\n",
       "      <td>0.770</td>\n",
       "      <td>0.732</td>\n",
       "      <td>0.770</td>\n",
       "      <td>0.349</td>\n",
       "      <td>0.112</td>\n",
       "      <td>0.658</td>\n",
       "    </tr>\n",
       "    <tr>\n",
       "      <th>fgsm</th>\n",
       "      <td>0.740</td>\n",
       "      <td>0.734</td>\n",
       "      <td>0.737</td>\n",
       "      <td>0.727</td>\n",
       "      <td>0.732</td>\n",
       "      <td>0.726</td>\n",
       "      <td>0.739</td>\n",
       "      <td>0.736</td>\n",
       "      <td>0.746</td>\n",
       "      <td>0.332</td>\n",
       "      <td>0.133</td>\n",
       "      <td>0.644</td>\n",
       "    </tr>\n",
       "    <tr>\n",
       "      <th>squareattack</th>\n",
       "      <td>0.752</td>\n",
       "      <td>0.696</td>\n",
       "      <td>0.688</td>\n",
       "      <td>0.692</td>\n",
       "      <td>0.682</td>\n",
       "      <td>0.693</td>\n",
       "      <td>0.748</td>\n",
       "      <td>0.680</td>\n",
       "      <td>0.815</td>\n",
       "      <td>0.355</td>\n",
       "      <td>0.147</td>\n",
       "      <td>0.632</td>\n",
       "    </tr>\n",
       "    <tr>\n",
       "      <th>spatialtransformation</th>\n",
       "      <td>0.519</td>\n",
       "      <td>0.494</td>\n",
       "      <td>0.498</td>\n",
       "      <td>0.488</td>\n",
       "      <td>0.496</td>\n",
       "      <td>0.487</td>\n",
       "      <td>0.519</td>\n",
       "      <td>0.485</td>\n",
       "      <td>0.537</td>\n",
       "      <td>0.811</td>\n",
       "      <td>0.114</td>\n",
       "      <td>0.495</td>\n",
       "    </tr>\n",
       "    <tr>\n",
       "      <th>pixelattack</th>\n",
       "      <td>0.089</td>\n",
       "      <td>0.089</td>\n",
       "      <td>0.089</td>\n",
       "      <td>0.089</td>\n",
       "      <td>0.089</td>\n",
       "      <td>0.089</td>\n",
       "      <td>0.089</td>\n",
       "      <td>0.089</td>\n",
       "      <td>0.089</td>\n",
       "      <td>0.089</td>\n",
       "      <td>0.781</td>\n",
       "      <td>0.152</td>\n",
       "    </tr>\n",
       "  </tbody>\n",
       "</table>\n",
       "</div>"
      ],
      "text/plain": [
       "                         cw   bim  deepfool  autoattack   pgd  autopgd  \\\n",
       "cw                    0.803 0.761     0.791       0.762 0.760    0.765   \n",
       "bim                   0.785 0.769     0.778       0.778 0.766    0.777   \n",
       "deepfool              0.779 0.753     0.770       0.764 0.753    0.764   \n",
       "autoattack            0.765 0.755     0.759       0.762 0.759    0.761   \n",
       "pgd                   0.755 0.744     0.744       0.753 0.754    0.752   \n",
       "autopgd               0.757 0.739     0.755       0.751 0.748    0.751   \n",
       "newtonfool            0.765 0.750     0.757       0.744 0.749    0.744   \n",
       "fgsm                  0.740 0.734     0.737       0.727 0.732    0.726   \n",
       "squareattack          0.752 0.696     0.688       0.692 0.682    0.693   \n",
       "spatialtransformation 0.519 0.494     0.498       0.488 0.496    0.487   \n",
       "pixelattack           0.089 0.089     0.089       0.089 0.089    0.089   \n",
       "\n",
       "                       newtonfool  fgsm  squareattack  spatialtransformation  \\\n",
       "cw                          0.791 0.760         0.791                  0.398   \n",
       "bim                         0.784 0.744         0.781                  0.362   \n",
       "deepfool                    0.765 0.741         0.774                  0.384   \n",
       "autoattack                  0.765 0.741         0.766                  0.345   \n",
       "pgd                         0.754 0.724         0.751                  0.393   \n",
       "autopgd                     0.762 0.732         0.764                  0.367   \n",
       "newtonfool                  0.770 0.732         0.770                  0.349   \n",
       "fgsm                        0.739 0.736         0.746                  0.332   \n",
       "squareattack                0.748 0.680         0.815                  0.355   \n",
       "spatialtransformation       0.519 0.485         0.537                  0.811   \n",
       "pixelattack                 0.089 0.089         0.089                  0.089   \n",
       "\n",
       "                       pixelattack   all  \n",
       "cw                           0.112 0.681  \n",
       "bim                          0.135 0.678  \n",
       "deepfool                     0.094 0.667  \n",
       "autoattack                   0.129 0.664  \n",
       "pgd                          0.149 0.661  \n",
       "autopgd                      0.132 0.660  \n",
       "newtonfool                   0.112 0.658  \n",
       "fgsm                         0.133 0.644  \n",
       "squareattack                 0.147 0.632  \n",
       "spatialtransformation        0.114 0.495  \n",
       "pixelattack                  0.781 0.152  "
      ]
     },
     "execution_count": 8,
     "metadata": {},
     "output_type": "execute_result"
    }
   ],
   "source": [
    "sorted_acc = accs_transpose.sort_values(by=\"all\", ascending=False)\n",
    "idx = list(sorted_acc.index)\n",
    "sorted_acc = sorted_acc.reindex(idx, axis=0)\n",
    "idx.append(\"all\")\n",
    "sorted_acc = sorted_acc.reindex(idx, axis=1)\n",
    "sorted_acc"
   ]
  },
  {
   "cell_type": "code",
   "execution_count": 9,
   "metadata": {},
   "outputs": [],
   "source": [
    "acc_val = get_accuracies(attacks, 1000)[0]\n",
    "acc_test = get_accuracies(attacks, None)[0]\n",
    "\n",
    "acc_val = acc_val.reindex(idx[:-1], axis=0)\n",
    "acc_val = acc_val.reindex(idx, axis=1)\n",
    "acc_test = acc_test.reindex(idx[:-1], axis=0)\n",
    "acc_test = acc_test.reindex(idx, axis=1)\n",
    "\n",
    "diff = abs(acc_val - acc_test)"
   ]
  },
  {
   "cell_type": "code",
   "execution_count": 10,
   "metadata": {},
   "outputs": [],
   "source": [
    "def plot_heatmap(metrics, cmap, fpath, vmin, vmax, annot=True): \n",
    "\n",
    "    df = pd.DataFrame(data=metrics)\n",
    "\n",
    "    plt.figure(figsize=(12,9))\n",
    "    fig = sns.heatmap(df, cmap=cmap, vmin=vmin, vmax=vmax, annot=annot, fmt=\".3f\", linewidth=0.7)\n",
    "#     fig.set(xlabel='Test', ylabel='Train', fontsize=18)\n",
    "    plt.xlabel('Test', fontsize=16)\n",
    "    plt.ylabel('Train', fontsize=16)\n",
    "    fig.figure.savefig(fpath, bbox_inches='tight')\n",
    "    plt.show()"
   ]
  },
  {
   "cell_type": "code",
   "execution_count": 11,
   "metadata": {},
   "outputs": [
    {
     "data": {
      "image/png": "[encoded data removed]",
      "text/plain": [
       "<Figure size 864x648 with 2 Axes>"
      ]
     },
     "metadata": {
      "needs_background": "light"
     },
     "output_type": "display_data"
    }
   ],
   "source": [
    "path = \"plot/at-accuracy-validation.png\"\n",
    "\n",
    "# Generate a custom diverging colormap\n",
    "cmap = sns.diverging_palette(h_neg=240, h_pos=0,s=75, l=50, n=1, as_cmap=True)\n",
    "plot_heatmap(sorted_acc.drop(columns=[\"all\"]), cmap, path, 0, 1)"
   ]
  },
  {
   "cell_type": "code",
   "execution_count": 12,
   "metadata": {},
   "outputs": [
    {
     "data": {
      "image/png": "[encoded data removed]",
      "text/plain": [
       "<Figure size 864x648 with 2 Axes>"
      ]
     },
     "metadata": {
      "needs_background": "light"
     },
     "output_type": "display_data"
    }
   ],
   "source": [
    "path = \"plot/at-diff-accuracy.png\"\n",
    "\n",
    "# cmap = sns.diverging_palette(h_neg=240, h_pos=0,s=75, l=50, n=1, as_cmap=True)\n",
    "cmap = \"gray_r\"\n",
    "plot_heatmap(abs(diff).drop(columns=[\"all\"]), cmap, path, 0, 1)"
   ]
  },
  {
   "cell_type": "code",
   "execution_count": 13,
   "metadata": {},
   "outputs": [],
   "source": [
    "# print(sorted_acc.to_latex(bold_rows=True))"
   ]
  },
  {
   "cell_type": "code",
   "execution_count": 14,
   "metadata": {},
   "outputs": [],
   "source": [
    "accs_transpose, accs = get_accuracies(attacks, None)"
   ]
  },
  {
   "cell_type": "code",
   "execution_count": 15,
   "metadata": {},
   "outputs": [
    {
     "data": {
      "text/plain": [
       "{0: ['autoattack',\n",
       "  'autopgd',\n",
       "  'bim',\n",
       "  'cw',\n",
       "  'fgsm',\n",
       "  'pgd',\n",
       "  'deepfool',\n",
       "  'newtonfool',\n",
       "  'squareattack'],\n",
       " 1: ['pixelattack'],\n",
       " 2: ['spatialtransformation']}"
      ]
     },
     "execution_count": 15,
     "metadata": {},
     "output_type": "execute_result"
    }
   ],
   "source": [
    "cluster = {0: ['autoattack', 'autopgd', 'bim', 'cw', 'fgsm', 'pgd', 'deepfool', 'newtonfool', 'squareattack'], 1: ['pixelattack'], 2: ['spatialtransformation']}\n",
    "cluster"
   ]
  },
  {
   "cell_type": "code",
   "execution_count": 16,
   "metadata": {},
   "outputs": [
    {
     "data": {
      "text/plain": [
       "['autoattack',\n",
       " 'autopgd',\n",
       " 'bim',\n",
       " 'cw',\n",
       " 'fgsm',\n",
       " 'pgd',\n",
       " 'deepfool',\n",
       " 'newtonfool',\n",
       " 'squareattack',\n",
       " 'pixelattack',\n",
       " 'spatialtransformation']"
      ]
     },
     "execution_count": 16,
     "metadata": {},
     "output_type": "execute_result"
    }
   ],
   "source": [
    "attacks"
   ]
  },
  {
   "cell_type": "code",
   "execution_count": 17,
   "metadata": {},
   "outputs": [],
   "source": [
    "# def measure_inter_similarity(arr) :\n",
    "\n",
    "def inter_similarity_the_same_train(arr) :\n",
    "    if len(arr) <= 1 :\n",
    "        return [0]\n",
    "    res = []\n",
    "    for i in range(len(arr)) :\n",
    "        x1 = arr[i]\n",
    "        for j in range(i+1, len(arr)) :\n",
    "            x2 = arr[j]\n",
    "            if x1 != x2 :\n",
    "                for train in attacks :\n",
    "                    val = abs(accs[train][x1] - accs[train][x2])\n",
    "                    res.append(val)\n",
    "    return res\n",
    "\n",
    "def inter_similarity_the_same_test(arr) :\n",
    "    if len(arr) <= 1 :\n",
    "        return [0]\n",
    "    res = []\n",
    "    for i in range(len(arr)) :\n",
    "        x1 = arr[i]\n",
    "        for j in range(i+1, len(arr)) :\n",
    "            x2 = arr[j]\n",
    "            if x1 != x2 :\n",
    "                for test in attacks :\n",
    "                    val = abs(accs[x1][test] - accs[x2][test])\n",
    "                    res.append(val)\n",
    "    return res\n",
    "\n"
   ]
  },
  {
   "cell_type": "code",
   "execution_count": 18,
   "metadata": {},
   "outputs": [
    {
     "data": {
      "text/plain": [
       "396"
      ]
     },
     "execution_count": 18,
     "metadata": {},
     "output_type": "execute_result"
    }
   ],
   "source": [
    "len(inter_similarity_the_same_train(cluster[0]))"
   ]
  },
  {
   "cell_type": "code",
   "execution_count": 19,
   "metadata": {},
   "outputs": [
    {
     "data": {
      "text/plain": [
       "396"
      ]
     },
     "execution_count": 19,
     "metadata": {},
     "output_type": "execute_result"
    }
   ],
   "source": [
    "len(inter_similarity_the_same_test(cluster[0]))"
   ]
  },
  {
   "cell_type": "code",
   "execution_count": 20,
   "metadata": {},
   "outputs": [],
   "source": [
    "data = {}\n",
    "data[\"inter_similarity_train\"] = inter_similarity_the_same_train(cluster[0])\n",
    "data[\"inter_similarity_test\"] = inter_similarity_the_same_test(cluster[0])"
   ]
  },
  {
   "cell_type": "code",
   "execution_count": 21,
   "metadata": {},
   "outputs": [],
   "source": [
    "def outer_difference_the_same_train(cluster) :\n",
    "    res = []\n",
    "    calculated = set()\n",
    "    for k1, v1 in cluster.items() :\n",
    "        for k2, v2 in cluster.items() :\n",
    "            if k1 != k2 :\n",
    "                for a1 in v1 : \n",
    "                    for a2 in v2 :\n",
    "                        idx = a1 + \"-\" + a2\n",
    "                        if idx not in calculated :\n",
    "                            for train in attacks :\n",
    "                                val = abs(accs[train][a1] - accs[train][a2])\n",
    "                                res.append(val)\n",
    "        \n",
    "                                calculated.add(idx)\n",
    "                                calculated.add(a2 + \"-\" + a1)\n",
    "    return res"
   ]
  },
  {
   "cell_type": "code",
   "execution_count": 23,
   "metadata": {},
   "outputs": [
    {
     "data": {
      "text/plain": [
       "209"
      ]
     },
     "execution_count": 23,
     "metadata": {},
     "output_type": "execute_result"
    }
   ],
   "source": [
    "len(outer_difference_the_same_train(cluster))"
   ]
  },
  {
   "cell_type": "code",
   "execution_count": 24,
   "metadata": {},
   "outputs": [],
   "source": [
    "def outer_difference_the_same_test(cluster) :\n",
    "    res = []\n",
    "    calculated = set()\n",
    "    for k1, v1 in cluster.items() :\n",
    "        for k2, v2 in cluster.items() :\n",
    "            if k1 != k2 :\n",
    "                for a1 in v1 : \n",
    "                    for a2 in v2 :\n",
    "                        idx = a1 + \"-\" + a2\n",
    "                        if idx not in calculated :\n",
    "                            for test in attacks :\n",
    "                                val = abs(accs[a1][test] - accs[a2][test])\n",
    "                                res.append(val)\n",
    "        \n",
    "                                calculated.add(idx)\n",
    "                                calculated.add(a2 + \"-\" + a1)\n",
    "    return res"
   ]
  },
  {
   "cell_type": "code",
   "execution_count": 25,
   "metadata": {},
   "outputs": [
    {
     "data": {
      "text/plain": [
       "209"
      ]
     },
     "execution_count": 25,
     "metadata": {},
     "output_type": "execute_result"
    }
   ],
   "source": [
    "len(outer_difference_the_same_test(cluster))"
   ]
  },
  {
   "cell_type": "code",
   "execution_count": 26,
   "metadata": {},
   "outputs": [],
   "source": [
    "data[\"outer_difference_train\"] = outer_difference_the_same_train(cluster)\n",
    "data[\"outer_difference_test\"] = outer_difference_the_same_test(cluster)"
   ]
  },
  {
   "cell_type": "code",
   "execution_count": 27,
   "metadata": {},
   "outputs": [
    {
     "data": {
      "image/png": "[encoded data removed]",
      "text/plain": [
       "<Figure size 864x648 with 1 Axes>"
      ]
     },
     "metadata": {
      "needs_background": "light"
     },
     "output_type": "display_data"
    }
   ],
   "source": [
    "fig, ax = plt.subplots(figsize=(12,9))\n",
    "ax.boxplot(data.values())\n",
    "ax.set_xticklabels(data.keys())\n",
    "fpath = \"plot/at-detail-similarity.png\"\n",
    "fig.savefig(fpath, bbox_inches='tight')"
   ]
  },
  {
   "cell_type": "code",
   "execution_count": null,
   "metadata": {},
   "outputs": [],
   "source": []
  }
 ],
 "metadata": {
  "kernelspec": {
   "display_name": "Python 3",
   "language": "python",
   "name": "python3"
  },
  "language_info": {
   "codemirror_mode": {
    "name": "ipython",
    "version": 3
   },
   "file_extension": ".py",
   "mimetype": "text/x-python",
   "name": "python",
   "nbconvert_exporter": "python",
   "pygments_lexer": "ipython3",
   "version": "3.7.7"
  }
 },
 "nbformat": 4,
 "nbformat_minor": 4
}
