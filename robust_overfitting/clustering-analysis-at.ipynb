{
 "cells": [
  {
   "cell_type": "markdown",
   "metadata": {},
   "source": [
    "# Cluster Analysis"
   ]
  },
  {
   "cell_type": "code",
   "execution_count": 1,
   "metadata": {},
   "outputs": [],
   "source": [
    "import pandas as pd\n",
    "import numpy as np\n",
    "import seaborn as sns\n",
    "import matplotlib.pyplot as plt\n",
    "%matplotlib inline\n",
    "from scipy.spatial import distance"
   ]
  },
  {
   "cell_type": "code",
   "execution_count": 2,
   "metadata": {},
   "outputs": [],
   "source": [
    "def load_data(train, test, fname) :\n",
    "    fpath = \"trained_models/{}/eval/{}/{}.txt\".format(train, test, fname)\n",
    "    return np.loadtxt(fpath).astype(np.int)\n",
    "\n",
    "train = \"autoattack\"\n",
    "test = \"pgd\"\n",
    "\n",
    "y_original = load_data(train, test, \"Y_original\")\n",
    "y_original_pred = load_data(train, test, \"Y_original_pred\")\n",
    "y_adv = load_data(train, test, \"Y_adv\")\n",
    "y_adv_pred = load_data(train, test, \"Y_adv_pred\")"
   ]
  },
  {
   "cell_type": "code",
   "execution_count": 3,
   "metadata": {},
   "outputs": [
    {
     "name": "stdout",
     "output_type": "stream",
     "text": [
      "Y_adv(pgd,autoattack): [3 8 8 ... 5 1 7]\n",
      "Y_adv_pred(pgd,autoattack): [3 8 0 ... 5 1 7]\n"
     ]
    }
   ],
   "source": [
    "def get_robust_data(train, test):\n",
    "    y_adv = load_data(train, test, \"Y_adv\")\n",
    "    y_adv_pred = load_data(train, test, \"Y_adv_pred\")\n",
    "    return y_adv, y_adv_pred\n",
    "\n",
    "train = \"pgd\"\n",
    "test = \"autoattack\"\n",
    "y_adv, y_adv_pred = get_robust_data(train, test)\n",
    "\n",
    "print(\"Y_adv({},{}): {}\".format(train, test, y_adv))\n",
    "print(\"Y_adv_pred({},{}): {}\".format(train, test, y_adv_pred))"
   ]
  },
  {
   "cell_type": "code",
   "execution_count": 4,
   "metadata": {},
   "outputs": [
    {
     "name": "stdout",
     "output_type": "stream",
     "text": [
      "Y_adv(fgsm,autopgd): [3 8 8 ... 5 1 7]\n",
      "Y_adv_pred(fgsm,autopgd): [3 8 8 ... 5 0 7]\n"
     ]
    }
   ],
   "source": [
    "train = \"fgsm\"\n",
    "test = \"autopgd\"\n",
    "y_adv, y_adv_pred = get_robust_data(train, test)\n",
    "\n",
    "print(\"Y_adv({},{}): {}\".format(train, test, y_adv))\n",
    "print(\"Y_adv_pred({},{}): {}\".format(train, test, y_adv_pred))"
   ]
  },
  {
   "cell_type": "code",
   "execution_count": 5,
   "metadata": {},
   "outputs": [],
   "source": [
    "attacks = [\"autoattack\", \"autopgd\", \"bim\", \"cw\", \"fgsm\", \"pgd\", \"deepfool\", \"newtonfool\", \"squareattack\", \"pixelattack\", \"spatialtransformation\"]\n",
    "\n",
    "attack_to_id = {}\n",
    "id_to_attack = {}\n",
    "for i in range(len(attacks)) :\n",
    "    attack_to_id[attacks[i]] = i\n",
    "    id_to_attack[i] = attacks[i]"
   ]
  },
  {
   "cell_type": "code",
   "execution_count": 6,
   "metadata": {},
   "outputs": [],
   "source": [
    "predictions = {}\n",
    "labels = {}\n",
    "\n",
    "for a1 in attacks :\n",
    "    p = np.array([])\n",
    "    l = np.array([])\n",
    "    for a2 in attacks :\n",
    "        y, y_pred = get_robust_data(a1, a2)\n",
    "        p = np.concatenate((p, y_pred))\n",
    "        l = np.concatenate((l, y))\n",
    "    predictions[a1] = p\n",
    "    labels[a1] = l"
   ]
  },
  {
   "cell_type": "code",
   "execution_count": 7,
   "metadata": {},
   "outputs": [
    {
     "data": {
      "text/plain": [
       "{'autoattack': array([5., 8., 0., ..., 5., 3., 7.]),\n",
       " 'autopgd': array([3., 8., 8., ..., 5., 1., 7.]),\n",
       " 'bim': array([3., 8., 0., ..., 8., 0., 7.]),\n",
       " 'cw': array([3., 8., 8., ..., 6., 3., 3.]),\n",
       " 'fgsm': array([3., 8., 8., ..., 6., 3., 3.]),\n",
       " 'pgd': array([3., 8., 0., ..., 3., 1., 7.]),\n",
       " 'deepfool': array([3., 8., 0., ..., 5., 5., 7.]),\n",
       " 'newtonfool': array([3., 8., 0., ..., 5., 0., 3.]),\n",
       " 'squareattack': array([3., 8., 0., ..., 6., 1., 7.]),\n",
       " 'pixelattack': array([3., 3., 3., ..., 3., 3., 3.]),\n",
       " 'spatialtransformation': array([6., 8., 9., ..., 5., 0., 7.])}"
      ]
     },
     "execution_count": 7,
     "metadata": {},
     "output_type": "execute_result"
    }
   ],
   "source": [
    "predictions"
   ]
  },
  {
   "cell_type": "code",
   "execution_count": 8,
   "metadata": {},
   "outputs": [
    {
     "data": {
      "text/plain": [
       "{'autoattack': array([3., 8., 8., ..., 5., 1., 7.]),\n",
       " 'autopgd': array([3., 8., 8., ..., 5., 1., 7.]),\n",
       " 'bim': array([3., 8., 8., ..., 5., 1., 7.]),\n",
       " 'cw': array([3., 8., 8., ..., 5., 1., 7.]),\n",
       " 'fgsm': array([3., 8., 8., ..., 5., 1., 7.]),\n",
       " 'pgd': array([3., 8., 8., ..., 5., 1., 7.]),\n",
       " 'deepfool': array([3., 8., 8., ..., 5., 1., 7.]),\n",
       " 'newtonfool': array([3., 8., 8., ..., 5., 1., 7.]),\n",
       " 'squareattack': array([3., 8., 8., ..., 5., 1., 7.]),\n",
       " 'pixelattack': array([3., 8., 8., ..., 5., 1., 7.]),\n",
       " 'spatialtransformation': array([3., 8., 8., ..., 5., 1., 7.])}"
      ]
     },
     "execution_count": 8,
     "metadata": {},
     "output_type": "execute_result"
    }
   ],
   "source": [
    "labels"
   ]
  },
  {
   "cell_type": "code",
   "execution_count": 9,
   "metadata": {},
   "outputs": [
    {
     "data": {
      "text/plain": [
       "[array([False,  True, False, ...,  True, False,  True]),\n",
       " array([ True,  True,  True, ...,  True,  True,  True]),\n",
       " array([ True,  True, False, ..., False, False,  True]),\n",
       " array([ True,  True,  True, ..., False, False, False]),\n",
       " array([ True,  True,  True, ..., False, False, False]),\n",
       " array([ True,  True, False, ..., False,  True,  True]),\n",
       " array([ True,  True, False, ...,  True, False,  True]),\n",
       " array([ True,  True, False, ...,  True, False, False]),\n",
       " array([ True,  True, False, ..., False,  True,  True]),\n",
       " array([ True, False, False, ..., False, False, False]),\n",
       " array([False,  True, False, ...,  True, False,  True])]"
      ]
     },
     "execution_count": 9,
     "metadata": {},
     "output_type": "execute_result"
    }
   ],
   "source": [
    "# compare the labels with the predictions\n",
    "\n",
    "accuracies = []\n",
    "for a in attacks :\n",
    "    accuracies.append(np.equal(predictions[a], labels[a]))\n",
    "accuracies"
   ]
  },
  {
   "cell_type": "code",
   "execution_count": null,
   "metadata": {},
   "outputs": [],
   "source": []
  },
  {
   "cell_type": "code",
   "execution_count": 10,
   "metadata": {},
   "outputs": [
    {
     "data": {
      "text/html": [
       "<div>\n",
       "<style scoped>\n",
       "    .dataframe tbody tr th:only-of-type {\n",
       "        vertical-align: middle;\n",
       "    }\n",
       "\n",
       "    .dataframe tbody tr th {\n",
       "        vertical-align: top;\n",
       "    }\n",
       "\n",
       "    .dataframe thead th {\n",
       "        text-align: right;\n",
       "    }\n",
       "</style>\n",
       "<table border=\"1\" class=\"dataframe\">\n",
       "  <thead>\n",
       "    <tr style=\"text-align: right;\">\n",
       "      <th></th>\n",
       "      <th>attack</th>\n",
       "      <th>accuracy</th>\n",
       "    </tr>\n",
       "  </thead>\n",
       "  <tbody>\n",
       "    <tr>\n",
       "      <th>0</th>\n",
       "      <td>autoattack</td>\n",
       "      <td>0.659273</td>\n",
       "    </tr>\n",
       "    <tr>\n",
       "      <th>1</th>\n",
       "      <td>autopgd</td>\n",
       "      <td>0.663255</td>\n",
       "    </tr>\n",
       "    <tr>\n",
       "      <th>2</th>\n",
       "      <td>bim</td>\n",
       "      <td>0.657736</td>\n",
       "    </tr>\n",
       "    <tr>\n",
       "      <th>3</th>\n",
       "      <td>cw</td>\n",
       "      <td>0.665755</td>\n",
       "    </tr>\n",
       "    <tr>\n",
       "      <th>4</th>\n",
       "      <td>fgsm</td>\n",
       "      <td>0.654273</td>\n",
       "    </tr>\n",
       "    <tr>\n",
       "      <th>5</th>\n",
       "      <td>pgd</td>\n",
       "      <td>0.660473</td>\n",
       "    </tr>\n",
       "    <tr>\n",
       "      <th>6</th>\n",
       "      <td>deepfool</td>\n",
       "      <td>0.665082</td>\n",
       "    </tr>\n",
       "    <tr>\n",
       "      <th>7</th>\n",
       "      <td>newtonfool</td>\n",
       "      <td>0.662709</td>\n",
       "    </tr>\n",
       "    <tr>\n",
       "      <th>8</th>\n",
       "      <td>squareattack</td>\n",
       "      <td>0.634409</td>\n",
       "    </tr>\n",
       "    <tr>\n",
       "      <th>9</th>\n",
       "      <td>pixelattack</td>\n",
       "      <td>0.160491</td>\n",
       "    </tr>\n",
       "    <tr>\n",
       "      <th>10</th>\n",
       "      <td>spatialtransformation</td>\n",
       "      <td>0.472800</td>\n",
       "    </tr>\n",
       "  </tbody>\n",
       "</table>\n",
       "</div>"
      ],
      "text/plain": [
       "                   attack  accuracy\n",
       "0              autoattack  0.659273\n",
       "1                 autopgd  0.663255\n",
       "2                     bim  0.657736\n",
       "3                      cw  0.665755\n",
       "4                    fgsm  0.654273\n",
       "5                     pgd  0.660473\n",
       "6                deepfool  0.665082\n",
       "7              newtonfool  0.662709\n",
       "8            squareattack  0.634409\n",
       "9             pixelattack  0.160491\n",
       "10  spatialtransformation  0.472800"
      ]
     },
     "execution_count": 10,
     "metadata": {},
     "output_type": "execute_result"
    }
   ],
   "source": [
    "accs = []\n",
    "for a in attacks :\n",
    "    tr = (labels[a] == predictions[a]).sum().item()\n",
    "    accs.append(tr / len(labels[a]))\n",
    "    \n",
    "accs = pd.DataFrame(data={\"attack\": attacks, \"accuracy\": accs})\n",
    "accs"
   ]
  },
  {
   "cell_type": "code",
   "execution_count": 11,
   "metadata": {},
   "outputs": [
    {
     "data": {
      "text/html": [
       "<div>\n",
       "<style scoped>\n",
       "    .dataframe tbody tr th:only-of-type {\n",
       "        vertical-align: middle;\n",
       "    }\n",
       "\n",
       "    .dataframe tbody tr th {\n",
       "        vertical-align: top;\n",
       "    }\n",
       "\n",
       "    .dataframe thead th {\n",
       "        text-align: right;\n",
       "    }\n",
       "</style>\n",
       "<table border=\"1\" class=\"dataframe\">\n",
       "  <thead>\n",
       "    <tr style=\"text-align: right;\">\n",
       "      <th></th>\n",
       "      <th>attack</th>\n",
       "      <th>accuracy</th>\n",
       "    </tr>\n",
       "  </thead>\n",
       "  <tbody>\n",
       "    <tr>\n",
       "      <th>0</th>\n",
       "      <td>cw</td>\n",
       "      <td>0.665755</td>\n",
       "    </tr>\n",
       "    <tr>\n",
       "      <th>1</th>\n",
       "      <td>deepfool</td>\n",
       "      <td>0.665082</td>\n",
       "    </tr>\n",
       "    <tr>\n",
       "      <th>2</th>\n",
       "      <td>autopgd</td>\n",
       "      <td>0.663255</td>\n",
       "    </tr>\n",
       "    <tr>\n",
       "      <th>3</th>\n",
       "      <td>newtonfool</td>\n",
       "      <td>0.662709</td>\n",
       "    </tr>\n",
       "    <tr>\n",
       "      <th>4</th>\n",
       "      <td>pgd</td>\n",
       "      <td>0.660473</td>\n",
       "    </tr>\n",
       "    <tr>\n",
       "      <th>5</th>\n",
       "      <td>autoattack</td>\n",
       "      <td>0.659273</td>\n",
       "    </tr>\n",
       "    <tr>\n",
       "      <th>6</th>\n",
       "      <td>bim</td>\n",
       "      <td>0.657736</td>\n",
       "    </tr>\n",
       "    <tr>\n",
       "      <th>7</th>\n",
       "      <td>fgsm</td>\n",
       "      <td>0.654273</td>\n",
       "    </tr>\n",
       "    <tr>\n",
       "      <th>8</th>\n",
       "      <td>squareattack</td>\n",
       "      <td>0.634409</td>\n",
       "    </tr>\n",
       "    <tr>\n",
       "      <th>9</th>\n",
       "      <td>spatialtransformation</td>\n",
       "      <td>0.472800</td>\n",
       "    </tr>\n",
       "    <tr>\n",
       "      <th>10</th>\n",
       "      <td>pixelattack</td>\n",
       "      <td>0.160491</td>\n",
       "    </tr>\n",
       "  </tbody>\n",
       "</table>\n",
       "</div>"
      ],
      "text/plain": [
       "                   attack  accuracy\n",
       "0                      cw  0.665755\n",
       "1                deepfool  0.665082\n",
       "2                 autopgd  0.663255\n",
       "3              newtonfool  0.662709\n",
       "4                     pgd  0.660473\n",
       "5              autoattack  0.659273\n",
       "6                     bim  0.657736\n",
       "7                    fgsm  0.654273\n",
       "8            squareattack  0.634409\n",
       "9   spatialtransformation  0.472800\n",
       "10            pixelattack  0.160491"
      ]
     },
     "execution_count": 11,
     "metadata": {},
     "output_type": "execute_result"
    }
   ],
   "source": [
    "sorted_acc = accs.sort_values(by=\"accuracy\", ascending=False).reset_index(drop=True)\n",
    "sorted_acc"
   ]
  },
  {
   "cell_type": "code",
   "execution_count": 12,
   "metadata": {},
   "outputs": [
    {
     "data": {
      "text/html": [
       "<div>\n",
       "<style scoped>\n",
       "    .dataframe tbody tr th:only-of-type {\n",
       "        vertical-align: middle;\n",
       "    }\n",
       "\n",
       "    .dataframe tbody tr th {\n",
       "        vertical-align: top;\n",
       "    }\n",
       "\n",
       "    .dataframe thead th {\n",
       "        text-align: right;\n",
       "    }\n",
       "</style>\n",
       "<table border=\"1\" class=\"dataframe\">\n",
       "  <thead>\n",
       "    <tr style=\"text-align: right;\">\n",
       "      <th></th>\n",
       "      <th>autoattack</th>\n",
       "      <th>autopgd</th>\n",
       "      <th>bim</th>\n",
       "      <th>cw</th>\n",
       "      <th>fgsm</th>\n",
       "      <th>pgd</th>\n",
       "      <th>deepfool</th>\n",
       "      <th>newtonfool</th>\n",
       "      <th>squareattack</th>\n",
       "      <th>pixelattack</th>\n",
       "      <th>spatialtransformation</th>\n",
       "    </tr>\n",
       "  </thead>\n",
       "  <tbody>\n",
       "    <tr>\n",
       "      <th>autoattack</th>\n",
       "      <td>1.000000</td>\n",
       "      <td>0.868603</td>\n",
       "      <td>0.864494</td>\n",
       "      <td>0.868137</td>\n",
       "      <td>0.862931</td>\n",
       "      <td>0.865291</td>\n",
       "      <td>0.870676</td>\n",
       "      <td>0.867915</td>\n",
       "      <td>0.840112</td>\n",
       "      <td>0.175429</td>\n",
       "      <td>0.658243</td>\n",
       "    </tr>\n",
       "    <tr>\n",
       "      <th>autopgd</th>\n",
       "      <td>0.868603</td>\n",
       "      <td>1.000000</td>\n",
       "      <td>0.865859</td>\n",
       "      <td>0.867907</td>\n",
       "      <td>0.865415</td>\n",
       "      <td>0.875532</td>\n",
       "      <td>0.866293</td>\n",
       "      <td>0.865854</td>\n",
       "      <td>0.844677</td>\n",
       "      <td>0.179778</td>\n",
       "      <td>0.673748</td>\n",
       "    </tr>\n",
       "    <tr>\n",
       "      <th>bim</th>\n",
       "      <td>0.864494</td>\n",
       "      <td>0.865859</td>\n",
       "      <td>1.000000</td>\n",
       "      <td>0.870867</td>\n",
       "      <td>0.857577</td>\n",
       "      <td>0.863915</td>\n",
       "      <td>0.865438</td>\n",
       "      <td>0.860088</td>\n",
       "      <td>0.841149</td>\n",
       "      <td>0.185259</td>\n",
       "      <td>0.654854</td>\n",
       "    </tr>\n",
       "    <tr>\n",
       "      <th>cw</th>\n",
       "      <td>0.868137</td>\n",
       "      <td>0.867907</td>\n",
       "      <td>0.870867</td>\n",
       "      <td>1.000000</td>\n",
       "      <td>0.860951</td>\n",
       "      <td>0.864894</td>\n",
       "      <td>0.870294</td>\n",
       "      <td>0.869742</td>\n",
       "      <td>0.849119</td>\n",
       "      <td>0.183890</td>\n",
       "      <td>0.654544</td>\n",
       "    </tr>\n",
       "    <tr>\n",
       "      <th>fgsm</th>\n",
       "      <td>0.862931</td>\n",
       "      <td>0.865415</td>\n",
       "      <td>0.857577</td>\n",
       "      <td>0.860951</td>\n",
       "      <td>1.000000</td>\n",
       "      <td>0.864913</td>\n",
       "      <td>0.867947</td>\n",
       "      <td>0.863701</td>\n",
       "      <td>0.834355</td>\n",
       "      <td>0.175088</td>\n",
       "      <td>0.661521</td>\n",
       "    </tr>\n",
       "    <tr>\n",
       "      <th>pgd</th>\n",
       "      <td>0.865291</td>\n",
       "      <td>0.875532</td>\n",
       "      <td>0.863915</td>\n",
       "      <td>0.864894</td>\n",
       "      <td>0.864913</td>\n",
       "      <td>1.000000</td>\n",
       "      <td>0.868170</td>\n",
       "      <td>0.865010</td>\n",
       "      <td>0.838913</td>\n",
       "      <td>0.175102</td>\n",
       "      <td>0.663810</td>\n",
       "    </tr>\n",
       "    <tr>\n",
       "      <th>deepfool</th>\n",
       "      <td>0.870676</td>\n",
       "      <td>0.866293</td>\n",
       "      <td>0.865438</td>\n",
       "      <td>0.870294</td>\n",
       "      <td>0.867947</td>\n",
       "      <td>0.868170</td>\n",
       "      <td>1.000000</td>\n",
       "      <td>0.874961</td>\n",
       "      <td>0.840185</td>\n",
       "      <td>0.175552</td>\n",
       "      <td>0.659058</td>\n",
       "    </tr>\n",
       "    <tr>\n",
       "      <th>newtonfool</th>\n",
       "      <td>0.867915</td>\n",
       "      <td>0.865854</td>\n",
       "      <td>0.860088</td>\n",
       "      <td>0.869742</td>\n",
       "      <td>0.863701</td>\n",
       "      <td>0.865010</td>\n",
       "      <td>0.874961</td>\n",
       "      <td>1.000000</td>\n",
       "      <td>0.839178</td>\n",
       "      <td>0.175587</td>\n",
       "      <td>0.658580</td>\n",
       "    </tr>\n",
       "    <tr>\n",
       "      <th>squareattack</th>\n",
       "      <td>0.840112</td>\n",
       "      <td>0.844677</td>\n",
       "      <td>0.841149</td>\n",
       "      <td>0.849119</td>\n",
       "      <td>0.834355</td>\n",
       "      <td>0.838913</td>\n",
       "      <td>0.840185</td>\n",
       "      <td>0.839178</td>\n",
       "      <td>1.000000</td>\n",
       "      <td>0.187751</td>\n",
       "      <td>0.658303</td>\n",
       "    </tr>\n",
       "    <tr>\n",
       "      <th>pixelattack</th>\n",
       "      <td>0.175429</td>\n",
       "      <td>0.179778</td>\n",
       "      <td>0.185259</td>\n",
       "      <td>0.183890</td>\n",
       "      <td>0.175088</td>\n",
       "      <td>0.175102</td>\n",
       "      <td>0.175552</td>\n",
       "      <td>0.175587</td>\n",
       "      <td>0.187751</td>\n",
       "      <td>1.000000</td>\n",
       "      <td>0.164615</td>\n",
       "    </tr>\n",
       "    <tr>\n",
       "      <th>spatialtransformation</th>\n",
       "      <td>0.658243</td>\n",
       "      <td>0.673748</td>\n",
       "      <td>0.654854</td>\n",
       "      <td>0.654544</td>\n",
       "      <td>0.661521</td>\n",
       "      <td>0.663810</td>\n",
       "      <td>0.659058</td>\n",
       "      <td>0.658580</td>\n",
       "      <td>0.658303</td>\n",
       "      <td>0.164615</td>\n",
       "      <td>1.000000</td>\n",
       "    </tr>\n",
       "  </tbody>\n",
       "</table>\n",
       "</div>"
      ],
      "text/plain": [
       "                       autoattack   autopgd       bim        cw      fgsm  \\\n",
       "autoattack               1.000000  0.868603  0.864494  0.868137  0.862931   \n",
       "autopgd                  0.868603  1.000000  0.865859  0.867907  0.865415   \n",
       "bim                      0.864494  0.865859  1.000000  0.870867  0.857577   \n",
       "cw                       0.868137  0.867907  0.870867  1.000000  0.860951   \n",
       "fgsm                     0.862931  0.865415  0.857577  0.860951  1.000000   \n",
       "pgd                      0.865291  0.875532  0.863915  0.864894  0.864913   \n",
       "deepfool                 0.870676  0.866293  0.865438  0.870294  0.867947   \n",
       "newtonfool               0.867915  0.865854  0.860088  0.869742  0.863701   \n",
       "squareattack             0.840112  0.844677  0.841149  0.849119  0.834355   \n",
       "pixelattack              0.175429  0.179778  0.185259  0.183890  0.175088   \n",
       "spatialtransformation    0.658243  0.673748  0.654854  0.654544  0.661521   \n",
       "\n",
       "                            pgd  deepfool  newtonfool  squareattack  \\\n",
       "autoattack             0.865291  0.870676    0.867915      0.840112   \n",
       "autopgd                0.875532  0.866293    0.865854      0.844677   \n",
       "bim                    0.863915  0.865438    0.860088      0.841149   \n",
       "cw                     0.864894  0.870294    0.869742      0.849119   \n",
       "fgsm                   0.864913  0.867947    0.863701      0.834355   \n",
       "pgd                    1.000000  0.868170    0.865010      0.838913   \n",
       "deepfool               0.868170  1.000000    0.874961      0.840185   \n",
       "newtonfool             0.865010  0.874961    1.000000      0.839178   \n",
       "squareattack           0.838913  0.840185    0.839178      1.000000   \n",
       "pixelattack            0.175102  0.175552    0.175587      0.187751   \n",
       "spatialtransformation  0.663810  0.659058    0.658580      0.658303   \n",
       "\n",
       "                       pixelattack  spatialtransformation  \n",
       "autoattack                0.175429               0.658243  \n",
       "autopgd                   0.179778               0.673748  \n",
       "bim                       0.185259               0.654854  \n",
       "cw                        0.183890               0.654544  \n",
       "fgsm                      0.175088               0.661521  \n",
       "pgd                       0.175102               0.663810  \n",
       "deepfool                  0.175552               0.659058  \n",
       "newtonfool                0.175587               0.658580  \n",
       "squareattack              0.187751               0.658303  \n",
       "pixelattack               1.000000               0.164615  \n",
       "spatialtransformation     0.164615               1.000000  "
      ]
     },
     "execution_count": 12,
     "metadata": {},
     "output_type": "execute_result"
    }
   ],
   "source": [
    "# measure cosine simmilarity\n",
    "def cosine_simmilarity(l1, l2):\n",
    "    return 1 - distance.cosine(l1, l2)\n",
    "\n",
    "# selected_attacks = [\"autoattack\", \"autopgd\", \"bim\", \"cw\", \"fgsm\", \"pgd\", \"deepfool\", \"newtonfool\", \"squareattack\"] \n",
    "selected_attacks = attacks\n",
    "\n",
    "sim = {}\n",
    "for a1 in selected_attacks :\n",
    "    s = {}\n",
    "    for a2 in selected_attacks :\n",
    "        acc1 = np.equal(predictions[a1], labels[a1])\n",
    "        acc2 = np.equal(predictions[a2], labels[a2])   \n",
    "        s[a2] = cosine_simmilarity(acc1, acc2)\n",
    "#         s[a2] = cosine_simmilarity(predictions[a1], predictions[a2])\n",
    "    sim[a1] = s\n",
    "\n",
    "sim = pd.DataFrame(data=sim)\n",
    "sim"
   ]
  },
  {
   "cell_type": "code",
   "execution_count": 19,
   "metadata": {},
   "outputs": [
    {
     "data": {
      "image/png": "[encoded data removed]",
      "text/plain": [
       "<Figure size 864x648 with 1 Axes>"
      ]
     },
     "metadata": {},
     "output_type": "display_data"
    }
   ],
   "source": [
    "def plot_half_heatmap(data, cmap, path) :\n",
    "    sns.set_theme(style=\"white\")\n",
    "\n",
    "    # Generate a mask for the upper triangle\n",
    "    mask = np.triu(np.ones_like(data, dtype=bool))\n",
    "\n",
    "    # Set up the matplotlib figure\n",
    "    f, ax = plt.subplots(figsize=(12, 9))\n",
    "\n",
    "    # Draw the heatmap with the mask and correct aspect ratio\n",
    "    f = sns.heatmap(data, mask=mask, cmap=cmap, vmax=1, center=0,\n",
    "                square=True, linewidths=.5, cbar=False, annot=True)\n",
    "    f.figure.savefig(path, bbox_inches='tight')\n",
    "\n",
    "\n",
    "# Generate a custom diverging colormap\n",
    "cmap = sns.diverging_palette(h_neg=240, h_pos=0,s=75, l=50, n=1, as_cmap=True)\n",
    "\n",
    "path = \"plot/rq1-sim.png\"\n",
    "\n",
    "plot_half_heatmap(sim, cmap, path)"
   ]
  },
  {
   "cell_type": "code",
   "execution_count": 20,
   "metadata": {},
   "outputs": [
    {
     "name": "stderr",
     "output_type": "stream",
     "text": [
      "/opt/conda/lib/python3.7/site-packages/ipykernel_launcher.py:2: ClusterWarning: scipy.cluster: The symmetric non-negative hollow observation matrix looks suspiciously like an uncondensed distance matrix\n",
      "  \n"
     ]
    },
    {
     "data": {
      "image/png": "[encoded data removed]",
      "text/plain": [
       "<Figure size 432x288 with 1 Axes>"
      ]
     },
     "metadata": {},
     "output_type": "display_data"
    }
   ],
   "source": [
    "import scipy.cluster.hierarchy as hcluster\n",
    "linkage = hcluster.linkage(1-sim)\n",
    "dendro_label = selected_attacks\n",
    "# dendro_label = sim.columns\n",
    "dendro  = hcluster.dendrogram(linkage, labels=dendro_label, orientation=\"right\")"
   ]
  },
  {
   "cell_type": "code",
   "execution_count": 22,
   "metadata": {},
   "outputs": [
    {
     "data": {
      "text/plain": [
       "'pixelattack'"
      ]
     },
     "execution_count": 22,
     "metadata": {},
     "output_type": "execute_result"
    }
   ],
   "source": [
    "# cluster = [\"autoattack\", \"autopgd\", \"bim\", \"cw\", \"fgsm\", \"pgd\", \"deepfool\", \"newtonfool\", \"squareattack\", \"pixelattack\"]\n",
    "# cluster = [\"autoattack\", \"autopgd\", \"bim\", \"cw\", \"fgsm\", \"pgd\", \"deepfool\", \"newtonfool\", \"squareattack\"]\n",
    "# cluster = [\"autoattack\", \"autopgd\", \"bim\", \"pgd\"]\n",
    "cluster = [\"pixelattack\", \"spatialtransformation\"]\n",
    "\n",
    "def get_centroid(cluster, sim) :\n",
    "    val = {}\n",
    "    for c in cluster :\n",
    "        val[c] = 0\n",
    "        for c2 in cluster :\n",
    "            val[c] += sim[c][c2]\n",
    "    max_dist = val[cluster[0]]\n",
    "    idx = cluster[0]\n",
    "    for c in cluster :\n",
    "#         print(c, \": \", val[c])\n",
    "        if val[c] > max_dist :\n",
    "            max_dist = val[c]\n",
    "            idx = c\n",
    "    return idx\n",
    "            \n",
    "get_centroid(cluster, sim)"
   ]
  },
  {
   "cell_type": "markdown",
   "metadata": {},
   "source": [
    "## Try Clustering on Original Features"
   ]
  },
  {
   "cell_type": "code",
   "execution_count": 23,
   "metadata": {},
   "outputs": [
    {
     "name": "stdout",
     "output_type": "stream",
     "text": [
      "[0 0 0 1 1 1]\n",
      "[0 0 0 1 1 1]\n"
     ]
    },
    {
     "name": "stderr",
     "output_type": "stream",
     "text": [
      "/opt/conda/lib/python3.7/site-packages/sklearn/neighbors/_base.py:176: EfficiencyWarning: Precomputed sparse input was not sorted by data.\n",
      "  EfficiencyWarning)\n"
     ]
    }
   ],
   "source": [
    "## Example from\n",
    "# https://stackoverflow.com/questions/53194672/sklearn-dbscan-cosine-vs-precomputed\n",
    "\n",
    "from sklearn.cluster import DBSCAN\n",
    "from sklearn.metrics import pairwise_distances\n",
    "from sklearn.feature_extraction.text import TfidfVectorizer\n",
    "\n",
    "from scipy import sparse\n",
    "\n",
    "def cluster(X, metric=\"cosine\"):\n",
    "    cluster = DBSCAN(\n",
    "        eps=0.5,\n",
    "        min_samples=3,\n",
    "        metric=metric,\n",
    "        algorithm=\"brute\"\n",
    "    )\n",
    "\n",
    "    cluster.fit_predict(X)\n",
    "\n",
    "    return cluster\n",
    "\n",
    "sentences = [\n",
    "    \"annuler ma commande\",\n",
    "    \"commande à annuler\",\n",
    "    \"merci de bien vouloir annuler ma commande\",\n",
    "    \"produits cassés\",\n",
    "    \"mes produits sont cassés\",\n",
    "    \"ma commande de produits cassés\"\n",
    "]\n",
    "\n",
    "vectorizer = TfidfVectorizer()\n",
    "tfidfs = vectorizer.fit_transform(sentences)\n",
    "distance_matrix = pairwise_distances(tfidfs, tfidfs, metric='cosine')\n",
    "\n",
    "doc_id_to_cluster_1 = cluster(tfidfs, \"cosine\").labels_\n",
    "doc_id_to_cluster_2 = cluster(sparse.csr_matrix(distance_matrix), \"precomputed\").labels_\n",
    "\n",
    "print(doc_id_to_cluster_1)\n",
    "print(doc_id_to_cluster_2)"
   ]
  },
  {
   "cell_type": "code",
   "execution_count": 24,
   "metadata": {},
   "outputs": [
    {
     "name": "stdout",
     "output_type": "stream",
     "text": [
      "Label : [0 0 0 0 0 0 0 0 0 1 2]\n",
      "Silhouette Coefficient: 0.598\n"
     ]
    }
   ],
   "source": [
    "from sklearn.cluster import DBSCAN\n",
    "from sklearn import metrics\n",
    "\n",
    "def cluster(X, metric=\"cosine\"):\n",
    "    cluster = DBSCAN(\n",
    "        eps=0.2,\n",
    "        min_samples=1,\n",
    "        metric=metric,\n",
    "        algorithm=\"brute\"\n",
    "    )\n",
    "\n",
    "    cluster.fit_predict(X)\n",
    "\n",
    "    return cluster\n",
    "\n",
    "labels = cluster(1-sim, \"precomputed\").labels_\n",
    "\n",
    "print(\"Label :\", labels)\n",
    "print(\"Silhouette Coefficient: %0.3f\"\n",
    "      % metrics.silhouette_score(1-sim, labels))"
   ]
  },
  {
   "cell_type": "code",
   "execution_count": 25,
   "metadata": {},
   "outputs": [
    {
     "name": "stdout",
     "output_type": "stream",
     "text": [
      "Label : [0 0 0 0 0 0 0 0 0 1 0]\n",
      "Silhouette Coefficient: 0.780\n"
     ]
    }
   ],
   "source": [
    "from sklearn.cluster import AgglomerativeClustering\n",
    "\n",
    "cluster = AgglomerativeClustering(affinity=\"precomputed\", linkage='average')\n",
    "labels = cluster.fit_predict(1-sim)\n",
    "\n",
    "print(\"Label :\", labels)\n",
    "print(\"Silhouette Coefficient: %0.3f\"\n",
    "      % metrics.silhouette_score(1-sim, labels))"
   ]
  },
  {
   "cell_type": "code",
   "execution_count": 26,
   "metadata": {},
   "outputs": [
    {
     "name": "stdout",
     "output_type": "stream",
     "text": [
      "Label : [0 0 0 0 0 0 0 0 0 0 0]\n"
     ]
    },
    {
     "name": "stderr",
     "output_type": "stream",
     "text": [
      "/opt/conda/lib/python3.7/site-packages/sklearn/cluster/_affinity_propagation.py:154: FutureWarning: 'random_state' has been introduced in 0.23. It will be set to None starting from 1.0 (renaming of 0.25) which means that results will differ at every function call. Set 'random_state' to None to silence this warning, or to 0 to keep the behavior of versions <0.23.\n",
      "  FutureWarning\n"
     ]
    }
   ],
   "source": [
    "from sklearn.cluster import AffinityPropagation\n",
    "\n",
    "cluster = AffinityPropagation(affinity=\"precomputed\")\n",
    "labels = cluster.fit_predict(1-sim)\n",
    "\n",
    "print(\"Label :\", labels)\n",
    "# print(\"Silhouette Coefficient: %0.3f\"\n",
    "#       % metrics.silhouette_score(1-sim, labels))"
   ]
  },
  {
   "cell_type": "code",
   "execution_count": 27,
   "metadata": {},
   "outputs": [
    {
     "data": {
      "text/plain": [
       "{0: ['autoattack',\n",
       "  'autopgd',\n",
       "  'bim',\n",
       "  'cw',\n",
       "  'fgsm',\n",
       "  'pgd',\n",
       "  'deepfool',\n",
       "  'newtonfool',\n",
       "  'squareattack',\n",
       "  'pixelattack',\n",
       "  'spatialtransformation']}"
      ]
     },
     "execution_count": 27,
     "metadata": {},
     "output_type": "execute_result"
    }
   ],
   "source": [
    "def get_cluster(labels, attacks) :\n",
    "    cls = {}\n",
    "    for l, a in zip(labels, attacks) :\n",
    "        if l not in cls.keys() :\n",
    "            cls[l] = []\n",
    "        cls[l].append(a)\n",
    "    return cls\n",
    "\n",
    "get_cluster(labels, attacks)"
   ]
  },
  {
   "cell_type": "code",
   "execution_count": 28,
   "metadata": {},
   "outputs": [
    {
     "data": {
      "text/plain": [
       "{0: 'autopgd'}"
      ]
     },
     "execution_count": 28,
     "metadata": {},
     "output_type": "execute_result"
    }
   ],
   "source": [
    "def get_centroids(clusters) :\n",
    "    cs = {}\n",
    "    for k in clusters.keys() :\n",
    "        cs[k] = get_centroid(clusters[k], sim)\n",
    "    return cs\n",
    "\n",
    "get_centroids(get_cluster(labels, sim))"
   ]
  },
  {
   "cell_type": "code",
   "execution_count": 29,
   "metadata": {},
   "outputs": [
    {
     "name": "stdout",
     "output_type": "stream",
     "text": [
      "\n",
      "N cluster :  2\n",
      "Silhouette Coefficient: 0.338\n",
      "Label :  [1 1 1 1 1 1 1 1 1 0 0]\n",
      "Cluster :  {1: ['autoattack', 'autopgd', 'bim', 'cw', 'fgsm', 'pgd', 'deepfool', 'newtonfool', 'squareattack'], 0: ['pixelattack', 'spatialtransformation']}\n",
      "Centroid :  {1: 'deepfool', 0: 'pixelattack'}\n",
      "Combined:  pixelattack_deepfool\n",
      "\n",
      "N cluster :  3\n",
      "Silhouette Coefficient: 0.261\n",
      "Label :  [0 0 0 0 0 0 0 0 0 1 2]\n",
      "Cluster :  {0: ['autoattack', 'autopgd', 'bim', 'cw', 'fgsm', 'pgd', 'deepfool', 'newtonfool', 'squareattack'], 1: ['pixelattack'], 2: ['spatialtransformation']}\n",
      "Centroid :  {0: 'deepfool', 1: 'pixelattack', 2: 'spatialtransformation'}\n",
      "Combined:  deepfool_pixelattack_spatialtransformation\n",
      "\n",
      "N cluster :  4\n",
      "Silhouette Coefficient: 0.055\n",
      "Label :  [0 0 0 0 0 0 0 0 3 1 2]\n",
      "Cluster :  {0: ['autoattack', 'autopgd', 'bim', 'cw', 'fgsm', 'pgd', 'deepfool', 'newtonfool'], 3: ['squareattack'], 1: ['pixelattack'], 2: ['spatialtransformation']}\n",
      "Centroid :  {0: 'deepfool', 3: 'squareattack', 1: 'pixelattack', 2: 'spatialtransformation'}\n",
      "Combined:  deepfool_pixelattack_spatialtransformation_squareattack\n",
      "\n",
      "N cluster :  5\n",
      "Silhouette Coefficient: 0.009\n",
      "Label :  [3 3 0 0 3 3 3 3 4 2 1]\n",
      "Cluster :  {3: ['autoattack', 'autopgd', 'fgsm', 'pgd', 'deepfool', 'newtonfool'], 0: ['bim', 'cw'], 4: ['squareattack'], 2: ['pixelattack'], 1: ['spatialtransformation']}\n",
      "Centroid :  {3: 'deepfool', 0: 'bim', 4: 'squareattack', 2: 'pixelattack', 1: 'spatialtransformation'}\n",
      "Combined:  bim_spatialtransformation_pixelattack_deepfool_squareattack\n",
      "\n",
      "N cluster :  6\n",
      "Silhouette Coefficient: 0.012\n",
      "Label :  [3 0 2 2 3 0 3 3 5 1 4]\n",
      "Cluster :  {3: ['autoattack', 'fgsm', 'deepfool', 'newtonfool'], 0: ['autopgd', 'pgd'], 2: ['bim', 'cw'], 5: ['squareattack'], 1: ['pixelattack'], 4: ['spatialtransformation']}\n",
      "Centroid :  {3: 'deepfool', 0: 'autopgd', 2: 'bim', 5: 'squareattack', 1: 'pixelattack', 4: 'spatialtransformation'}\n",
      "Combined:  autopgd_pixelattack_bim_deepfool_spatialtransformation_squareattack\n",
      "\n",
      "N cluster :  7\n",
      "Silhouette Coefficient: 0.013\n",
      "Label :  [4 3 6 6 0 3 4 4 2 1 5]\n",
      "Cluster :  {4: ['autoattack', 'deepfool', 'newtonfool'], 3: ['autopgd', 'pgd'], 6: ['bim', 'cw'], 0: ['fgsm'], 2: ['squareattack'], 1: ['pixelattack'], 5: ['spatialtransformation']}\n",
      "Centroid :  {4: 'deepfool', 3: 'autopgd', 6: 'bim', 0: 'fgsm', 2: 'squareattack', 1: 'pixelattack', 5: 'spatialtransformation'}\n",
      "Combined:  fgsm_pixelattack_squareattack_autopgd_deepfool_spatialtransformation_bim\n",
      "\n",
      "N cluster :  8\n",
      "Silhouette Coefficient: 0.012\n",
      "Label :  [7 0 2 2 6 0 4 4 5 1 3]\n",
      "Cluster :  {7: ['autoattack'], 0: ['autopgd', 'pgd'], 2: ['bim', 'cw'], 6: ['fgsm'], 4: ['deepfool', 'newtonfool'], 5: ['squareattack'], 1: ['pixelattack'], 3: ['spatialtransformation']}\n",
      "Centroid :  {7: 'autoattack', 0: 'autopgd', 2: 'bim', 6: 'fgsm', 4: 'deepfool', 5: 'squareattack', 1: 'pixelattack', 3: 'spatialtransformation'}\n",
      "Combined:  autopgd_pixelattack_bim_spatialtransformation_deepfool_squareattack_fgsm_autoattack\n",
      "\n",
      "N cluster :  9\n",
      "Silhouette Coefficient: 0.009\n",
      "Label :  [7 0 8 2 6 0 4 4 5 1 3]\n",
      "Cluster :  {7: ['autoattack'], 0: ['autopgd', 'pgd'], 8: ['bim'], 2: ['cw'], 6: ['fgsm'], 4: ['deepfool', 'newtonfool'], 5: ['squareattack'], 1: ['pixelattack'], 3: ['spatialtransformation']}\n",
      "Centroid :  {7: 'autoattack', 0: 'autopgd', 8: 'bim', 2: 'cw', 6: 'fgsm', 4: 'deepfool', 5: 'squareattack', 1: 'pixelattack', 3: 'spatialtransformation'}\n",
      "Combined:  autopgd_pixelattack_cw_spatialtransformation_deepfool_squareattack_fgsm_autoattack_bim\n"
     ]
    }
   ],
   "source": [
    "from sklearn.cluster import KMeans\n",
    "\n",
    "for i in range(2, 10) :\n",
    "    kmeans = KMeans(n_clusters=i, random_state=0).fit(accuracies)\n",
    "    labels = kmeans.labels_\n",
    "    print()\n",
    "    print(\"N cluster : \", i)\n",
    "    print(\"Silhouette Coefficient: %0.3f\"\n",
    "      % metrics.silhouette_score(accuracies, labels))\n",
    "    print(\"Label : \", labels)\n",
    "    print(\"Cluster : \", get_cluster(labels, attacks))\n",
    "    centroids = get_centroids(get_cluster(labels, attacks))\n",
    "    print(\"Centroid : \", centroids)\n",
    "    comb_str = \"\"\n",
    "    for j in range(i) :\n",
    "        comb_str += centroids[j]\n",
    "        if j != i-1 :\n",
    "            comb_str += \"_\"\n",
    "        \n",
    "    print(\"Combined: \", comb_str)"
   ]
  },
  {
   "cell_type": "markdown",
   "metadata": {},
   "source": [
    "## Elbow score\n",
    "Source: https://towardsdatascience.com/explaining-k-means-clustering-5298dc47bad6"
   ]
  },
  {
   "cell_type": "code",
   "execution_count": 30,
   "metadata": {},
   "outputs": [
    {
     "data": {
      "text/plain": [
       "Text(0, 0.5, 'Inertia')"
      ]
     },
     "execution_count": 30,
     "metadata": {},
     "output_type": "execute_result"
    },
    {
     "data": {
      "image/png": "[encoded data removed]",
      "text/plain": [
       "<Figure size 864x432 with 1 Axes>"
      ]
     },
     "metadata": {},
     "output_type": "display_data"
    }
   ],
   "source": [
    "sse = []\n",
    "k_list = range(2, 10)\n",
    "for k in k_list :\n",
    "    km = KMeans(n_clusters=i, random_state=0)\n",
    "    km.fit(accuracies)\n",
    "    sse.append([k, km.inertia_])\n",
    "    \n",
    "oca_results_scale = pd.DataFrame({'Cluster': k_list, 'SSE': sse})\n",
    "plt.figure(figsize=(12,6))\n",
    "plt.plot(pd.DataFrame(sse)[0], pd.DataFrame(sse)[1], marker='o')\n",
    "plt.title('Optimal Number of Clusters using Elbow Method (Scaled Data)')\n",
    "plt.xlabel('Number of clusters')\n",
    "plt.ylabel('Inertia')"
   ]
  },
  {
   "cell_type": "code",
   "execution_count": 31,
   "metadata": {},
   "outputs": [
    {
     "name": "stdout",
     "output_type": "stream",
     "text": [
      "\n",
      "N cluster :  2\n",
      "Label :  [0 0 0 0 0 0 0 0 0 1 0]\n",
      "Silhouette Coefficient: 0.392\n",
      "\n",
      "N cluster :  3\n",
      "Label :  [0 0 0 0 0 0 0 0 0 1 2]\n",
      "Silhouette Coefficient: 0.261\n",
      "\n",
      "N cluster :  4\n",
      "Label :  [0 0 0 0 0 0 0 0 3 1 2]\n",
      "Silhouette Coefficient: 0.055\n",
      "\n",
      "N cluster :  5\n",
      "Label :  [0 0 0 0 4 0 0 0 3 1 2]\n",
      "Silhouette Coefficient: 0.008\n",
      "\n",
      "N cluster :  6\n",
      "Label :  [0 0 2 2 4 0 0 0 3 1 5]\n",
      "Silhouette Coefficient: 0.007\n",
      "\n",
      "N cluster :  7\n",
      "Label :  [0 6 2 2 4 6 0 0 3 1 5]\n",
      "Silhouette Coefficient: 0.013\n",
      "\n",
      "N cluster :  8\n",
      "Label :  [7 6 0 0 4 6 2 2 3 1 5]\n",
      "Silhouette Coefficient: 0.012\n",
      "\n",
      "N cluster :  9\n",
      "Label :  [7 2 8 6 4 2 0 0 3 1 5]\n",
      "Silhouette Coefficient: 0.009\n"
     ]
    }
   ],
   "source": [
    "from sklearn.cluster import AgglomerativeClustering\n",
    "\n",
    "for i in range(2, 10) :\n",
    "    cluster = AgglomerativeClustering(n_clusters=i, affinity=\"manhattan\", linkage=\"average\").fit(accuracies)\n",
    "    labels = cluster.labels_\n",
    "    print()\n",
    "    print(\"N cluster : \", i)\n",
    "    print(\"Label : \", labels)\n",
    "    print(\"Silhouette Coefficient: %0.3f\"\n",
    "      % metrics.silhouette_score(accuracies, labels))"
   ]
  },
  {
   "cell_type": "markdown",
   "metadata": {},
   "source": [
    "### Dimensionality Reduction using PCA\n",
    "source: https://towardsdatascience.com/explaining-k-means-clustering-5298dc47bad6"
   ]
  },
  {
   "cell_type": "code",
   "execution_count": 33,
   "metadata": {},
   "outputs": [],
   "source": [
    "import pandas as pd\n",
    "import numpy as np\n",
    "import matplotlib.pyplot as plt\n",
    "from mpl_toolkits.mplot3d import Axes3D\n",
    "import seaborn as sns\n",
    "from sklearn.cluster import KMeans\n",
    "from sklearn.preprocessing import StandardScaler\n",
    "from sklearn.decomposition import PCA\n",
    "from sklearn.manifold import TSNE\n",
    "from sklearn.metrics import silhouette_score"
   ]
  },
  {
   "cell_type": "code",
   "execution_count": 34,
   "metadata": {},
   "outputs": [
    {
     "name": "stdout",
     "output_type": "stream",
     "text": [
      "[0.38973022 0.13795608]\n"
     ]
    }
   ],
   "source": [
    "from sklearn.decomposition import PCA\n",
    "\n",
    "n_components = 2\n",
    "columns = [\"pc\" + str(i) for i in range(n_components)]\n",
    "pca = PCA(n_components=n_components)\n",
    "pca_scale = pca.fit_transform(accuracies)\n",
    "pca_df_scale = pd.DataFrame(pca_scale, columns=columns)\n",
    "print(pca.explained_variance_ratio_)"
   ]
  },
  {
   "cell_type": "code",
   "execution_count": 45,
   "metadata": {},
   "outputs": [
    {
     "data": {
      "image/png": "[encoded data removed]",
      "text/plain": [
       "<Figure size 864x432 with 2 Axes>"
      ]
     },
     "metadata": {},
     "output_type": "display_data"
    }
   ],
   "source": [
    "sse = []\n",
    "silhouttes = []\n",
    "k_list = range(2, 10)\n",
    "for k in k_list:\n",
    "    km = KMeans(n_clusters=k,  n_init=1, max_iter=500, init='k-means++', random_state=42)\n",
    "    km.fit(pca_df_scale)\n",
    "    labels = km.labels_\n",
    "    sse.append([k, km.inertia_])\n",
    "#     print(\"N cluster : \", k)\n",
    "    silhoutte = metrics.silhouette_score(pca_df_scale, labels)\n",
    "#     print(\"Silhouette Coefficient: %0.3f\" % silhoutte)\n",
    "    silhouttes.append([k, silhoutte])\n",
    "    \n",
    "pca_results_scale = pd.DataFrame({'Cluster': k_list, 'SSE': sse})\n",
    "plt.figure(figsize=(12,6))\n",
    "plt.plot(pd.DataFrame(sse)[0], pd.DataFrame(sse)[1], marker='o', color=\"blue\", label=\"elbow\")\n",
    "plt.title('Optimal Number of Clusters using Elbow and Silhoutte Analysis (PCA_Scaled Data)')\n",
    "plt.xlabel('Number of clusters')\n",
    "plt.ylabel('Inertia')\n",
    "plt.legend(loc='lower left')\n",
    "plt.twinx()\n",
    "plt.plot(pd.DataFrame(silhouttes)[0], pd.DataFrame(silhouttes)[1], marker='o', color='red', label=\"silhoutte\")\n",
    "plt.ylabel('Silhouttes Coefficient')\n",
    "f = plt.legend(loc='upper right')\n",
    "\n",
    "path = \"plot/at-cluster-analysis.png\"\n",
    "f.figure.savefig(path, bbox_inches='tight')"
   ]
  },
  {
   "cell_type": "code",
   "execution_count": 42,
   "metadata": {},
   "outputs": [
    {
     "name": "stdout",
     "output_type": "stream",
     "text": [
      "KMeans PCA Scaled Silhouette Score: 0.7830351528912632\n",
      "Cluster :  {0: ['autoattack', 'autopgd', 'bim', 'cw', 'fgsm', 'pgd', 'deepfool', 'newtonfool', 'squareattack'], 1: ['pixelattack'], 2: ['spatialtransformation']}\n",
      "Centroid :  ['fgsm', 'pixelattack', 'spatialtransformation']\n",
      "fgsm_pixelattack_spatialtransformation\n"
     ]
    }
   ],
   "source": [
    "from sklearn.metrics import pairwise_distances_argmin_min\n",
    "\n",
    "n_cluster = 3\n",
    "kmeans_pca_scale = KMeans(n_clusters=n_cluster, n_init=1, max_iter=500, init='k-means++', random_state=42).fit(pca_df_scale)\n",
    "print('KMeans PCA Scaled Silhouette Score: {}'.format(silhouette_score(pca_df_scale, kmeans_pca_scale.labels_, metric='euclidean')))\n",
    "labels_pca_scale = kmeans_pca_scale.labels_\n",
    "print(\"Cluster : \", get_cluster(labels_pca_scale, attacks))\n",
    "cluster_centers = kmeans_pca_scale.cluster_centers_\n",
    "closest_id, _ = pairwise_distances_argmin_min(cluster_centers, pca_df_scale)\n",
    "closest = []\n",
    "for i in closest_id :\n",
    "    closest.append(id_to_attack[i])\n",
    "print(\"Centroid : \", closest)\n",
    "print(\"_\".join(closest))\n",
    "\n",
    "\n",
    "clusters_pca_scale = pd.concat([pca_df_scale, pd.DataFrame({'pca_clusters':labels_pca_scale})], axis=1)"
   ]
  },
  {
   "cell_type": "code",
   "execution_count": 46,
   "metadata": {},
   "outputs": [
    {
     "name": "stderr",
     "output_type": "stream",
     "text": [
      "/opt/conda/lib/python3.7/site-packages/seaborn/_decorators.py:43: FutureWarning: Pass the following variables as keyword args: x, y. From version 0.12, the only valid positional argument will be `data`, and passing other arguments without an explicit keyword will result in an error or misinterpretation.\n",
      "  FutureWarning\n"
     ]
    },
    {
     "data": {
      "image/png": "[encoded data removed]",
      "text/plain": [
       "<Figure size 720x720 with 1 Axes>"
      ]
     },
     "metadata": {},
     "output_type": "display_data"
    }
   ],
   "source": [
    "plt.figure(figsize = (10,10))\n",
    "p1 = sns.scatterplot(clusters_pca_scale.iloc[:,0],clusters_pca_scale.iloc[:,1], hue=labels_pca_scale, palette='Set1', s=100, alpha=0.8)\n",
    "p1.set_title('KMeans Clusters ({}) Derived from PCA'.format(n_cluster), fontsize=15)\n",
    "\n",
    "for line in range(0,pca_df_scale.shape[0]):\n",
    "     p1.text(pca_df_scale[\"pc0\"][line]+2, pca_df_scale[\"pc1\"][line], \n",
    "         attacks[line], horizontalalignment='left', \n",
    "         size='small', color='black', weight='semibold')\n",
    "f = plt.legend()\n",
    "plt.show()\n",
    "\n",
    "path = \"plot/at-cluster-result.png\"\n",
    "f.figure.savefig(path, bbox_inches='tight')"
   ]
  },
  {
   "cell_type": "code",
   "execution_count": null,
   "metadata": {},
   "outputs": [],
   "source": []
  }
 ],
 "metadata": {
  "kernelspec": {
   "display_name": "Python 3",
   "language": "python",
   "name": "python3"
  },
  "language_info": {
   "codemirror_mode": {
    "name": "ipython",
    "version": 3
   },
   "file_extension": ".py",
   "mimetype": "text/x-python",
   "name": "python",
   "nbconvert_exporter": "python",
   "pygments_lexer": "ipython3",
   "version": "3.7.7"
  }
 },
 "nbformat": 4,
 "nbformat_minor": 4
}
