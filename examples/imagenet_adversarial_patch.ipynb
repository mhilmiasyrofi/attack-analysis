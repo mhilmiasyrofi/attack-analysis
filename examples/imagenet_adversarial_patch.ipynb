{
 "cells": [
  {
   "cell_type": "markdown",
   "metadata": {},
   "source": [
    "# ART Adversarial Patch attack"
   ]
  },
  {
   "cell_type": "code",
   "execution_count": null,
   "metadata": {},
   "outputs": [],
   "source": [
    "from __future__ import absolute_import, division, print_function, unicode_literals\n",
    "\n",
    "import random\n",
    "import numpy as np\n",
    "import tensorflow as tf\n",
    "from tensorflow.keras.applications.resnet50 import preprocess_input, decode_predictions\n",
    "from tensorflow.keras.preprocessing import image\n",
    "from matplotlib import pyplot as plt\n",
    "import imagenet_stubs\n",
    "from imagenet_stubs.imagenet_2012_labels import name_to_label\n",
    "\n",
    "from art.classifiers.tensorflow import TFClassifier\n",
    "from art.attacks.adversarial_patch import AdversarialPatch"
   ]
  },
  {
   "cell_type": "markdown",
   "metadata": {},
   "source": [
    "# Settings"
   ]
  },
  {
   "cell_type": "code",
   "execution_count": null,
   "metadata": {},
   "outputs": [],
   "source": [
    "target_image_name = 'toaster.jpg'\n",
    "patch_shape = (224, 224, 3)\n",
    "image_shape = (224, 224, 3)\n",
    "batch_size = 2\n",
    "scale_min = 0.3\n",
    "scale_max = 1.0\n",
    "rotation_max = 22.5\n",
    "learning_rate = 10000.0\n",
    "number_of_steps = 5000"
   ]
  },
  {
   "cell_type": "markdown",
   "metadata": {},
   "source": [
    "# Model definition"
   ]
  },
  {
   "cell_type": "code",
   "execution_count": null,
   "metadata": {},
   "outputs": [],
   "source": [
    "y_one_hot = np.zeros(1000)\n",
    "y_one_hot[name_to_label('toaster')] = 1.0\n",
    "target_ys = np.tile(y_one_hot, (batch_size, 1))"
   ]
  },
  {
   "cell_type": "code",
   "execution_count": null,
   "metadata": {},
   "outputs": [],
   "source": [
    "_image_input = tf.keras.Input(shape=image_shape)\n",
    "_target_ys = tf.placeholder(tf.float32, shape=(None, 1000))\n",
    "model = tf.keras.applications.resnet50.ResNet50(input_tensor=_image_input, weights='imagenet')\n",
    "_logits = model.outputs[0].op.inputs[0]\n",
    "target_loss = tf.reduce_mean(tf.nn.softmax_cross_entropy_with_logits(labels=_target_ys, logits=_logits))\n",
    "\n",
    "tfc = TFClassifier(clip_values=(0, 1), input_ph=_image_input, output_ph=_target_ys, logits=_logits, sess=sess, loss=target_loss)"
   ]
  },
  {
   "cell_type": "markdown",
   "metadata": {},
   "source": [
    "# Imagenet training images"
   ]
  },
  {
   "cell_type": "code",
   "execution_count": null,
   "metadata": {},
   "outputs": [],
   "source": [
    "images_list = list()\n",
    "target_image = None\n",
    "\n",
    "for image_path in imagenet_stubs.get_image_paths():\n",
    "\n",
    "    im = image.load_img(image_path, target_size=(224, 224))\n",
    "    im = image.img_to_array(im)\n",
    "\n",
    "    im = np.expand_dims(im, axis=0)\n",
    "    im = preprocess_input(im)\n",
    "\n",
    "    if image_path.endswith(target_image_name):\n",
    "        target_image = im\n",
    "    else:\n",
    "        images_list.append(im)\n",
    "\n",
    "images = random.sample(images_list, batch_size)"
   ]
  },
  {
   "cell_type": "markdown",
   "metadata": {},
   "source": [
    "# Adversarial patch generation"
   ]
  },
  {
   "cell_type": "code",
   "execution_count": null,
   "metadata": {},
   "outputs": [],
   "source": [
    "ap = AdversarialPatch(classifier=tfc)\n",
    "\n",
    "attack_params = {\"target_ys\": target_ys, \"rotation_max\": rotation_max, \"scale_min\": scale_min, \"scale_max\": scale_max,\n",
    "                 \"learning_rate\": learning_rate, \"number_of_steps\": number_of_steps, \"patch_shape\": patch_shape, \n",
    "                 \"batch_size\": batch_size}\n",
    "\n",
    "patch_art = ap.generate(x=images, **attack_params)"
   ]
  },
  {
   "cell_type": "markdown",
   "metadata": {},
   "source": [
    "# Evaluation"
   ]
  },
  {
   "cell_type": "code",
   "execution_count": null,
   "metadata": {},
   "outputs": [],
   "source": [
    "def from_keras(x):\n",
    "    x = np.copy(x)\n",
    "    x[:, :, 2] += 123.68\n",
    "    x[:, :, 1] += 116.779\n",
    "    x[:, :, 0] += 103.939\n",
    "    return x[:, :, [2, 1, 0]].astype(np.uint8)"
   ]
  },
  {
   "cell_type": "code",
   "execution_count": null,
   "metadata": {},
   "outputs": [],
   "source": []
  },
  {
   "cell_type": "code",
   "execution_count": null,
   "metadata": {},
   "outputs": [],
   "source": [
    "v_loss, v_probs = self._sess.run([self._loss, self._probs], feed_dict=fd)\n",
    "        print('loss:', v_loss)\n",
    "        from keras.applications.resnet50 import preprocess_input, decode_predictions\n",
    "        print('Predicted 0:', decode_predictions(v_probs, top=3)[0])\n",
    "        print('Predicted 1:', decode_predictions(v_probs, top=3)[1])"
   ]
  }
 ],
 "metadata": {
  "kernelspec": {
   "display_name": "venv36",
   "language": "python",
   "name": "venv36"
  },
  "language_info": {
   "codemirror_mode": {
    "name": "ipython",
    "version": 3
   },
   "file_extension": ".py",
   "mimetype": "text/x-python",
   "name": "python",
   "nbconvert_exporter": "python",
   "pygments_lexer": "ipython3",
   "version": "3.6.6"
  }
 },
 "nbformat": 4,
 "nbformat_minor": 2
}
