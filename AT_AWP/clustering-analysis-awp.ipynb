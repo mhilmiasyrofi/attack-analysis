{
 "cells": [
  {
   "cell_type": "markdown",
   "metadata": {},
   "source": [
    "# Cluster Analysis"
   ]
  },
  {
   "cell_type": "code",
   "execution_count": 1,
   "metadata": {},
   "outputs": [],
   "source": [
    "import pandas as pd\n",
    "import numpy as np\n",
    "import seaborn as sns\n",
    "import matplotlib.pyplot as plt\n",
    "%matplotlib inline\n",
    "from scipy.spatial import distance"
   ]
  },
  {
   "cell_type": "code",
   "execution_count": 2,
   "metadata": {},
   "outputs": [],
   "source": [
    "def load_data(train, test, fname) :\n",
    "    fpath = \"trained_models/{}/eval/{}/{}.txt\".format(train, test, fname)\n",
    "    return np.loadtxt(fpath).astype(np.int)\n",
    "\n",
    "train = \"autoattack\"\n",
    "test = \"pgd\"\n",
    "\n",
    "y_original = load_data(train, test, \"Y_original\")\n",
    "y_original_pred = load_data(train, test, \"Y_original_pred\")\n",
    "y_adv = load_data(train, test, \"Y_adv\")\n",
    "y_adv_pred = load_data(train, test, \"Y_adv_pred\")"
   ]
  },
  {
   "cell_type": "code",
   "execution_count": 3,
   "metadata": {},
   "outputs": [
    {
     "name": "stdout",
     "output_type": "stream",
     "text": [
      "Y_adv(pgd,autoattack): [3 8 8 ... 5 1 7]\n",
      "Y_adv_pred(pgd,autoattack): [5 8 8 ... 5 1 7]\n"
     ]
    }
   ],
   "source": [
    "def get_robust_data(train, test):\n",
    "    y_adv = load_data(train, test, \"Y_adv\")\n",
    "    y_adv_pred = load_data(train, test, \"Y_adv_pred\")\n",
    "    return y_adv, y_adv_pred\n",
    "\n",
    "train = \"pgd\"\n",
    "test = \"autoattack\"\n",
    "y_adv, y_adv_pred = get_robust_data(train, test)\n",
    "\n",
    "print(\"Y_adv({},{}): {}\".format(train, test, y_adv))\n",
    "print(\"Y_adv_pred({},{}): {}\".format(train, test, y_adv_pred))"
   ]
  },
  {
   "cell_type": "code",
   "execution_count": 4,
   "metadata": {},
   "outputs": [
    {
     "name": "stdout",
     "output_type": "stream",
     "text": [
      "Y_adv(fgsm,autopgd): [3 8 8 ... 5 1 7]\n",
      "Y_adv_pred(fgsm,autopgd): [3 8 8 ... 5 1 7]\n"
     ]
    }
   ],
   "source": [
    "train = \"fgsm\"\n",
    "test = \"autopgd\"\n",
    "y_adv, y_adv_pred = get_robust_data(train, test)\n",
    "\n",
    "print(\"Y_adv({},{}): {}\".format(train, test, y_adv))\n",
    "print(\"Y_adv_pred({},{}): {}\".format(train, test, y_adv_pred))"
   ]
  },
  {
   "cell_type": "code",
   "execution_count": 5,
   "metadata": {},
   "outputs": [],
   "source": [
    "attacks = [\"autoattack\", \"autopgd\", \"bim\", \"cw\", \"fgsm\", \"pgd\", \"deepfool\", \"newtonfool\", \"squareattack\", \"pixelattack\", \"spatialtransformation\"]\n",
    "\n",
    "attack_to_id = {}\n",
    "id_to_attack = {}\n",
    "for i in range(len(attacks)) :\n",
    "    attack_to_id[attacks[i]] = i\n",
    "    id_to_attack[i] = attacks[i]"
   ]
  },
  {
   "cell_type": "code",
   "execution_count": 6,
   "metadata": {},
   "outputs": [],
   "source": [
    "predictions = {}\n",
    "labels = {}\n",
    "\n",
    "for a1 in attacks :\n",
    "    p = np.array([])\n",
    "    l = np.array([])\n",
    "    for a2 in attacks :\n",
    "        y, y_pred = get_robust_data(a1, a2)\n",
    "        p = np.concatenate((p, y_pred))\n",
    "        l = np.concatenate((l, y))\n",
    "    predictions[a1] = p\n",
    "    labels[a1] = l"
   ]
  },
  {
   "cell_type": "code",
   "execution_count": 7,
   "metadata": {},
   "outputs": [
    {
     "data": {
      "text/plain": [
       "{'autoattack': array([5., 8., 8., ..., 5., 1., 7.]),\n",
       " 'autopgd': array([3., 8., 8., ..., 3., 1., 5.]),\n",
       " 'bim': array([3., 8., 8., ..., 6., 1., 7.]),\n",
       " 'cw': array([3., 8., 8., ..., 6., 1., 6.]),\n",
       " 'fgsm': array([3., 8., 8., ..., 3., 1., 3.]),\n",
       " 'pgd': array([5., 8., 8., ..., 3., 1., 3.]),\n",
       " 'deepfool': array([3., 8., 8., ..., 5., 1., 7.]),\n",
       " 'newtonfool': array([3., 8., 8., ..., 3., 1., 3.]),\n",
       " 'squareattack': array([3., 8., 8., ..., 5., 1., 7.]),\n",
       " 'pixelattack': array([3., 3., 3., ..., 3., 3., 3.]),\n",
       " 'spatialtransformation': array([6., 8., 0., ..., 5., 1., 7.])}"
      ]
     },
     "execution_count": 7,
     "metadata": {},
     "output_type": "execute_result"
    }
   ],
   "source": [
    "predictions"
   ]
  },
  {
   "cell_type": "code",
   "execution_count": 8,
   "metadata": {},
   "outputs": [
    {
     "data": {
      "text/plain": [
       "{'autoattack': array([3., 8., 8., ..., 5., 1., 7.]),\n",
       " 'autopgd': array([3., 8., 8., ..., 5., 1., 7.]),\n",
       " 'bim': array([3., 8., 8., ..., 5., 1., 7.]),\n",
       " 'cw': array([3., 8., 8., ..., 5., 1., 7.]),\n",
       " 'fgsm': array([3., 8., 8., ..., 5., 1., 7.]),\n",
       " 'pgd': array([3., 8., 8., ..., 5., 1., 7.]),\n",
       " 'deepfool': array([3., 8., 8., ..., 5., 1., 7.]),\n",
       " 'newtonfool': array([3., 8., 8., ..., 5., 1., 7.]),\n",
       " 'squareattack': array([3., 8., 8., ..., 5., 1., 7.]),\n",
       " 'pixelattack': array([3., 8., 8., ..., 5., 1., 7.]),\n",
       " 'spatialtransformation': array([3., 8., 8., ..., 5., 1., 7.])}"
      ]
     },
     "execution_count": 8,
     "metadata": {},
     "output_type": "execute_result"
    }
   ],
   "source": [
    "labels"
   ]
  },
  {
   "cell_type": "code",
   "execution_count": 9,
   "metadata": {},
   "outputs": [
    {
     "data": {
      "text/plain": [
       "[array([False,  True,  True, ...,  True,  True,  True]),\n",
       " array([ True,  True,  True, ..., False,  True, False]),\n",
       " array([ True,  True,  True, ..., False,  True,  True]),\n",
       " array([ True,  True,  True, ..., False,  True, False]),\n",
       " array([ True,  True,  True, ..., False,  True, False]),\n",
       " array([False,  True,  True, ..., False,  True, False]),\n",
       " array([ True,  True,  True, ...,  True,  True,  True]),\n",
       " array([ True,  True,  True, ..., False,  True, False]),\n",
       " array([ True,  True,  True, ...,  True,  True,  True]),\n",
       " array([ True, False, False, ..., False, False, False]),\n",
       " array([False,  True, False, ...,  True,  True,  True])]"
      ]
     },
     "execution_count": 9,
     "metadata": {},
     "output_type": "execute_result"
    }
   ],
   "source": [
    "# compare the labels with the predictions\n",
    "\n",
    "accuracies = []\n",
    "for a in attacks :\n",
    "    accuracies.append(np.equal(predictions[a], labels[a]))\n",
    "accuracies"
   ]
  },
  {
   "cell_type": "code",
   "execution_count": null,
   "metadata": {},
   "outputs": [],
   "source": []
  },
  {
   "cell_type": "code",
   "execution_count": 10,
   "metadata": {},
   "outputs": [
    {
     "data": {
      "text/html": [
       "<div>\n",
       "<style scoped>\n",
       "    .dataframe tbody tr th:only-of-type {\n",
       "        vertical-align: middle;\n",
       "    }\n",
       "\n",
       "    .dataframe tbody tr th {\n",
       "        vertical-align: top;\n",
       "    }\n",
       "\n",
       "    .dataframe thead th {\n",
       "        text-align: right;\n",
       "    }\n",
       "</style>\n",
       "<table border=\"1\" class=\"dataframe\">\n",
       "  <thead>\n",
       "    <tr style=\"text-align: right;\">\n",
       "      <th></th>\n",
       "      <th>attack</th>\n",
       "      <th>accuracy</th>\n",
       "    </tr>\n",
       "  </thead>\n",
       "  <tbody>\n",
       "    <tr>\n",
       "      <th>0</th>\n",
       "      <td>autoattack</td>\n",
       "      <td>0.687618</td>\n",
       "    </tr>\n",
       "    <tr>\n",
       "      <th>1</th>\n",
       "      <td>autopgd</td>\n",
       "      <td>0.679955</td>\n",
       "    </tr>\n",
       "    <tr>\n",
       "      <th>2</th>\n",
       "      <td>bim</td>\n",
       "      <td>0.684900</td>\n",
       "    </tr>\n",
       "    <tr>\n",
       "      <th>3</th>\n",
       "      <td>cw</td>\n",
       "      <td>0.691845</td>\n",
       "    </tr>\n",
       "    <tr>\n",
       "      <th>4</th>\n",
       "      <td>fgsm</td>\n",
       "      <td>0.683045</td>\n",
       "    </tr>\n",
       "    <tr>\n",
       "      <th>5</th>\n",
       "      <td>pgd</td>\n",
       "      <td>0.679227</td>\n",
       "    </tr>\n",
       "    <tr>\n",
       "      <th>6</th>\n",
       "      <td>deepfool</td>\n",
       "      <td>0.684036</td>\n",
       "    </tr>\n",
       "    <tr>\n",
       "      <th>7</th>\n",
       "      <td>newtonfool</td>\n",
       "      <td>0.685736</td>\n",
       "    </tr>\n",
       "    <tr>\n",
       "      <th>8</th>\n",
       "      <td>squareattack</td>\n",
       "      <td>0.661755</td>\n",
       "    </tr>\n",
       "    <tr>\n",
       "      <th>9</th>\n",
       "      <td>pixelattack</td>\n",
       "      <td>0.163509</td>\n",
       "    </tr>\n",
       "    <tr>\n",
       "      <th>10</th>\n",
       "      <td>spatialtransformation</td>\n",
       "      <td>0.512345</td>\n",
       "    </tr>\n",
       "  </tbody>\n",
       "</table>\n",
       "</div>"
      ],
      "text/plain": [
       "                   attack  accuracy\n",
       "0              autoattack  0.687618\n",
       "1                 autopgd  0.679955\n",
       "2                     bim  0.684900\n",
       "3                      cw  0.691845\n",
       "4                    fgsm  0.683045\n",
       "5                     pgd  0.679227\n",
       "6                deepfool  0.684036\n",
       "7              newtonfool  0.685736\n",
       "8            squareattack  0.661755\n",
       "9             pixelattack  0.163509\n",
       "10  spatialtransformation  0.512345"
      ]
     },
     "execution_count": 10,
     "metadata": {},
     "output_type": "execute_result"
    }
   ],
   "source": [
    "accs = []\n",
    "for a in attacks :\n",
    "    tr = (labels[a] == predictions[a]).sum().item()\n",
    "    accs.append(tr / len(labels[a]))\n",
    "    \n",
    "accs = pd.DataFrame(data={\"attack\": attacks, \"accuracy\": accs})\n",
    "accs"
   ]
  },
  {
   "cell_type": "code",
   "execution_count": 11,
   "metadata": {},
   "outputs": [
    {
     "data": {
      "text/html": [
       "<div>\n",
       "<style scoped>\n",
       "    .dataframe tbody tr th:only-of-type {\n",
       "        vertical-align: middle;\n",
       "    }\n",
       "\n",
       "    .dataframe tbody tr th {\n",
       "        vertical-align: top;\n",
       "    }\n",
       "\n",
       "    .dataframe thead th {\n",
       "        text-align: right;\n",
       "    }\n",
       "</style>\n",
       "<table border=\"1\" class=\"dataframe\">\n",
       "  <thead>\n",
       "    <tr style=\"text-align: right;\">\n",
       "      <th></th>\n",
       "      <th>attack</th>\n",
       "      <th>accuracy</th>\n",
       "    </tr>\n",
       "  </thead>\n",
       "  <tbody>\n",
       "    <tr>\n",
       "      <th>0</th>\n",
       "      <td>cw</td>\n",
       "      <td>0.691845</td>\n",
       "    </tr>\n",
       "    <tr>\n",
       "      <th>1</th>\n",
       "      <td>autoattack</td>\n",
       "      <td>0.687618</td>\n",
       "    </tr>\n",
       "    <tr>\n",
       "      <th>2</th>\n",
       "      <td>newtonfool</td>\n",
       "      <td>0.685736</td>\n",
       "    </tr>\n",
       "    <tr>\n",
       "      <th>3</th>\n",
       "      <td>bim</td>\n",
       "      <td>0.684900</td>\n",
       "    </tr>\n",
       "    <tr>\n",
       "      <th>4</th>\n",
       "      <td>deepfool</td>\n",
       "      <td>0.684036</td>\n",
       "    </tr>\n",
       "    <tr>\n",
       "      <th>5</th>\n",
       "      <td>fgsm</td>\n",
       "      <td>0.683045</td>\n",
       "    </tr>\n",
       "    <tr>\n",
       "      <th>6</th>\n",
       "      <td>autopgd</td>\n",
       "      <td>0.679955</td>\n",
       "    </tr>\n",
       "    <tr>\n",
       "      <th>7</th>\n",
       "      <td>pgd</td>\n",
       "      <td>0.679227</td>\n",
       "    </tr>\n",
       "    <tr>\n",
       "      <th>8</th>\n",
       "      <td>squareattack</td>\n",
       "      <td>0.661755</td>\n",
       "    </tr>\n",
       "    <tr>\n",
       "      <th>9</th>\n",
       "      <td>spatialtransformation</td>\n",
       "      <td>0.512345</td>\n",
       "    </tr>\n",
       "    <tr>\n",
       "      <th>10</th>\n",
       "      <td>pixelattack</td>\n",
       "      <td>0.163509</td>\n",
       "    </tr>\n",
       "  </tbody>\n",
       "</table>\n",
       "</div>"
      ],
      "text/plain": [
       "                   attack  accuracy\n",
       "0                      cw  0.691845\n",
       "1              autoattack  0.687618\n",
       "2              newtonfool  0.685736\n",
       "3                     bim  0.684900\n",
       "4                deepfool  0.684036\n",
       "5                    fgsm  0.683045\n",
       "6                 autopgd  0.679955\n",
       "7                     pgd  0.679227\n",
       "8            squareattack  0.661755\n",
       "9   spatialtransformation  0.512345\n",
       "10            pixelattack  0.163509"
      ]
     },
     "execution_count": 11,
     "metadata": {},
     "output_type": "execute_result"
    }
   ],
   "source": [
    "sorted_acc = accs.sort_values(by=\"accuracy\", ascending=False).reset_index(drop=True)\n",
    "sorted_acc"
   ]
  },
  {
   "cell_type": "code",
   "execution_count": 12,
   "metadata": {},
   "outputs": [
    {
     "data": {
      "text/html": [
       "<div>\n",
       "<style scoped>\n",
       "    .dataframe tbody tr th:only-of-type {\n",
       "        vertical-align: middle;\n",
       "    }\n",
       "\n",
       "    .dataframe tbody tr th {\n",
       "        vertical-align: top;\n",
       "    }\n",
       "\n",
       "    .dataframe thead th {\n",
       "        text-align: right;\n",
       "    }\n",
       "</style>\n",
       "<table border=\"1\" class=\"dataframe\">\n",
       "  <thead>\n",
       "    <tr style=\"text-align: right;\">\n",
       "      <th></th>\n",
       "      <th>autoattack</th>\n",
       "      <th>autopgd</th>\n",
       "      <th>bim</th>\n",
       "      <th>cw</th>\n",
       "      <th>fgsm</th>\n",
       "      <th>pgd</th>\n",
       "      <th>deepfool</th>\n",
       "      <th>newtonfool</th>\n",
       "      <th>squareattack</th>\n",
       "      <th>pixelattack</th>\n",
       "      <th>spatialtransformation</th>\n",
       "    </tr>\n",
       "  </thead>\n",
       "  <tbody>\n",
       "    <tr>\n",
       "      <th>autoattack</th>\n",
       "      <td>1.000000</td>\n",
       "      <td>0.890457</td>\n",
       "      <td>0.886653</td>\n",
       "      <td>0.889428</td>\n",
       "      <td>0.890204</td>\n",
       "      <td>0.882367</td>\n",
       "      <td>0.889374</td>\n",
       "      <td>0.895314</td>\n",
       "      <td>0.869183</td>\n",
       "      <td>0.190083</td>\n",
       "      <td>0.697839</td>\n",
       "    </tr>\n",
       "    <tr>\n",
       "      <th>autopgd</th>\n",
       "      <td>0.890457</td>\n",
       "      <td>1.000000</td>\n",
       "      <td>0.889944</td>\n",
       "      <td>0.890807</td>\n",
       "      <td>0.887603</td>\n",
       "      <td>0.882135</td>\n",
       "      <td>0.886693</td>\n",
       "      <td>0.895885</td>\n",
       "      <td>0.870842</td>\n",
       "      <td>0.188561</td>\n",
       "      <td>0.695106</td>\n",
       "    </tr>\n",
       "    <tr>\n",
       "      <th>bim</th>\n",
       "      <td>0.886653</td>\n",
       "      <td>0.889944</td>\n",
       "      <td>1.000000</td>\n",
       "      <td>0.892987</td>\n",
       "      <td>0.886267</td>\n",
       "      <td>0.884809</td>\n",
       "      <td>0.894191</td>\n",
       "      <td>0.899423</td>\n",
       "      <td>0.876969</td>\n",
       "      <td>0.189291</td>\n",
       "      <td>0.693129</td>\n",
       "    </tr>\n",
       "    <tr>\n",
       "      <th>cw</th>\n",
       "      <td>0.889428</td>\n",
       "      <td>0.890807</td>\n",
       "      <td>0.892987</td>\n",
       "      <td>1.000000</td>\n",
       "      <td>0.893087</td>\n",
       "      <td>0.887093</td>\n",
       "      <td>0.904743</td>\n",
       "      <td>0.897906</td>\n",
       "      <td>0.879502</td>\n",
       "      <td>0.183041</td>\n",
       "      <td>0.696360</td>\n",
       "    </tr>\n",
       "    <tr>\n",
       "      <th>fgsm</th>\n",
       "      <td>0.890204</td>\n",
       "      <td>0.887603</td>\n",
       "      <td>0.886267</td>\n",
       "      <td>0.893087</td>\n",
       "      <td>1.000000</td>\n",
       "      <td>0.879817</td>\n",
       "      <td>0.897227</td>\n",
       "      <td>0.890429</td>\n",
       "      <td>0.866111</td>\n",
       "      <td>0.194662</td>\n",
       "      <td>0.687462</td>\n",
       "    </tr>\n",
       "    <tr>\n",
       "      <th>pgd</th>\n",
       "      <td>0.882367</td>\n",
       "      <td>0.882135</td>\n",
       "      <td>0.884809</td>\n",
       "      <td>0.887093</td>\n",
       "      <td>0.879817</td>\n",
       "      <td>1.000000</td>\n",
       "      <td>0.887795</td>\n",
       "      <td>0.887653</td>\n",
       "      <td>0.861965</td>\n",
       "      <td>0.198209</td>\n",
       "      <td>0.687835</td>\n",
       "    </tr>\n",
       "    <tr>\n",
       "      <th>deepfool</th>\n",
       "      <td>0.889374</td>\n",
       "      <td>0.886693</td>\n",
       "      <td>0.894191</td>\n",
       "      <td>0.904743</td>\n",
       "      <td>0.897227</td>\n",
       "      <td>0.887795</td>\n",
       "      <td>1.000000</td>\n",
       "      <td>0.895597</td>\n",
       "      <td>0.870375</td>\n",
       "      <td>0.178837</td>\n",
       "      <td>0.694227</td>\n",
       "    </tr>\n",
       "    <tr>\n",
       "      <th>newtonfool</th>\n",
       "      <td>0.895314</td>\n",
       "      <td>0.895885</td>\n",
       "      <td>0.899423</td>\n",
       "      <td>0.897906</td>\n",
       "      <td>0.890429</td>\n",
       "      <td>0.887653</td>\n",
       "      <td>0.895597</td>\n",
       "      <td>1.000000</td>\n",
       "      <td>0.886421</td>\n",
       "      <td>0.181574</td>\n",
       "      <td>0.692630</td>\n",
       "    </tr>\n",
       "    <tr>\n",
       "      <th>squareattack</th>\n",
       "      <td>0.869183</td>\n",
       "      <td>0.870842</td>\n",
       "      <td>0.876969</td>\n",
       "      <td>0.879502</td>\n",
       "      <td>0.866111</td>\n",
       "      <td>0.861965</td>\n",
       "      <td>0.870375</td>\n",
       "      <td>0.886421</td>\n",
       "      <td>1.000000</td>\n",
       "      <td>0.180800</td>\n",
       "      <td>0.686614</td>\n",
       "    </tr>\n",
       "    <tr>\n",
       "      <th>pixelattack</th>\n",
       "      <td>0.190083</td>\n",
       "      <td>0.188561</td>\n",
       "      <td>0.189291</td>\n",
       "      <td>0.183041</td>\n",
       "      <td>0.194662</td>\n",
       "      <td>0.198209</td>\n",
       "      <td>0.178837</td>\n",
       "      <td>0.181574</td>\n",
       "      <td>0.180800</td>\n",
       "      <td>1.000000</td>\n",
       "      <td>0.170865</td>\n",
       "    </tr>\n",
       "    <tr>\n",
       "      <th>spatialtransformation</th>\n",
       "      <td>0.697839</td>\n",
       "      <td>0.695106</td>\n",
       "      <td>0.693129</td>\n",
       "      <td>0.696360</td>\n",
       "      <td>0.687462</td>\n",
       "      <td>0.687835</td>\n",
       "      <td>0.694227</td>\n",
       "      <td>0.692630</td>\n",
       "      <td>0.686614</td>\n",
       "      <td>0.170865</td>\n",
       "      <td>1.000000</td>\n",
       "    </tr>\n",
       "  </tbody>\n",
       "</table>\n",
       "</div>"
      ],
      "text/plain": [
       "                       autoattack   autopgd       bim        cw      fgsm  \\\n",
       "autoattack               1.000000  0.890457  0.886653  0.889428  0.890204   \n",
       "autopgd                  0.890457  1.000000  0.889944  0.890807  0.887603   \n",
       "bim                      0.886653  0.889944  1.000000  0.892987  0.886267   \n",
       "cw                       0.889428  0.890807  0.892987  1.000000  0.893087   \n",
       "fgsm                     0.890204  0.887603  0.886267  0.893087  1.000000   \n",
       "pgd                      0.882367  0.882135  0.884809  0.887093  0.879817   \n",
       "deepfool                 0.889374  0.886693  0.894191  0.904743  0.897227   \n",
       "newtonfool               0.895314  0.895885  0.899423  0.897906  0.890429   \n",
       "squareattack             0.869183  0.870842  0.876969  0.879502  0.866111   \n",
       "pixelattack              0.190083  0.188561  0.189291  0.183041  0.194662   \n",
       "spatialtransformation    0.697839  0.695106  0.693129  0.696360  0.687462   \n",
       "\n",
       "                            pgd  deepfool  newtonfool  squareattack  \\\n",
       "autoattack             0.882367  0.889374    0.895314      0.869183   \n",
       "autopgd                0.882135  0.886693    0.895885      0.870842   \n",
       "bim                    0.884809  0.894191    0.899423      0.876969   \n",
       "cw                     0.887093  0.904743    0.897906      0.879502   \n",
       "fgsm                   0.879817  0.897227    0.890429      0.866111   \n",
       "pgd                    1.000000  0.887795    0.887653      0.861965   \n",
       "deepfool               0.887795  1.000000    0.895597      0.870375   \n",
       "newtonfool             0.887653  0.895597    1.000000      0.886421   \n",
       "squareattack           0.861965  0.870375    0.886421      1.000000   \n",
       "pixelattack            0.198209  0.178837    0.181574      0.180800   \n",
       "spatialtransformation  0.687835  0.694227    0.692630      0.686614   \n",
       "\n",
       "                       pixelattack  spatialtransformation  \n",
       "autoattack                0.190083               0.697839  \n",
       "autopgd                   0.188561               0.695106  \n",
       "bim                       0.189291               0.693129  \n",
       "cw                        0.183041               0.696360  \n",
       "fgsm                      0.194662               0.687462  \n",
       "pgd                       0.198209               0.687835  \n",
       "deepfool                  0.178837               0.694227  \n",
       "newtonfool                0.181574               0.692630  \n",
       "squareattack              0.180800               0.686614  \n",
       "pixelattack               1.000000               0.170865  \n",
       "spatialtransformation     0.170865               1.000000  "
      ]
     },
     "execution_count": 12,
     "metadata": {},
     "output_type": "execute_result"
    }
   ],
   "source": [
    "# measure cosine simmilarity\n",
    "def cosine_simmilarity(l1, l2):\n",
    "    return 1 - distance.cosine(l1, l2)\n",
    "\n",
    "# selected_attacks = [\"autoattack\", \"autopgd\", \"bim\", \"cw\", \"fgsm\", \"pgd\", \"deepfool\", \"newtonfool\", \"squareattack\"] \n",
    "selected_attacks = attacks\n",
    "\n",
    "sim = {}\n",
    "for a1 in selected_attacks :\n",
    "    s = {}\n",
    "    for a2 in selected_attacks :\n",
    "        acc1 = np.equal(predictions[a1], labels[a1])\n",
    "        acc2 = np.equal(predictions[a2], labels[a2])   \n",
    "        s[a2] = cosine_simmilarity(acc1, acc2)\n",
    "#         s[a2] = cosine_simmilarity(predictions[a1], predictions[a2])\n",
    "    sim[a1] = s\n",
    "\n",
    "sim = pd.DataFrame(data=sim)\n",
    "sim"
   ]
  },
  {
   "cell_type": "code",
   "execution_count": 13,
   "metadata": {},
   "outputs": [
    {
     "data": {
      "image/png": "[encoded data removed]",
      "text/plain": [
       "<Figure size 864x648 with 1 Axes>"
      ]
     },
     "metadata": {},
     "output_type": "display_data"
    }
   ],
   "source": [
    "def plot_half_heatmap(data, cmap, path) :\n",
    "    sns.set_theme(style=\"white\")\n",
    "\n",
    "    # Generate a mask for the upper triangle\n",
    "    mask = np.triu(np.ones_like(data, dtype=bool))\n",
    "\n",
    "    # Set up the matplotlib figure\n",
    "    f, ax = plt.subplots(figsize=(12, 9))\n",
    "\n",
    "    # Draw the heatmap with the mask and correct aspect ratio\n",
    "    f = sns.heatmap(data, mask=mask, cmap=cmap, vmax=1, center=0,\n",
    "                square=True, linewidths=.5, cbar=False, annot=True)\n",
    "    f.figure.savefig(path, bbox_inches='tight')\n",
    "\n",
    "\n",
    "# Generate a custom diverging colormap\n",
    "cmap = sns.diverging_palette(h_neg=240, h_pos=0,s=75, l=50, n=1, as_cmap=True)\n",
    "\n",
    "path = \"plot/rq1-sim.png\"\n",
    "\n",
    "plot_half_heatmap(sim, cmap, path)"
   ]
  },
  {
   "cell_type": "code",
   "execution_count": 14,
   "metadata": {},
   "outputs": [
    {
     "name": "stderr",
     "output_type": "stream",
     "text": [
      "/opt/conda/lib/python3.7/site-packages/ipykernel_launcher.py:2: ClusterWarning: scipy.cluster: The symmetric non-negative hollow observation matrix looks suspiciously like an uncondensed distance matrix\n",
      "  \n"
     ]
    },
    {
     "data": {
      "image/png": "[encoded data removed]",
      "text/plain": [
       "<Figure size 432x288 with 1 Axes>"
      ]
     },
     "metadata": {},
     "output_type": "display_data"
    }
   ],
   "source": [
    "import scipy.cluster.hierarchy as hcluster\n",
    "linkage = hcluster.linkage(1-sim)\n",
    "dendro_label = selected_attacks\n",
    "# dendro_label = sim.columns\n",
    "dendro  = hcluster.dendrogram(linkage, labels=dendro_label, orientation=\"right\")"
   ]
  },
  {
   "cell_type": "code",
   "execution_count": 15,
   "metadata": {},
   "outputs": [
    {
     "data": {
      "image/png": "[encoded data removed]",
      "text/plain": [
       "<Figure size 432x288 with 1 Axes>"
      ]
     },
     "metadata": {},
     "output_type": "display_data"
    }
   ],
   "source": [
    "import networkx as nx\n",
    "G = nx.Graph()\n",
    "\n",
    "## Example\n",
    "# G = nx.Graph()\n",
    "# G.add_edge(\"A\", \"B\")  # default edge data=1\n",
    "# G.add_edge(\"B\", \"C\", weight=0.1)  # specify edge data\n",
    "\n",
    "# pos = nx.spring_layout(G)  # default to scale=1\n",
    "# nx.draw(G, pos)\n",
    "\n",
    "for a1 in attacks: \n",
    "    for a2 in attacks :\n",
    "        G.add_edge(a1, a2, weight=sim[a1][a2])\n",
    "\n",
    "pos = nx.spring_layout(G)  # default to scale=1\n",
    "nx.draw(G, pos)\n",
    "nx.draw(G, pos)\n",
    "nx.draw_networkx_labels(G, pos, font_size=10)\n",
    "plt.show() "
   ]
  },
  {
   "cell_type": "code",
   "execution_count": 16,
   "metadata": {},
   "outputs": [
    {
     "data": {
      "text/plain": [
       "'pixelattack'"
      ]
     },
     "execution_count": 16,
     "metadata": {},
     "output_type": "execute_result"
    }
   ],
   "source": [
    "# cluster = [\"autoattack\", \"autopgd\", \"bim\", \"cw\", \"fgsm\", \"pgd\", \"deepfool\", \"newtonfool\", \"squareattack\", \"pixelattack\"]\n",
    "# cluster = [\"autoattack\", \"autopgd\", \"bim\", \"cw\", \"fgsm\", \"pgd\", \"deepfool\", \"newtonfool\", \"squareattack\"]\n",
    "# cluster = [\"autoattack\", \"autopgd\", \"bim\", \"pgd\"]\n",
    "cluster = [\"pixelattack\", \"spatialtransformation\"]\n",
    "\n",
    "def get_centroid(cluster, sim) :\n",
    "    val = {}\n",
    "    for c in cluster :\n",
    "        val[c] = 0\n",
    "        for c2 in cluster :\n",
    "            val[c] += sim[c][c2]\n",
    "    max_dist = val[cluster[0]]\n",
    "    idx = cluster[0]\n",
    "    for c in cluster :\n",
    "#         print(c, \": \", val[c])\n",
    "        if val[c] > max_dist :\n",
    "            max_dist = val[c]\n",
    "            idx = c\n",
    "    return idx\n",
    "            \n",
    "get_centroid(cluster, sim)"
   ]
  },
  {
   "cell_type": "markdown",
   "metadata": {},
   "source": [
    "## Try Clustering on Original Features"
   ]
  },
  {
   "cell_type": "code",
   "execution_count": 17,
   "metadata": {},
   "outputs": [
    {
     "name": "stdout",
     "output_type": "stream",
     "text": [
      "[0 0 0 1 1 1]\n",
      "[0 0 0 1 1 1]\n"
     ]
    },
    {
     "name": "stderr",
     "output_type": "stream",
     "text": [
      "/opt/conda/lib/python3.7/site-packages/sklearn/neighbors/_base.py:168: EfficiencyWarning: Precomputed sparse input was not sorted by data.\n",
      "  EfficiencyWarning)\n"
     ]
    }
   ],
   "source": [
    "## Example from\n",
    "# https://stackoverflow.com/questions/53194672/sklearn-dbscan-cosine-vs-precomputed\n",
    "\n",
    "from sklearn.cluster import DBSCAN\n",
    "from sklearn.metrics import pairwise_distances\n",
    "from sklearn.feature_extraction.text import TfidfVectorizer\n",
    "\n",
    "from scipy import sparse\n",
    "\n",
    "def cluster(X, metric=\"cosine\"):\n",
    "    cluster = DBSCAN(\n",
    "        eps=0.5,\n",
    "        min_samples=3,\n",
    "        metric=metric,\n",
    "        algorithm=\"brute\"\n",
    "    )\n",
    "\n",
    "    cluster.fit_predict(X)\n",
    "\n",
    "    return cluster\n",
    "\n",
    "sentences = [\n",
    "    \"annuler ma commande\",\n",
    "    \"commande à annuler\",\n",
    "    \"merci de bien vouloir annuler ma commande\",\n",
    "    \"produits cassés\",\n",
    "    \"mes produits sont cassés\",\n",
    "    \"ma commande de produits cassés\"\n",
    "]\n",
    "\n",
    "vectorizer = TfidfVectorizer()\n",
    "tfidfs = vectorizer.fit_transform(sentences)\n",
    "distance_matrix = pairwise_distances(tfidfs, tfidfs, metric='cosine')\n",
    "\n",
    "doc_id_to_cluster_1 = cluster(tfidfs, \"cosine\").labels_\n",
    "doc_id_to_cluster_2 = cluster(sparse.csr_matrix(distance_matrix), \"precomputed\").labels_\n",
    "\n",
    "print(doc_id_to_cluster_1)\n",
    "print(doc_id_to_cluster_2)"
   ]
  },
  {
   "cell_type": "code",
   "execution_count": 18,
   "metadata": {},
   "outputs": [
    {
     "name": "stdout",
     "output_type": "stream",
     "text": [
      "Label : [0 0 0 0 0 0 0 0 0 1 2]\n",
      "Silhouette Coefficient: 0.627\n"
     ]
    }
   ],
   "source": [
    "from sklearn.cluster import DBSCAN\n",
    "from sklearn import metrics\n",
    "\n",
    "def cluster(X, metric=\"cosine\"):\n",
    "    cluster = DBSCAN(\n",
    "        eps=0.2,\n",
    "        min_samples=1,\n",
    "        metric=metric,\n",
    "        algorithm=\"brute\"\n",
    "    )\n",
    "\n",
    "    cluster.fit_predict(X)\n",
    "\n",
    "    return cluster\n",
    "\n",
    "labels = cluster(1-sim, \"precomputed\").labels_\n",
    "\n",
    "print(\"Label :\", labels)\n",
    "print(\"Silhouette Coefficient: %0.3f\"\n",
    "      % metrics.silhouette_score(1-sim, labels))"
   ]
  },
  {
   "cell_type": "code",
   "execution_count": 19,
   "metadata": {},
   "outputs": [
    {
     "name": "stdout",
     "output_type": "stream",
     "text": [
      "Label : [0 0 0 0 0 0 0 0 0 1 0]\n",
      "Silhouette Coefficient: 0.798\n"
     ]
    }
   ],
   "source": [
    "from sklearn.cluster import AgglomerativeClustering\n",
    "\n",
    "cluster = AgglomerativeClustering(affinity=\"precomputed\", linkage='average')\n",
    "labels = cluster.fit_predict(1-sim)\n",
    "\n",
    "print(\"Label :\", labels)\n",
    "print(\"Silhouette Coefficient: %0.3f\"\n",
    "      % metrics.silhouette_score(1-sim, labels))"
   ]
  },
  {
   "cell_type": "code",
   "execution_count": 20,
   "metadata": {},
   "outputs": [
    {
     "name": "stdout",
     "output_type": "stream",
     "text": [
      "Label : [0 0 0 0 0 0 0 0 0 0 0]\n"
     ]
    },
    {
     "name": "stderr",
     "output_type": "stream",
     "text": [
      "/opt/conda/lib/python3.7/site-packages/sklearn/cluster/_affinity_propagation.py:152: FutureWarning: 'random_state' has been introduced in 0.23. It will be set to None starting from 0.25 which means that results will differ at every function call. Set 'random_state' to None to silence this warning, or to 0 to keep the behavior of versions <0.23.\n",
      "  FutureWarning)\n"
     ]
    }
   ],
   "source": [
    "from sklearn.cluster import AffinityPropagation\n",
    "\n",
    "cluster = AffinityPropagation(affinity=\"precomputed\")\n",
    "labels = cluster.fit_predict(1-sim)\n",
    "\n",
    "print(\"Label :\", labels)\n",
    "# print(\"Silhouette Coefficient: %0.3f\"\n",
    "#       % metrics.silhouette_score(1-sim, labels))"
   ]
  },
  {
   "cell_type": "code",
   "execution_count": 21,
   "metadata": {},
   "outputs": [
    {
     "data": {
      "text/plain": [
       "{0: ['autoattack',\n",
       "  'autopgd',\n",
       "  'bim',\n",
       "  'cw',\n",
       "  'fgsm',\n",
       "  'pgd',\n",
       "  'deepfool',\n",
       "  'newtonfool',\n",
       "  'squareattack',\n",
       "  'pixelattack',\n",
       "  'spatialtransformation']}"
      ]
     },
     "execution_count": 21,
     "metadata": {},
     "output_type": "execute_result"
    }
   ],
   "source": [
    "def get_cluster(labels, attacks) :\n",
    "    cls = {}\n",
    "    for l, a in zip(labels, attacks) :\n",
    "        if l not in cls.keys() :\n",
    "            cls[l] = []\n",
    "        cls[l].append(a)\n",
    "    return cls\n",
    "\n",
    "get_cluster(labels, attacks)"
   ]
  },
  {
   "cell_type": "code",
   "execution_count": 22,
   "metadata": {},
   "outputs": [
    {
     "data": {
      "text/plain": [
       "{0: 'newtonfool'}"
      ]
     },
     "execution_count": 22,
     "metadata": {},
     "output_type": "execute_result"
    }
   ],
   "source": [
    "def get_centroids(clusters) :\n",
    "    cs = {}\n",
    "    for k in clusters.keys() :\n",
    "        cs[k] = get_centroid(clusters[k], sim)\n",
    "    return cs\n",
    "\n",
    "get_centroids(get_cluster(labels, sim))"
   ]
  },
  {
   "cell_type": "code",
   "execution_count": 23,
   "metadata": {},
   "outputs": [
    {
     "name": "stdout",
     "output_type": "stream",
     "text": [
      "\n",
      "N cluster :  2\n",
      "Silhouette Coefficient: 0.433\n",
      "Label :  [0 0 0 0 0 0 0 0 0 1 0]\n",
      "Cluster :  {0: ['autoattack', 'autopgd', 'bim', 'cw', 'fgsm', 'pgd', 'deepfool', 'newtonfool', 'squareattack', 'spatialtransformation'], 1: ['pixelattack']}\n",
      "Centroid :  {0: 'newtonfool', 1: 'pixelattack'}\n",
      "Combined:  newtonfool_pixelattack\n",
      "\n",
      "N cluster :  3\n",
      "Silhouette Coefficient: 0.294\n",
      "Label :  [0 0 0 0 0 0 0 0 0 1 2]\n",
      "Cluster :  {0: ['autoattack', 'autopgd', 'bim', 'cw', 'fgsm', 'pgd', 'deepfool', 'newtonfool', 'squareattack'], 1: ['pixelattack'], 2: ['spatialtransformation']}\n",
      "Centroid :  {0: 'newtonfool', 1: 'pixelattack', 2: 'spatialtransformation'}\n",
      "Combined:  newtonfool_pixelattack_spatialtransformation\n",
      "\n",
      "N cluster :  4\n",
      "Silhouette Coefficient: 0.047\n",
      "Label :  [0 0 0 0 0 0 0 0 2 1 3]\n",
      "Cluster :  {0: ['autoattack', 'autopgd', 'bim', 'cw', 'fgsm', 'pgd', 'deepfool', 'newtonfool'], 2: ['squareattack'], 1: ['pixelattack'], 3: ['spatialtransformation']}\n",
      "Centroid :  {0: 'newtonfool', 2: 'squareattack', 1: 'pixelattack', 3: 'spatialtransformation'}\n",
      "Combined:  newtonfool_pixelattack_squareattack_spatialtransformation\n",
      "\n",
      "N cluster :  5\n",
      "Silhouette Coefficient: 0.011\n",
      "Label :  [3 3 3 0 0 3 0 3 4 1 2]\n",
      "Cluster :  {3: ['autoattack', 'autopgd', 'bim', 'pgd', 'newtonfool'], 0: ['cw', 'fgsm', 'deepfool'], 4: ['squareattack'], 1: ['pixelattack'], 2: ['spatialtransformation']}\n",
      "Centroid :  {3: 'newtonfool', 0: 'deepfool', 4: 'squareattack', 1: 'pixelattack', 2: 'spatialtransformation'}\n",
      "Combined:  deepfool_pixelattack_spatialtransformation_newtonfool_squareattack\n",
      "\n",
      "N cluster :  6\n",
      "Silhouette Coefficient: 0.013\n",
      "Label :  [4 4 4 0 0 5 0 4 2 1 3]\n",
      "Cluster :  {4: ['autoattack', 'autopgd', 'bim', 'newtonfool'], 0: ['cw', 'fgsm', 'deepfool'], 5: ['pgd'], 2: ['squareattack'], 1: ['pixelattack'], 3: ['spatialtransformation']}\n",
      "Centroid :  {4: 'newtonfool', 0: 'deepfool', 5: 'pgd', 2: 'squareattack', 1: 'pixelattack', 3: 'spatialtransformation'}\n",
      "Combined:  deepfool_pixelattack_squareattack_spatialtransformation_newtonfool_pgd\n",
      "\n",
      "N cluster :  7\n",
      "Silhouette Coefficient: 0.012\n",
      "Label :  [5 3 3 0 0 6 0 3 4 1 2]\n",
      "Cluster :  {5: ['autoattack'], 3: ['autopgd', 'bim', 'newtonfool'], 0: ['cw', 'fgsm', 'deepfool'], 6: ['pgd'], 4: ['squareattack'], 1: ['pixelattack'], 2: ['spatialtransformation']}\n",
      "Centroid :  {5: 'autoattack', 3: 'newtonfool', 0: 'deepfool', 6: 'pgd', 4: 'squareattack', 1: 'pixelattack', 2: 'spatialtransformation'}\n",
      "Combined:  deepfool_pixelattack_spatialtransformation_newtonfool_squareattack_autoattack_pgd\n",
      "\n",
      "N cluster :  8\n",
      "Silhouette Coefficient: 0.011\n",
      "Label :  [3 7 4 0 0 5 0 4 6 1 2]\n",
      "Cluster :  {3: ['autoattack'], 7: ['autopgd'], 4: ['bim', 'newtonfool'], 0: ['cw', 'fgsm', 'deepfool'], 5: ['pgd'], 6: ['squareattack'], 1: ['pixelattack'], 2: ['spatialtransformation']}\n",
      "Centroid :  {3: 'autoattack', 7: 'autopgd', 4: 'bim', 0: 'deepfool', 5: 'pgd', 6: 'squareattack', 1: 'pixelattack', 2: 'spatialtransformation'}\n",
      "Combined:  deepfool_pixelattack_spatialtransformation_autoattack_bim_pgd_squareattack_autopgd\n",
      "\n",
      "N cluster :  9\n",
      "Silhouette Coefficient: 0.011\n",
      "Label :  [7 8 3 0 5 6 0 3 4 1 2]\n",
      "Cluster :  {7: ['autoattack'], 8: ['autopgd'], 3: ['bim', 'newtonfool'], 0: ['cw', 'deepfool'], 5: ['fgsm'], 6: ['pgd'], 4: ['squareattack'], 1: ['pixelattack'], 2: ['spatialtransformation']}\n",
      "Centroid :  {7: 'autoattack', 8: 'autopgd', 3: 'bim', 0: 'cw', 5: 'fgsm', 6: 'pgd', 4: 'squareattack', 1: 'pixelattack', 2: 'spatialtransformation'}\n",
      "Combined:  cw_pixelattack_spatialtransformation_bim_squareattack_fgsm_pgd_autoattack_autopgd\n"
     ]
    }
   ],
   "source": [
    "from sklearn.cluster import KMeans\n",
    "\n",
    "for i in range(2, 10) :\n",
    "    kmeans = KMeans(n_clusters=i, random_state=0).fit(accuracies)\n",
    "    labels = kmeans.labels_\n",
    "    print()\n",
    "    print(\"N cluster : \", i)\n",
    "    print(\"Silhouette Coefficient: %0.3f\"\n",
    "      % metrics.silhouette_score(accuracies, labels))\n",
    "    print(\"Label : \", labels)\n",
    "    print(\"Cluster : \", get_cluster(labels, attacks))\n",
    "    centroids = get_centroids(get_cluster(labels, attacks))\n",
    "    print(\"Centroid : \", centroids)\n",
    "    comb_str = \"\"\n",
    "    for j in range(i) :\n",
    "        comb_str += centroids[j]\n",
    "        if j != i-1 :\n",
    "            comb_str += \"_\"\n",
    "        \n",
    "    print(\"Combined: \", comb_str)"
   ]
  },
  {
   "cell_type": "markdown",
   "metadata": {},
   "source": [
    "## Elbow score\n",
    "Source: https://towardsdatascience.com/explaining-k-means-clustering-5298dc47bad6"
   ]
  },
  {
   "cell_type": "code",
   "execution_count": 24,
   "metadata": {},
   "outputs": [
    {
     "data": {
      "text/plain": [
       "Text(0, 0.5, 'Inertia')"
      ]
     },
     "execution_count": 24,
     "metadata": {},
     "output_type": "execute_result"
    },
    {
     "data": {
      "image/png": "[encoded data removed]",
      "text/plain": [
       "<Figure size 864x432 with 1 Axes>"
      ]
     },
     "metadata": {},
     "output_type": "display_data"
    }
   ],
   "source": [
    "sse = []\n",
    "k_list = range(2, 10)\n",
    "for k in k_list :\n",
    "    km = KMeans(n_clusters=i, random_state=0)\n",
    "    km.fit(accuracies)\n",
    "    sse.append([k, km.inertia_])\n",
    "    \n",
    "oca_results_scale = pd.DataFrame({'Cluster': k_list, 'SSE': sse})\n",
    "plt.figure(figsize=(12,6))\n",
    "plt.plot(pd.DataFrame(sse)[0], pd.DataFrame(sse)[1], marker='o')\n",
    "plt.title('Optimal Number of Clusters using Elbow Method (Scaled Data)')\n",
    "plt.xlabel('Number of clusters')\n",
    "plt.ylabel('Inertia')"
   ]
  },
  {
   "cell_type": "code",
   "execution_count": 25,
   "metadata": {},
   "outputs": [
    {
     "name": "stdout",
     "output_type": "stream",
     "text": [
      "\n",
      "N cluster :  2\n",
      "Label :  [0 0 0 0 0 0 0 0 0 1 0]\n",
      "Silhouette Coefficient: 0.433\n",
      "\n",
      "N cluster :  3\n",
      "Label :  [0 0 0 0 0 0 0 0 0 1 2]\n",
      "Silhouette Coefficient: 0.294\n",
      "\n",
      "N cluster :  4\n",
      "Label :  [0 0 0 0 0 0 0 0 3 1 2]\n",
      "Silhouette Coefficient: 0.047\n",
      "\n",
      "N cluster :  5\n",
      "Label :  [0 0 0 0 0 4 0 0 3 1 2]\n",
      "Silhouette Coefficient: 0.021\n",
      "\n",
      "N cluster :  6\n",
      "Label :  [5 0 0 0 0 4 0 0 3 1 2]\n",
      "Silhouette Coefficient: 0.009\n",
      "\n",
      "N cluster :  7\n",
      "Label :  [5 0 0 2 2 4 2 0 3 1 6]\n",
      "Silhouette Coefficient: 0.012\n",
      "\n",
      "N cluster :  8\n",
      "Label :  [5 7 2 0 0 4 0 2 3 1 6]\n",
      "Silhouette Coefficient: 0.011\n",
      "\n",
      "N cluster :  9\n",
      "Label :  [5 7 0 2 8 4 2 0 3 1 6]\n",
      "Silhouette Coefficient: 0.011\n"
     ]
    }
   ],
   "source": [
    "from sklearn.cluster import AgglomerativeClustering\n",
    "\n",
    "for i in range(2, 10) :\n",
    "    cluster = AgglomerativeClustering(n_clusters=i, affinity=\"manhattan\", linkage=\"average\").fit(accuracies)\n",
    "    labels = cluster.labels_\n",
    "    print()\n",
    "    print(\"N cluster : \", i)\n",
    "    print(\"Label : \", labels)\n",
    "    print(\"Silhouette Coefficient: %0.3f\"\n",
    "      % metrics.silhouette_score(accuracies, labels))"
   ]
  },
  {
   "cell_type": "markdown",
   "metadata": {},
   "source": [
    "## Dimensionality Reduction"
   ]
  },
  {
   "cell_type": "markdown",
   "metadata": {},
   "source": [
    "### t-SNE"
   ]
  },
  {
   "cell_type": "code",
   "execution_count": 26,
   "metadata": {},
   "outputs": [
    {
     "name": "stdout",
     "output_type": "stream",
     "text": [
      "Automatically created module for IPython interactive environment\n",
      "circles, perplexity=5 in 0.35 sec\n",
      "circles, perplexity=10 in 0.36 sec\n",
      "circles, perplexity=30 in 0.46 sec\n",
      "circles, perplexity=50 in 0.45 sec\n",
      "circles, perplexity=100 in 0.39 sec\n"
     ]
    },
    {
     "data": {
      "image/png": "[encoded data removed]",
      "text/plain": [
       "<Figure size 1440x288 with 5 Axes>"
      ]
     },
     "metadata": {},
     "output_type": "display_data"
    }
   ],
   "source": [
    "# Author: Narine Kokhlikyan <narine@slice.com>\n",
    "# License: BSD\n",
    "\n",
    "print(__doc__)\n",
    "\n",
    "import numpy as np\n",
    "import matplotlib.pyplot as plt\n",
    "\n",
    "from matplotlib.ticker import NullFormatter\n",
    "from sklearn import manifold, datasets\n",
    "from time import time\n",
    "\n",
    "n_samples = 300\n",
    "n_components = 2\n",
    "(fig, subplots) = plt.subplots(1, 5, figsize=(20, 4))\n",
    "perplexities = [5, 10,  30, 50, 100]\n",
    "\n",
    "for i, perplexity in enumerate(perplexities):\n",
    "    ax = subplots[i]\n",
    "\n",
    "    t0 = time()\n",
    "    tsne = manifold.TSNE(n_components=n_components, init='random',\n",
    "                         random_state=0, perplexity=perplexity)\n",
    "    Y = tsne.fit_transform(accuracies)\n",
    "    t1 = time()\n",
    "    print(\"circles, perplexity=%d in %.2g sec\" % (perplexity, t1 - t0))\n",
    "    ax.set_title(\"Perplexity=%d\" % perplexity)\n",
    "    ax.scatter(Y[:,0], Y[:,1])\n",
    "    ax.xaxis.set_major_formatter(NullFormatter())\n",
    "    ax.yaxis.set_major_formatter(NullFormatter())\n",
    "    ax.axis('tight')"
   ]
  },
  {
   "cell_type": "markdown",
   "metadata": {},
   "source": [
    "### Dimensionality Reduction using PCA\n",
    "source: https://towardsdatascience.com/explaining-k-means-clustering-5298dc47bad6"
   ]
  },
  {
   "cell_type": "code",
   "execution_count": 28,
   "metadata": {},
   "outputs": [],
   "source": [
    "import pandas as pd\n",
    "import numpy as np\n",
    "import matplotlib.pyplot as plt\n",
    "from mpl_toolkits.mplot3d import Axes3D\n",
    "import seaborn as sns\n",
    "from sklearn.cluster import KMeans\n",
    "from sklearn.preprocessing import StandardScaler\n",
    "from sklearn.decomposition import PCA\n",
    "from sklearn.manifold import TSNE\n",
    "from sklearn.metrics import silhouette_score"
   ]
  },
  {
   "cell_type": "code",
   "execution_count": 29,
   "metadata": {},
   "outputs": [
    {
     "name": "stdout",
     "output_type": "stream",
     "text": [
      "[0.42752106 0.1482201 ]\n"
     ]
    }
   ],
   "source": [
    "from sklearn.decomposition import PCA\n",
    "\n",
    "n_components = 2\n",
    "columns = [\"pc\" + str(i) for i in range(n_components)]\n",
    "pca = PCA(n_components=n_components)\n",
    "pca_scale = pca.fit_transform(accuracies)\n",
    "pca_df_scale = pd.DataFrame(pca_scale, columns=columns)\n",
    "print(pca.explained_variance_ratio_)"
   ]
  },
  {
   "cell_type": "code",
   "execution_count": 30,
   "metadata": {},
   "outputs": [
    {
     "data": {
      "text/plain": [
       "Text(0, 0.5, 'Inertia')"
      ]
     },
     "execution_count": 30,
     "metadata": {},
     "output_type": "execute_result"
    },
    {
     "data": {
      "image/png": "[encoded data removed]",
      "text/plain": [
       "<Figure size 864x432 with 1 Axes>"
      ]
     },
     "metadata": {},
     "output_type": "display_data"
    }
   ],
   "source": [
    "sse = []\n",
    "k_list = range(2, 10)\n",
    "for k in k_list:\n",
    "    km = KMeans(n_clusters=k)\n",
    "    km.fit(pca_df_scale)\n",
    "    sse.append([k, km.inertia_])\n",
    "    \n",
    "pca_results_scale = pd.DataFrame({'Cluster': k_list, 'SSE': sse})\n",
    "plt.figure(figsize=(12,6))\n",
    "plt.plot(pd.DataFrame(sse)[0], pd.DataFrame(sse)[1], marker='o')\n",
    "plt.title('Optimal Number of Clusters using Elbow Method (PCA_Scaled Data)')\n",
    "plt.xlabel('Number of clusters')\n",
    "plt.ylabel('Inertia')"
   ]
  },
  {
   "cell_type": "code",
   "execution_count": 35,
   "metadata": {},
   "outputs": [
    {
     "name": "stdout",
     "output_type": "stream",
     "text": [
      "KMeans PCA Scaled Silhouette Score: 0.36121977338958566\n",
      "Cluster :  {3: ['autoattack', 'autopgd', 'bim', 'cw', 'fgsm', 'pgd', 'deepfool', 'newtonfool'], 1: ['squareattack'], 0: ['pixelattack'], 2: ['spatialtransformation']}\n",
      "Centroid :  ['pixelattack', 'squareattack', 'spatialtransformation', 'bim']\n",
      "pixelattack_squareattack_spatialtransformation_bim\n"
     ]
    }
   ],
   "source": [
    "from sklearn.metrics import pairwise_distances_argmin_min\n",
    "\n",
    "n_cluster = 4\n",
    "kmeans_pca_scale = KMeans(n_clusters=n_cluster, n_init=1, max_iter=500, init='k-means++', random_state=42).fit(pca_df_scale)\n",
    "print('KMeans PCA Scaled Silhouette Score: {}'.format(silhouette_score(pca_df_scale, kmeans_pca_scale.labels_, metric='euclidean')))\n",
    "labels_pca_scale = kmeans_pca_scale.labels_\n",
    "print(\"Cluster : \", get_cluster(labels_pca_scale, attacks))\n",
    "cluster_centers = kmeans_pca_scale.cluster_centers_\n",
    "closest_id, _ = pairwise_distances_argmin_min(cluster_centers, pca_df_scale)\n",
    "closest = []\n",
    "for i in closest_id :\n",
    "    closest.append(id_to_attack[i])\n",
    "print(\"Centroid : \", closest)\n",
    "print(\"_\".join(closest))\n",
    "\n",
    "\n",
    "clusters_pca_scale = pd.concat([pca_df_scale, pd.DataFrame({'pca_clusters':labels_pca_scale})], axis=1)"
   ]
  },
  {
   "cell_type": "code",
   "execution_count": 36,
   "metadata": {},
   "outputs": [
    {
     "name": "stderr",
     "output_type": "stream",
     "text": [
      "/opt/conda/lib/python3.7/site-packages/seaborn/_decorators.py:43: FutureWarning: Pass the following variables as keyword args: x, y. From version 0.12, the only valid positional argument will be `data`, and passing other arguments without an explicit keyword will result in an error or misinterpretation.\n",
      "  FutureWarning\n"
     ]
    },
    {
     "data": {
      "image/png": "[encoded data removed]",
      "text/plain": [
       "<Figure size 720x720 with 1 Axes>"
      ]
     },
     "metadata": {},
     "output_type": "display_data"
    }
   ],
   "source": [
    "plt.figure(figsize = (10,10))\n",
    "p1 = sns.scatterplot(clusters_pca_scale.iloc[:,0],clusters_pca_scale.iloc[:,1], hue=labels_pca_scale, palette='Set1', s=100, alpha=0.8)\n",
    "p1.set_title('KMeans Clusters ({}) Derived from PCA'.format(n_cluster), fontsize=15)\n",
    "\n",
    "for line in range(0,pca_df_scale.shape[0]):\n",
    "     p1.text(pca_df_scale[\"pc0\"][line]+2, pca_df_scale[\"pc1\"][line], \n",
    "         attacks[line], horizontalalignment='left', \n",
    "         size='small', color='black', weight='semibold')\n",
    "plt.legend()\n",
    "plt.show()"
   ]
  },
  {
   "cell_type": "code",
   "execution_count": null,
   "metadata": {},
   "outputs": [],
   "source": []
  },
  {
   "cell_type": "code",
   "execution_count": null,
   "metadata": {},
   "outputs": [],
   "source": []
  },
  {
   "cell_type": "code",
   "execution_count": null,
   "metadata": {},
   "outputs": [],
   "source": []
  }
 ],
 "metadata": {
  "kernelspec": {
   "display_name": "Python 3",
   "language": "python",
   "name": "python3"
  },
  "language_info": {
   "codemirror_mode": {
    "name": "ipython",
    "version": 3
   },
   "file_extension": ".py",
   "mimetype": "text/x-python",
   "name": "python",
   "nbconvert_exporter": "python",
   "pygments_lexer": "ipython3",
   "version": "3.7.7"
  }
 },
 "nbformat": 4,
 "nbformat_minor": 4
}
