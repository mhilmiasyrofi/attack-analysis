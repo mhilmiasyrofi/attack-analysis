{
 "cells": [
  {
   "cell_type": "markdown",
   "metadata": {},
   "source": [
    "# Cluster Analysis"
   ]
  },
  {
   "cell_type": "code",
   "execution_count": 2,
   "metadata": {},
   "outputs": [],
   "source": [
    "import pandas as pd\n",
    "import numpy as np\n",
    "import seaborn as sns\n",
    "import matplotlib.pyplot as plt\n",
    "%matplotlib inline\n",
    "from scipy.spatial import distance"
   ]
  },
  {
   "cell_type": "code",
   "execution_count": 20,
   "metadata": {},
   "outputs": [],
   "source": [
    "base_dir = \"../trained_models/BagOfTricks/1000val/full/\"\n",
    "def load_data(train, test, fname) :\n",
    "#     fpath = base_dir + \"{}/val/1000/best/{}/{}.txt\".format(train, test, fname)\n",
    "    fpath = base_dir + \"{}/eval/best/{}/{}.txt\".format(train, test, fname)\n",
    "    return np.loadtxt(fpath).astype(np.int)\n",
    "\n",
    "train = \"autoattack\"\n",
    "test = \"pgd\"\n",
    "\n",
    "y_original = load_data(train, test, \"Y_original\")\n",
    "y_original_pred = load_data(train, test, \"Y_original_pred\")\n",
    "y_adv = load_data(train, test, \"Y_adv\")\n",
    "y_adv_pred = load_data(train, test, \"Y_adv_pred\")"
   ]
  },
  {
   "cell_type": "code",
   "execution_count": 21,
   "metadata": {},
   "outputs": [
    {
     "name": "stdout",
     "output_type": "stream",
     "text": [
      "Y_adv(pgd,autoattack): [3 8 8 ... 5 1 7]\n",
      "Y_adv_pred(pgd,autoattack): [3 8 8 ... 5 1 7]\n"
     ]
    }
   ],
   "source": [
    "def get_robust_data(train, test):\n",
    "    y_adv = load_data(train, test, \"Y_adv\")\n",
    "    y_adv_pred = load_data(train, test, \"Y_adv_pred\")\n",
    "    return y_adv, y_adv_pred\n",
    "\n",
    "train = \"pgd\"\n",
    "test = \"autoattack\"\n",
    "y_adv, y_adv_pred = get_robust_data(train, test)\n",
    "\n",
    "print(\"Y_adv({},{}): {}\".format(train, test, y_adv))\n",
    "print(\"Y_adv_pred({},{}): {}\".format(train, test, y_adv_pred))"
   ]
  },
  {
   "cell_type": "code",
   "execution_count": 22,
   "metadata": {},
   "outputs": [
    {
     "name": "stdout",
     "output_type": "stream",
     "text": [
      "Y_adv(fgsm,autopgd): [3 8 8 ... 5 1 7]\n",
      "Y_adv_pred(fgsm,autopgd): [3 8 8 ... 5 0 7]\n"
     ]
    }
   ],
   "source": [
    "train = \"fgsm\"\n",
    "test = \"autopgd\"\n",
    "y_adv, y_adv_pred = get_robust_data(train, test)\n",
    "\n",
    "print(\"Y_adv({},{}): {}\".format(train, test, y_adv))\n",
    "print(\"Y_adv_pred({},{}): {}\".format(train, test, y_adv_pred))"
   ]
  },
  {
   "cell_type": "code",
   "execution_count": 23,
   "metadata": {},
   "outputs": [],
   "source": [
    "attacks = [\"autoattack\", \"autopgd\", \"bim\", \"cw\", \"fgsm\", \"pgd\", \"deepfool\", \"newtonfool\", \"squareattack\", \"pixelattack\", \"spatialtransformation\"]\n",
    "\n",
    "attack_to_id = {}\n",
    "id_to_attack = {}\n",
    "for i in range(len(attacks)) :\n",
    "    attack_to_id[attacks[i]] = i\n",
    "    id_to_attack[i] = attacks[i]"
   ]
  },
  {
   "cell_type": "code",
   "execution_count": 24,
   "metadata": {},
   "outputs": [],
   "source": [
    "predictions = {}\n",
    "labels = {}\n",
    "\n",
    "for a1 in attacks :\n",
    "    p = np.array([])\n",
    "    l = np.array([])\n",
    "    for a2 in attacks :\n",
    "        y, y_pred = get_robust_data(a1, a2)\n",
    "        p = np.concatenate((p, y_pred))\n",
    "        l = np.concatenate((l, y))\n",
    "    predictions[a1] = p\n",
    "    labels[a1] = l"
   ]
  },
  {
   "cell_type": "code",
   "execution_count": 25,
   "metadata": {},
   "outputs": [
    {
     "data": {
      "text/plain": [
       "{'autoattack': array([3., 8., 8., ..., 6., 1., 7.]),\n",
       " 'autopgd': array([3., 8., 9., ..., 5., 0., 7.]),\n",
       " 'bim': array([3., 8., 9., ..., 3., 0., 7.]),\n",
       " 'cw': array([3., 8., 8., ..., 3., 3., 9.]),\n",
       " 'fgsm': array([3., 8., 8., ..., 3., 1., 7.]),\n",
       " 'pgd': array([3., 8., 8., ..., 5., 1., 7.]),\n",
       " 'deepfool': array([3., 1., 9., ..., 5., 1., 5.]),\n",
       " 'newtonfool': array([3., 8., 1., ..., 8., 1., 2.]),\n",
       " 'squareattack': array([3., 8., 1., ..., 6., 1., 6.]),\n",
       " 'pixelattack': array([8., 8., 8., ..., 8., 8., 8.]),\n",
       " 'spatialtransformation': array([3., 8., 0., ..., 5., 1., 7.])}"
      ]
     },
     "execution_count": 25,
     "metadata": {},
     "output_type": "execute_result"
    }
   ],
   "source": [
    "predictions"
   ]
  },
  {
   "cell_type": "code",
   "execution_count": 26,
   "metadata": {},
   "outputs": [
    {
     "data": {
      "text/plain": [
       "{'autoattack': array([3., 8., 8., ..., 5., 1., 7.]),\n",
       " 'autopgd': array([3., 8., 8., ..., 5., 1., 7.]),\n",
       " 'bim': array([3., 8., 8., ..., 5., 1., 7.]),\n",
       " 'cw': array([3., 8., 8., ..., 5., 1., 7.]),\n",
       " 'fgsm': array([3., 8., 8., ..., 5., 1., 7.]),\n",
       " 'pgd': array([3., 8., 8., ..., 5., 1., 7.]),\n",
       " 'deepfool': array([3., 8., 8., ..., 5., 1., 7.]),\n",
       " 'newtonfool': array([3., 8., 8., ..., 5., 1., 7.]),\n",
       " 'squareattack': array([3., 8., 8., ..., 5., 1., 7.]),\n",
       " 'pixelattack': array([3., 8., 8., ..., 5., 1., 7.]),\n",
       " 'spatialtransformation': array([3., 8., 8., ..., 5., 1., 7.])}"
      ]
     },
     "execution_count": 26,
     "metadata": {},
     "output_type": "execute_result"
    }
   ],
   "source": [
    "labels"
   ]
  },
  {
   "cell_type": "code",
   "execution_count": 27,
   "metadata": {},
   "outputs": [
    {
     "data": {
      "text/plain": [
       "[array([ True,  True,  True, ..., False,  True,  True]),\n",
       " array([ True,  True, False, ...,  True, False,  True]),\n",
       " array([ True,  True, False, ..., False, False,  True]),\n",
       " array([ True,  True,  True, ..., False, False, False]),\n",
       " array([ True,  True,  True, ..., False,  True,  True]),\n",
       " array([ True,  True,  True, ...,  True,  True,  True]),\n",
       " array([ True, False, False, ...,  True,  True, False]),\n",
       " array([ True,  True, False, ..., False,  True, False]),\n",
       " array([ True,  True, False, ..., False,  True, False]),\n",
       " array([False,  True,  True, ..., False, False, False]),\n",
       " array([ True,  True, False, ...,  True,  True,  True])]"
      ]
     },
     "execution_count": 27,
     "metadata": {},
     "output_type": "execute_result"
    }
   ],
   "source": [
    "# compare the labels with the predictions\n",
    "\n",
    "accuracies = []\n",
    "for a in attacks :\n",
    "    accuracies.append(np.equal(predictions[a], labels[a]))\n",
    "accuracies"
   ]
  },
  {
   "cell_type": "code",
   "execution_count": 28,
   "metadata": {},
   "outputs": [
    {
     "data": {
      "text/html": [
       "<div>\n",
       "<style scoped>\n",
       "    .dataframe tbody tr th:only-of-type {\n",
       "        vertical-align: middle;\n",
       "    }\n",
       "\n",
       "    .dataframe tbody tr th {\n",
       "        vertical-align: top;\n",
       "    }\n",
       "\n",
       "    .dataframe thead th {\n",
       "        text-align: right;\n",
       "    }\n",
       "</style>\n",
       "<table border=\"1\" class=\"dataframe\">\n",
       "  <thead>\n",
       "    <tr style=\"text-align: right;\">\n",
       "      <th></th>\n",
       "      <th>attack</th>\n",
       "      <th>accuracy</th>\n",
       "    </tr>\n",
       "  </thead>\n",
       "  <tbody>\n",
       "    <tr>\n",
       "      <th>0</th>\n",
       "      <td>autoattack</td>\n",
       "      <td>0.621818</td>\n",
       "    </tr>\n",
       "    <tr>\n",
       "      <th>1</th>\n",
       "      <td>autopgd</td>\n",
       "      <td>0.632400</td>\n",
       "    </tr>\n",
       "    <tr>\n",
       "      <th>2</th>\n",
       "      <td>bim</td>\n",
       "      <td>0.620645</td>\n",
       "    </tr>\n",
       "    <tr>\n",
       "      <th>3</th>\n",
       "      <td>cw</td>\n",
       "      <td>0.621636</td>\n",
       "    </tr>\n",
       "    <tr>\n",
       "      <th>4</th>\n",
       "      <td>fgsm</td>\n",
       "      <td>0.611645</td>\n",
       "    </tr>\n",
       "    <tr>\n",
       "      <th>5</th>\n",
       "      <td>pgd</td>\n",
       "      <td>0.615991</td>\n",
       "    </tr>\n",
       "    <tr>\n",
       "      <th>6</th>\n",
       "      <td>deepfool</td>\n",
       "      <td>0.626436</td>\n",
       "    </tr>\n",
       "    <tr>\n",
       "      <th>7</th>\n",
       "      <td>newtonfool</td>\n",
       "      <td>0.620200</td>\n",
       "    </tr>\n",
       "    <tr>\n",
       "      <th>8</th>\n",
       "      <td>squareattack</td>\n",
       "      <td>0.582791</td>\n",
       "    </tr>\n",
       "    <tr>\n",
       "      <th>9</th>\n",
       "      <td>pixelattack</td>\n",
       "      <td>0.149455</td>\n",
       "    </tr>\n",
       "    <tr>\n",
       "      <th>10</th>\n",
       "      <td>spatialtransformation</td>\n",
       "      <td>0.449636</td>\n",
       "    </tr>\n",
       "  </tbody>\n",
       "</table>\n",
       "</div>"
      ],
      "text/plain": [
       "                   attack  accuracy\n",
       "0              autoattack  0.621818\n",
       "1                 autopgd  0.632400\n",
       "2                     bim  0.620645\n",
       "3                      cw  0.621636\n",
       "4                    fgsm  0.611645\n",
       "5                     pgd  0.615991\n",
       "6                deepfool  0.626436\n",
       "7              newtonfool  0.620200\n",
       "8            squareattack  0.582791\n",
       "9             pixelattack  0.149455\n",
       "10  spatialtransformation  0.449636"
      ]
     },
     "execution_count": 28,
     "metadata": {},
     "output_type": "execute_result"
    }
   ],
   "source": [
    "accs = []\n",
    "for a in attacks :\n",
    "    tr = (labels[a] == predictions[a]).sum().item()\n",
    "    accs.append(tr / len(labels[a]))\n",
    "    \n",
    "accs = pd.DataFrame(data={\"attack\": attacks, \"accuracy\": accs})\n",
    "accs"
   ]
  },
  {
   "cell_type": "code",
   "execution_count": 29,
   "metadata": {},
   "outputs": [
    {
     "data": {
      "text/html": [
       "<div>\n",
       "<style scoped>\n",
       "    .dataframe tbody tr th:only-of-type {\n",
       "        vertical-align: middle;\n",
       "    }\n",
       "\n",
       "    .dataframe tbody tr th {\n",
       "        vertical-align: top;\n",
       "    }\n",
       "\n",
       "    .dataframe thead th {\n",
       "        text-align: right;\n",
       "    }\n",
       "</style>\n",
       "<table border=\"1\" class=\"dataframe\">\n",
       "  <thead>\n",
       "    <tr style=\"text-align: right;\">\n",
       "      <th></th>\n",
       "      <th>attack</th>\n",
       "      <th>accuracy</th>\n",
       "    </tr>\n",
       "  </thead>\n",
       "  <tbody>\n",
       "    <tr>\n",
       "      <th>0</th>\n",
       "      <td>autopgd</td>\n",
       "      <td>0.632400</td>\n",
       "    </tr>\n",
       "    <tr>\n",
       "      <th>1</th>\n",
       "      <td>deepfool</td>\n",
       "      <td>0.626436</td>\n",
       "    </tr>\n",
       "    <tr>\n",
       "      <th>2</th>\n",
       "      <td>autoattack</td>\n",
       "      <td>0.621818</td>\n",
       "    </tr>\n",
       "    <tr>\n",
       "      <th>3</th>\n",
       "      <td>cw</td>\n",
       "      <td>0.621636</td>\n",
       "    </tr>\n",
       "    <tr>\n",
       "      <th>4</th>\n",
       "      <td>bim</td>\n",
       "      <td>0.620645</td>\n",
       "    </tr>\n",
       "    <tr>\n",
       "      <th>5</th>\n",
       "      <td>newtonfool</td>\n",
       "      <td>0.620200</td>\n",
       "    </tr>\n",
       "    <tr>\n",
       "      <th>6</th>\n",
       "      <td>pgd</td>\n",
       "      <td>0.615991</td>\n",
       "    </tr>\n",
       "    <tr>\n",
       "      <th>7</th>\n",
       "      <td>fgsm</td>\n",
       "      <td>0.611645</td>\n",
       "    </tr>\n",
       "    <tr>\n",
       "      <th>8</th>\n",
       "      <td>squareattack</td>\n",
       "      <td>0.582791</td>\n",
       "    </tr>\n",
       "    <tr>\n",
       "      <th>9</th>\n",
       "      <td>spatialtransformation</td>\n",
       "      <td>0.449636</td>\n",
       "    </tr>\n",
       "    <tr>\n",
       "      <th>10</th>\n",
       "      <td>pixelattack</td>\n",
       "      <td>0.149455</td>\n",
       "    </tr>\n",
       "  </tbody>\n",
       "</table>\n",
       "</div>"
      ],
      "text/plain": [
       "                   attack  accuracy\n",
       "0                 autopgd  0.632400\n",
       "1                deepfool  0.626436\n",
       "2              autoattack  0.621818\n",
       "3                      cw  0.621636\n",
       "4                     bim  0.620645\n",
       "5              newtonfool  0.620200\n",
       "6                     pgd  0.615991\n",
       "7                    fgsm  0.611645\n",
       "8            squareattack  0.582791\n",
       "9   spatialtransformation  0.449636\n",
       "10            pixelattack  0.149455"
      ]
     },
     "execution_count": 29,
     "metadata": {},
     "output_type": "execute_result"
    }
   ],
   "source": [
    "sorted_acc = accs.sort_values(by=\"accuracy\", ascending=False).reset_index(drop=True)\n",
    "sorted_acc"
   ]
  },
  {
   "cell_type": "markdown",
   "metadata": {},
   "source": [
    "### Dimensionality Reduction using PCA\n",
    "source: https://towardsdatascience.com/explaining-k-means-clustering-5298dc47bad6"
   ]
  },
  {
   "cell_type": "code",
   "execution_count": 30,
   "metadata": {},
   "outputs": [],
   "source": [
    "import pandas as pd\n",
    "import numpy as np\n",
    "import matplotlib.pyplot as plt\n",
    "from mpl_toolkits.mplot3d import Axes3D\n",
    "import seaborn as sns\n",
    "from sklearn.cluster import KMeans\n",
    "from sklearn.preprocessing import StandardScaler\n",
    "from sklearn.decomposition import PCA\n",
    "from sklearn.manifold import TSNE\n",
    "from sklearn.metrics import silhouette_score\n",
    "from sklearn import metrics"
   ]
  },
  {
   "cell_type": "code",
   "execution_count": 31,
   "metadata": {},
   "outputs": [
    {
     "name": "stdout",
     "output_type": "stream",
     "text": [
      "[0.3122146  0.13327788]\n"
     ]
    }
   ],
   "source": [
    "from sklearn.decomposition import PCA\n",
    "\n",
    "n_components = 2\n",
    "columns = [\"PC\" + str(i+1) for i in range(n_components)]\n",
    "pca = PCA(n_components=n_components)\n",
    "pca_scale = pca.fit_transform(accuracies)\n",
    "pca_df_scale = pd.DataFrame(pca_scale, columns=columns)\n",
    "print(pca.explained_variance_ratio_)"
   ]
  },
  {
   "cell_type": "code",
   "execution_count": 32,
   "metadata": {},
   "outputs": [
    {
     "name": "stdout",
     "output_type": "stream",
     "text": [
      "N cluster :  2\n",
      "Silhouette Coefficient: 0.741\n",
      "N cluster :  3\n",
      "Silhouette Coefficient: 0.778\n",
      "N cluster :  4\n",
      "Silhouette Coefficient: 0.305\n",
      "N cluster :  5\n",
      "Silhouette Coefficient: 0.400\n",
      "N cluster :  6\n",
      "Silhouette Coefficient: 0.131\n",
      "N cluster :  7\n",
      "Silhouette Coefficient: 0.157\n",
      "N cluster :  8\n",
      "Silhouette Coefficient: 0.139\n",
      "N cluster :  9\n",
      "Silhouette Coefficient: 0.094\n"
     ]
    },
    {
     "data": {
      "image/png": "[encoded data removed]",
      "text/plain": [
       "<Figure size 864x432 with 2 Axes>"
      ]
     },
     "metadata": {
      "needs_background": "light"
     },
     "output_type": "display_data"
    }
   ],
   "source": [
    "sse = []\n",
    "silhouttes = []\n",
    "k_list = range(2, 10)\n",
    "for k in k_list:\n",
    "    km = KMeans(n_clusters=k,  n_init=1, max_iter=500, init='k-means++', random_state=42)\n",
    "    km.fit(pca_df_scale)\n",
    "    labels = km.labels_\n",
    "    sse.append([k, km.inertia_])\n",
    "    print(\"N cluster : \", k)\n",
    "    silhoutte = metrics.silhouette_score(pca_df_scale, labels)\n",
    "    print(\"Silhouette Coefficient: %0.3f\" % silhoutte)\n",
    "    silhouttes.append([k, silhoutte])\n",
    "    \n",
    "pca_results_scale = pd.DataFrame({'Cluster': k_list, 'SSE': sse})\n",
    "plt.figure(figsize=(12,6))\n",
    "plt.plot(pd.DataFrame(sse)[0], pd.DataFrame(sse)[1], marker='o', color=\"blue\", label=\"elbow\")\n",
    "plt.title('Optimal Number of Clusters using Elbow and Silhoutte Analysis (PCA_Scaled Data)')\n",
    "plt.xlabel('Number of clusters')\n",
    "plt.ylabel('Inertia')\n",
    "plt.legend(loc='lower left')\n",
    "plt.twinx()\n",
    "plt.plot(pd.DataFrame(silhouttes)[0], pd.DataFrame(silhouttes)[1], marker='o', color='red', label=\"silhoutte\")\n",
    "plt.ylabel('Silhouttes Coefficient')\n",
    "f = plt.legend(loc='upper right')\n",
    "\n",
    "path = \"plot/bot-cluster-analysis.png\"\n",
    "f.figure.savefig(path, bbox_inches='tight')"
   ]
  },
  {
   "cell_type": "code",
   "execution_count": 33,
   "metadata": {},
   "outputs": [
    {
     "name": "stdout",
     "output_type": "stream",
     "text": [
      "KMeans PCA Scaled Silhouette Score: 0.7775285536296755\n"
     ]
    }
   ],
   "source": [
    "from sklearn.metrics import pairwise_distances_argmin_min\n",
    "\n",
    "n_cluster = 3\n",
    "kmeans_pca_scale = KMeans(n_clusters=n_cluster, n_init=100, max_iter=500, init='k-means++', random_state=42).fit(pca_df_scale)\n",
    "print('KMeans PCA Scaled Silhouette Score: {}'.format(silhouette_score(pca_df_scale, kmeans_pca_scale.labels_, metric='euclidean')))\n",
    "labels_pca_scale = kmeans_pca_scale.labels_\n",
    "\n",
    "clusters_pca_scale = pd.concat([pca_df_scale, pd.DataFrame({'pca_clusters':labels_pca_scale})], axis=1)"
   ]
  },
  {
   "cell_type": "code",
   "execution_count": 34,
   "metadata": {},
   "outputs": [
    {
     "data": {
      "text/html": [
       "<div>\n",
       "<style scoped>\n",
       "    .dataframe tbody tr th:only-of-type {\n",
       "        vertical-align: middle;\n",
       "    }\n",
       "\n",
       "    .dataframe tbody tr th {\n",
       "        vertical-align: top;\n",
       "    }\n",
       "\n",
       "    .dataframe thead th {\n",
       "        text-align: right;\n",
       "    }\n",
       "</style>\n",
       "<table border=\"1\" class=\"dataframe\">\n",
       "  <thead>\n",
       "    <tr style=\"text-align: right;\">\n",
       "      <th></th>\n",
       "      <th>PC1</th>\n",
       "      <th>PC2</th>\n",
       "    </tr>\n",
       "  </thead>\n",
       "  <tbody>\n",
       "    <tr>\n",
       "      <th>0</th>\n",
       "      <td>-32.804080</td>\n",
       "      <td>-9.168362</td>\n",
       "    </tr>\n",
       "    <tr>\n",
       "      <th>1</th>\n",
       "      <td>-32.434199</td>\n",
       "      <td>-12.021091</td>\n",
       "    </tr>\n",
       "    <tr>\n",
       "      <th>2</th>\n",
       "      <td>-35.027213</td>\n",
       "      <td>-9.719908</td>\n",
       "    </tr>\n",
       "    <tr>\n",
       "      <th>3</th>\n",
       "      <td>-30.762818</td>\n",
       "      <td>-2.309456</td>\n",
       "    </tr>\n",
       "    <tr>\n",
       "      <th>4</th>\n",
       "      <td>-30.484760</td>\n",
       "      <td>-12.930385</td>\n",
       "    </tr>\n",
       "    <tr>\n",
       "      <th>5</th>\n",
       "      <td>-28.364552</td>\n",
       "      <td>-10.331924</td>\n",
       "    </tr>\n",
       "    <tr>\n",
       "      <th>6</th>\n",
       "      <td>-39.051054</td>\n",
       "      <td>-0.308723</td>\n",
       "    </tr>\n",
       "    <tr>\n",
       "      <th>7</th>\n",
       "      <td>-32.516841</td>\n",
       "      <td>-10.628160</td>\n",
       "    </tr>\n",
       "    <tr>\n",
       "      <th>8</th>\n",
       "      <td>-18.040337</td>\n",
       "      <td>-2.631540</td>\n",
       "    </tr>\n",
       "    <tr>\n",
       "      <th>9</th>\n",
       "      <td>199.172704</td>\n",
       "      <td>-65.795510</td>\n",
       "    </tr>\n",
       "    <tr>\n",
       "      <th>10</th>\n",
       "      <td>80.313151</td>\n",
       "      <td>135.845059</td>\n",
       "    </tr>\n",
       "  </tbody>\n",
       "</table>\n",
       "</div>"
      ],
      "text/plain": [
       "           PC1         PC2\n",
       "0   -32.804080   -9.168362\n",
       "1   -32.434199  -12.021091\n",
       "2   -35.027213   -9.719908\n",
       "3   -30.762818   -2.309456\n",
       "4   -30.484760  -12.930385\n",
       "5   -28.364552  -10.331924\n",
       "6   -39.051054   -0.308723\n",
       "7   -32.516841  -10.628160\n",
       "8   -18.040337   -2.631540\n",
       "9   199.172704  -65.795510\n",
       "10   80.313151  135.845059"
      ]
     },
     "execution_count": 34,
     "metadata": {},
     "output_type": "execute_result"
    }
   ],
   "source": [
    "pca_df_scale"
   ]
  },
  {
   "cell_type": "code",
   "execution_count": 35,
   "metadata": {},
   "outputs": [
    {
     "name": "stderr",
     "output_type": "stream",
     "text": [
      "/opt/conda/lib/python3.7/site-packages/seaborn/_decorators.py:43: FutureWarning: Pass the following variables as keyword args: x, y. From version 0.12, the only valid positional argument will be `data`, and passing other arguments without an explicit keyword will result in an error or misinterpretation.\n",
      "  FutureWarning\n"
     ]
    },
    {
     "data": {
      "image/png": "[encoded data removed]",
      "text/plain": [
       "<Figure size 720x720 with 1 Axes>"
      ]
     },
     "metadata": {
      "needs_background": "light"
     },
     "output_type": "display_data"
    }
   ],
   "source": [
    "plt.figure(figsize = (10,10))\n",
    "p1 = sns.scatterplot(clusters_pca_scale.iloc[:,0],clusters_pca_scale.iloc[:,1], hue=labels_pca_scale, palette='Set1', s=100, alpha=0.8)\n",
    "p1.set_title('KMeans Clusters ({}) Derived from PCA'.format(n_cluster), fontsize=15)\n",
    "\n",
    "for line in range(0,pca_df_scale.shape[0]):\n",
    "     p1.text(pca_df_scale[\"PC1\"][line]+2, pca_df_scale[\"PC2\"][line], \n",
    "         attacks[line], horizontalalignment='left', \n",
    "         size='small', color='black', weight='semibold')\n",
    "f = plt.legend()\n",
    "plt.show()\n",
    "\n",
    "path = \"plot/bot-cluster-result.png\"\n",
    "f.figure.savefig(path, bbox_inches='tight')"
   ]
  },
  {
   "cell_type": "code",
   "execution_count": 36,
   "metadata": {},
   "outputs": [
    {
     "data": {
      "text/html": [
       "<div>\n",
       "<style scoped>\n",
       "    .dataframe tbody tr th:only-of-type {\n",
       "        vertical-align: middle;\n",
       "    }\n",
       "\n",
       "    .dataframe tbody tr th {\n",
       "        vertical-align: top;\n",
       "    }\n",
       "\n",
       "    .dataframe thead th {\n",
       "        text-align: right;\n",
       "    }\n",
       "</style>\n",
       "<table border=\"1\" class=\"dataframe\">\n",
       "  <thead>\n",
       "    <tr style=\"text-align: right;\">\n",
       "      <th></th>\n",
       "      <th>attack</th>\n",
       "      <th>accuracy</th>\n",
       "    </tr>\n",
       "  </thead>\n",
       "  <tbody>\n",
       "    <tr>\n",
       "      <th>0</th>\n",
       "      <td>autopgd</td>\n",
       "      <td>0.632400</td>\n",
       "    </tr>\n",
       "    <tr>\n",
       "      <th>1</th>\n",
       "      <td>deepfool</td>\n",
       "      <td>0.626436</td>\n",
       "    </tr>\n",
       "    <tr>\n",
       "      <th>2</th>\n",
       "      <td>autoattack</td>\n",
       "      <td>0.621818</td>\n",
       "    </tr>\n",
       "    <tr>\n",
       "      <th>3</th>\n",
       "      <td>cw</td>\n",
       "      <td>0.621636</td>\n",
       "    </tr>\n",
       "    <tr>\n",
       "      <th>4</th>\n",
       "      <td>bim</td>\n",
       "      <td>0.620645</td>\n",
       "    </tr>\n",
       "    <tr>\n",
       "      <th>5</th>\n",
       "      <td>newtonfool</td>\n",
       "      <td>0.620200</td>\n",
       "    </tr>\n",
       "    <tr>\n",
       "      <th>6</th>\n",
       "      <td>pgd</td>\n",
       "      <td>0.615991</td>\n",
       "    </tr>\n",
       "    <tr>\n",
       "      <th>7</th>\n",
       "      <td>fgsm</td>\n",
       "      <td>0.611645</td>\n",
       "    </tr>\n",
       "    <tr>\n",
       "      <th>8</th>\n",
       "      <td>squareattack</td>\n",
       "      <td>0.582791</td>\n",
       "    </tr>\n",
       "    <tr>\n",
       "      <th>9</th>\n",
       "      <td>spatialtransformation</td>\n",
       "      <td>0.449636</td>\n",
       "    </tr>\n",
       "    <tr>\n",
       "      <th>10</th>\n",
       "      <td>pixelattack</td>\n",
       "      <td>0.149455</td>\n",
       "    </tr>\n",
       "  </tbody>\n",
       "</table>\n",
       "</div>"
      ],
      "text/plain": [
       "                   attack  accuracy\n",
       "0                 autopgd  0.632400\n",
       "1                deepfool  0.626436\n",
       "2              autoattack  0.621818\n",
       "3                      cw  0.621636\n",
       "4                     bim  0.620645\n",
       "5              newtonfool  0.620200\n",
       "6                     pgd  0.615991\n",
       "7                    fgsm  0.611645\n",
       "8            squareattack  0.582791\n",
       "9   spatialtransformation  0.449636\n",
       "10            pixelattack  0.149455"
      ]
     },
     "execution_count": 36,
     "metadata": {},
     "output_type": "execute_result"
    }
   ],
   "source": [
    "sorted_acc"
   ]
  },
  {
   "cell_type": "code",
   "execution_count": null,
   "metadata": {},
   "outputs": [],
   "source": []
  }
 ],
 "metadata": {
  "kernelspec": {
   "display_name": "Python 3",
   "language": "python",
   "name": "python3"
  },
  "language_info": {
   "codemirror_mode": {
    "name": "ipython",
    "version": 3
   },
   "file_extension": ".py",
   "mimetype": "text/x-python",
   "name": "python",
   "nbconvert_exporter": "python",
   "pygments_lexer": "ipython3",
   "version": "3.7.7"
  }
 },
 "nbformat": 4,
 "nbformat_minor": 4
}
