{
 "cells": [
  {
   "cell_type": "markdown",
   "metadata": {},
   "source": [
    "# RQ4: Ensemble Model Analysis"
   ]
  },
  {
   "cell_type": "code",
   "execution_count": 302,
   "metadata": {},
   "outputs": [],
   "source": [
    "import pandas as pd\n",
    "import numpy as np\n",
    "import seaborn as sns\n",
    "import matplotlib.pyplot as plt\n",
    "%matplotlib inline\n",
    "from scipy.spatial import distance\n",
    "\n",
    "pd.options.display.float_format = '{:,.3f}'.format"
   ]
  },
  {
   "cell_type": "code",
   "execution_count": 303,
   "metadata": {},
   "outputs": [],
   "source": [
    "ensembles = [\"pixelattack_spatialtransformation_autoattack\", \"pixelattack_spatialtransformation_bim\", \"pixelattack_spatialtransformation_deepfool\"]\n",
    "# ensembles = [\"pixelattack_spatialtransformation_autoattack\", \"pixelattack_spatialtransformation_bim\"]\n",
    "attacks = [\"autoattack\", \"autopgd\", \"bim\", \"cw\", \"fgsm\", \"pgd\", \"deepfool\", \"newtonfool\", \"squareattack\", \"pixelattack\", \"spatialtransformation\"]"
   ]
  },
  {
   "cell_type": "code",
   "execution_count": 304,
   "metadata": {},
   "outputs": [],
   "source": [
    "def load_data(train, test, fname) :\n",
    "    if train in attacks :\n",
    "        base_dir = \"../trained_models/BagOfTricks/1000val/full/\"\n",
    "        fpath = base_dir + \"{}/eval/best/{}/{}.txt\".format(train, test, fname)\n",
    "    else :\n",
    "        base_dir = \"../ensemble_models/\"\n",
    "        fpath = base_dir + \"{}/eval/{}/{}.txt\".format(train, test, fname)\n",
    "\n",
    "    return np.loadtxt(fpath).astype(np.int)\n",
    "\n",
    "train = \"pixelattack_spatialtransformation_autoattack\"\n",
    "# train = \"pgd\"\n",
    "test = \"pgd\"\n",
    "\n",
    "y_adv = load_data(train, test, \"Y_adv\")\n",
    "y_adv_pred = load_data(train, test, \"Y_adv_pred\")"
   ]
  },
  {
   "cell_type": "code",
   "execution_count": 305,
   "metadata": {},
   "outputs": [
    {
     "name": "stdout",
     "output_type": "stream",
     "text": [
      "Y_adv(pixelattack_spatialtransformation_autoattack,pgd): [3 8 8 ... 5 1 7]\n",
      "Y_adv_pred(pixelattack_spatialtransformation_autoattack,pgd): [3 8 8 ... 5 1 7]\n"
     ]
    }
   ],
   "source": [
    "def get_robust_data(train, test):\n",
    "    y_adv = load_data(train, test, \"Y_adv\")\n",
    "    y_adv_pred = load_data(train, test, \"Y_adv_pred\")\n",
    "    return y_adv, y_adv_pred\n",
    "\n",
    "# train = \"pgd\"\n",
    "# test = \"autoattack\"\n",
    "y_adv, y_adv_pred = get_robust_data(train, test)\n",
    "\n",
    "print(\"Y_adv({},{}): {}\".format(train, test, y_adv))\n",
    "print(\"Y_adv_pred({},{}): {}\".format(train, test, y_adv_pred))"
   ]
  },
  {
   "cell_type": "code",
   "execution_count": 306,
   "metadata": {},
   "outputs": [],
   "source": [
    "train = ensembles.copy()\n",
    "\n",
    "test = attacks.copy()\n",
    "# test.append(\"all\")"
   ]
  },
  {
   "cell_type": "code",
   "execution_count": 307,
   "metadata": {},
   "outputs": [],
   "source": [
    "def get_accuracies(train, test) :\n",
    "    predictions = {}\n",
    "    labels = {}\n",
    "\n",
    "    for a1 in train :\n",
    "        predictions[a1] = {}\n",
    "        labels[a1] = {}\n",
    "        \n",
    "    for a1 in train :\n",
    "        for a2 in test :\n",
    "            y, y_pred = get_robust_data(a1, a2)\n",
    "            predictions[a1][a2] = y_pred\n",
    "            labels[a1][a2] = y\n",
    "\n",
    "    accs = {}\n",
    "    for tr in train :\n",
    "        accs[tr] = {}\n",
    "        for ts in test :\n",
    "            accs[tr][ts] = (labels[tr][ts] == predictions[tr][ts]).sum().item() / len(labels[tr][ts])\n",
    "\n",
    "\n",
    "    accs = pd.DataFrame(data=accs)\n",
    "    accs_transpose = pd.DataFrame(data=accs).T\n",
    "    return accs_transpose, accs \n",
    "\n",
    "accs_transpose, accs = get_accuracies(train, test)"
   ]
  },
  {
   "cell_type": "code",
   "execution_count": 308,
   "metadata": {},
   "outputs": [
    {
     "data": {
      "text/html": [
       "<div>\n",
       "<style scoped>\n",
       "    .dataframe tbody tr th:only-of-type {\n",
       "        vertical-align: middle;\n",
       "    }\n",
       "\n",
       "    .dataframe tbody tr th {\n",
       "        vertical-align: top;\n",
       "    }\n",
       "\n",
       "    .dataframe thead th {\n",
       "        text-align: right;\n",
       "    }\n",
       "</style>\n",
       "<table border=\"1\" class=\"dataframe\">\n",
       "  <thead>\n",
       "    <tr style=\"text-align: right;\">\n",
       "      <th></th>\n",
       "      <th>pixelattack_spatialtransformation_autoattack</th>\n",
       "      <th>pixelattack_spatialtransformation_bim</th>\n",
       "      <th>pixelattack_spatialtransformation_deepfool</th>\n",
       "    </tr>\n",
       "  </thead>\n",
       "  <tbody>\n",
       "    <tr>\n",
       "      <th>autoattack</th>\n",
       "      <td>0.713</td>\n",
       "      <td>0.715</td>\n",
       "      <td>0.710</td>\n",
       "    </tr>\n",
       "    <tr>\n",
       "      <th>autopgd</th>\n",
       "      <td>0.712</td>\n",
       "      <td>0.717</td>\n",
       "      <td>0.709</td>\n",
       "    </tr>\n",
       "    <tr>\n",
       "      <th>bim</th>\n",
       "      <td>0.709</td>\n",
       "      <td>0.710</td>\n",
       "      <td>0.704</td>\n",
       "    </tr>\n",
       "    <tr>\n",
       "      <th>cw</th>\n",
       "      <td>0.719</td>\n",
       "      <td>0.723</td>\n",
       "      <td>0.723</td>\n",
       "    </tr>\n",
       "    <tr>\n",
       "      <th>fgsm</th>\n",
       "      <td>0.691</td>\n",
       "      <td>0.693</td>\n",
       "      <td>0.696</td>\n",
       "    </tr>\n",
       "    <tr>\n",
       "      <th>pgd</th>\n",
       "      <td>0.710</td>\n",
       "      <td>0.712</td>\n",
       "      <td>0.704</td>\n",
       "    </tr>\n",
       "    <tr>\n",
       "      <th>deepfool</th>\n",
       "      <td>0.705</td>\n",
       "      <td>0.712</td>\n",
       "      <td>0.714</td>\n",
       "    </tr>\n",
       "    <tr>\n",
       "      <th>newtonfool</th>\n",
       "      <td>0.718</td>\n",
       "      <td>0.722</td>\n",
       "      <td>0.723</td>\n",
       "    </tr>\n",
       "    <tr>\n",
       "      <th>squareattack</th>\n",
       "      <td>0.716</td>\n",
       "      <td>0.719</td>\n",
       "      <td>0.713</td>\n",
       "    </tr>\n",
       "    <tr>\n",
       "      <th>pixelattack</th>\n",
       "      <td>0.644</td>\n",
       "      <td>0.644</td>\n",
       "      <td>0.644</td>\n",
       "    </tr>\n",
       "    <tr>\n",
       "      <th>spatialtransformation</th>\n",
       "      <td>0.738</td>\n",
       "      <td>0.738</td>\n",
       "      <td>0.738</td>\n",
       "    </tr>\n",
       "  </tbody>\n",
       "</table>\n",
       "</div>"
      ],
      "text/plain": [
       "                       pixelattack_spatialtransformation_autoattack  \\\n",
       "autoattack                                                    0.713   \n",
       "autopgd                                                       0.712   \n",
       "bim                                                           0.709   \n",
       "cw                                                            0.719   \n",
       "fgsm                                                          0.691   \n",
       "pgd                                                           0.710   \n",
       "deepfool                                                      0.705   \n",
       "newtonfool                                                    0.718   \n",
       "squareattack                                                  0.716   \n",
       "pixelattack                                                   0.644   \n",
       "spatialtransformation                                         0.738   \n",
       "\n",
       "                       pixelattack_spatialtransformation_bim  \\\n",
       "autoattack                                             0.715   \n",
       "autopgd                                                0.717   \n",
       "bim                                                    0.710   \n",
       "cw                                                     0.723   \n",
       "fgsm                                                   0.693   \n",
       "pgd                                                    0.712   \n",
       "deepfool                                               0.712   \n",
       "newtonfool                                             0.722   \n",
       "squareattack                                           0.719   \n",
       "pixelattack                                            0.644   \n",
       "spatialtransformation                                  0.738   \n",
       "\n",
       "                       pixelattack_spatialtransformation_deepfool  \n",
       "autoattack                                                  0.710  \n",
       "autopgd                                                     0.709  \n",
       "bim                                                         0.704  \n",
       "cw                                                          0.723  \n",
       "fgsm                                                        0.696  \n",
       "pgd                                                         0.704  \n",
       "deepfool                                                    0.714  \n",
       "newtonfool                                                  0.723  \n",
       "squareattack                                                0.713  \n",
       "pixelattack                                                 0.644  \n",
       "spatialtransformation                                       0.738  "
      ]
     },
     "execution_count": 308,
     "metadata": {},
     "output_type": "execute_result"
    }
   ],
   "source": [
    "accs"
   ]
  },
  {
   "cell_type": "code",
   "execution_count": 309,
   "metadata": {},
   "outputs": [],
   "source": [
    "accs[\"real_model\"] = accs_transpose.mean()"
   ]
  },
  {
   "cell_type": "code",
   "execution_count": 310,
   "metadata": {},
   "outputs": [],
   "source": [
    "accsT = accs.T"
   ]
  },
  {
   "cell_type": "code",
   "execution_count": 311,
   "metadata": {},
   "outputs": [],
   "source": [
    "accsT[\"all\"] = accs.mean()"
   ]
  },
  {
   "cell_type": "code",
   "execution_count": 312,
   "metadata": {},
   "outputs": [
    {
     "data": {
      "text/html": [
       "<div>\n",
       "<style scoped>\n",
       "    .dataframe tbody tr th:only-of-type {\n",
       "        vertical-align: middle;\n",
       "    }\n",
       "\n",
       "    .dataframe tbody tr th {\n",
       "        vertical-align: top;\n",
       "    }\n",
       "\n",
       "    .dataframe thead th {\n",
       "        text-align: right;\n",
       "    }\n",
       "</style>\n",
       "<table border=\"1\" class=\"dataframe\">\n",
       "  <thead>\n",
       "    <tr style=\"text-align: right;\">\n",
       "      <th></th>\n",
       "      <th>autoattack</th>\n",
       "      <th>autopgd</th>\n",
       "      <th>bim</th>\n",
       "      <th>cw</th>\n",
       "      <th>fgsm</th>\n",
       "      <th>pgd</th>\n",
       "      <th>deepfool</th>\n",
       "      <th>newtonfool</th>\n",
       "      <th>squareattack</th>\n",
       "      <th>pixelattack</th>\n",
       "      <th>spatialtransformation</th>\n",
       "      <th>all</th>\n",
       "    </tr>\n",
       "  </thead>\n",
       "  <tbody>\n",
       "    <tr>\n",
       "      <th>pixelattack_spatialtransformation_autoattack</th>\n",
       "      <td>0.713</td>\n",
       "      <td>0.712</td>\n",
       "      <td>0.709</td>\n",
       "      <td>0.719</td>\n",
       "      <td>0.691</td>\n",
       "      <td>0.710</td>\n",
       "      <td>0.705</td>\n",
       "      <td>0.718</td>\n",
       "      <td>0.716</td>\n",
       "      <td>0.644</td>\n",
       "      <td>0.738</td>\n",
       "      <td>0.707</td>\n",
       "    </tr>\n",
       "    <tr>\n",
       "      <th>pixelattack_spatialtransformation_bim</th>\n",
       "      <td>0.715</td>\n",
       "      <td>0.717</td>\n",
       "      <td>0.710</td>\n",
       "      <td>0.723</td>\n",
       "      <td>0.693</td>\n",
       "      <td>0.712</td>\n",
       "      <td>0.712</td>\n",
       "      <td>0.722</td>\n",
       "      <td>0.719</td>\n",
       "      <td>0.644</td>\n",
       "      <td>0.738</td>\n",
       "      <td>0.709</td>\n",
       "    </tr>\n",
       "    <tr>\n",
       "      <th>pixelattack_spatialtransformation_deepfool</th>\n",
       "      <td>0.710</td>\n",
       "      <td>0.709</td>\n",
       "      <td>0.704</td>\n",
       "      <td>0.723</td>\n",
       "      <td>0.696</td>\n",
       "      <td>0.704</td>\n",
       "      <td>0.714</td>\n",
       "      <td>0.723</td>\n",
       "      <td>0.713</td>\n",
       "      <td>0.644</td>\n",
       "      <td>0.738</td>\n",
       "      <td>0.707</td>\n",
       "    </tr>\n",
       "    <tr>\n",
       "      <th>real_model</th>\n",
       "      <td>0.713</td>\n",
       "      <td>0.712</td>\n",
       "      <td>0.708</td>\n",
       "      <td>0.722</td>\n",
       "      <td>0.693</td>\n",
       "      <td>0.709</td>\n",
       "      <td>0.710</td>\n",
       "      <td>0.721</td>\n",
       "      <td>0.716</td>\n",
       "      <td>0.644</td>\n",
       "      <td>0.738</td>\n",
       "      <td>0.708</td>\n",
       "    </tr>\n",
       "  </tbody>\n",
       "</table>\n",
       "</div>"
      ],
      "text/plain": [
       "                                              autoattack  autopgd   bim    cw  \\\n",
       "pixelattack_spatialtransformation_autoattack       0.713    0.712 0.709 0.719   \n",
       "pixelattack_spatialtransformation_bim              0.715    0.717 0.710 0.723   \n",
       "pixelattack_spatialtransformation_deepfool         0.710    0.709 0.704 0.723   \n",
       "real_model                                         0.713    0.712 0.708 0.722   \n",
       "\n",
       "                                              fgsm   pgd  deepfool  \\\n",
       "pixelattack_spatialtransformation_autoattack 0.691 0.710     0.705   \n",
       "pixelattack_spatialtransformation_bim        0.693 0.712     0.712   \n",
       "pixelattack_spatialtransformation_deepfool   0.696 0.704     0.714   \n",
       "real_model                                   0.693 0.709     0.710   \n",
       "\n",
       "                                              newtonfool  squareattack  \\\n",
       "pixelattack_spatialtransformation_autoattack       0.718         0.716   \n",
       "pixelattack_spatialtransformation_bim              0.722         0.719   \n",
       "pixelattack_spatialtransformation_deepfool         0.723         0.713   \n",
       "real_model                                         0.721         0.716   \n",
       "\n",
       "                                              pixelattack  \\\n",
       "pixelattack_spatialtransformation_autoattack        0.644   \n",
       "pixelattack_spatialtransformation_bim               0.644   \n",
       "pixelattack_spatialtransformation_deepfool          0.644   \n",
       "real_model                                          0.644   \n",
       "\n",
       "                                              spatialtransformation   all  \n",
       "pixelattack_spatialtransformation_autoattack                  0.738 0.707  \n",
       "pixelattack_spatialtransformation_bim                         0.738 0.709  \n",
       "pixelattack_spatialtransformation_deepfool                    0.738 0.707  \n",
       "real_model                                                    0.738 0.708  "
      ]
     },
     "execution_count": 312,
     "metadata": {},
     "output_type": "execute_result"
    }
   ],
   "source": [
    "accsT"
   ]
  },
  {
   "cell_type": "code",
   "execution_count": 313,
   "metadata": {},
   "outputs": [],
   "source": [
    "# 3 classes\n",
    "clusters = {'autopgd': ['autoattack', 'autopgd', 'bim', 'cw', 'fgsm', 'pgd', 'deepfool', 'newtonfool', 'squareattack'], 'pixelattack': ['pixelattack'], 'spatialtransformation': ['spatialtransformation']}"
   ]
  },
  {
   "cell_type": "code",
   "execution_count": 314,
   "metadata": {},
   "outputs": [],
   "source": [
    "ori_accsT, ori_accs = get_accuracies(attacks, attacks)"
   ]
  },
  {
   "cell_type": "code",
   "execution_count": 315,
   "metadata": {},
   "outputs": [],
   "source": [
    "ori_accsT[\"all\"] = ori_accs.mean()"
   ]
  },
  {
   "cell_type": "code",
   "execution_count": 316,
   "metadata": {},
   "outputs": [],
   "source": [
    "ori_accs = ori_accsT.T"
   ]
  },
  {
   "cell_type": "code",
   "execution_count": 317,
   "metadata": {},
   "outputs": [],
   "source": [
    "def measure_best_performing_model(clusters):\n",
    "    res = {}\n",
    "    upper_bound = 0\n",
    "    n = 0\n",
    "    for centroid, members in clusters.items() :\n",
    "        for m in members :\n",
    "            res[m] = ori_accs[centroid][m]\n",
    "    return res\n",
    "    \n",
    "bpm = measure_best_performing_model(clusters)\n",
    "bpm[\"all\"] = np.array(list(bpm.values())).mean()"
   ]
  },
  {
   "cell_type": "code",
   "execution_count": 318,
   "metadata": {},
   "outputs": [
    {
     "data": {
      "text/plain": [
       "{'autoattack': 0.7182,\n",
       " 'autopgd': 0.7189,\n",
       " 'bim': 0.7124,\n",
       " 'cw': 0.7287,\n",
       " 'fgsm': 0.6979,\n",
       " 'pgd': 0.7128,\n",
       " 'deepfool': 0.7112,\n",
       " 'newtonfool': 0.7265,\n",
       " 'squareattack': 0.7222,\n",
       " 'pixelattack': 0.644,\n",
       " 'spatialtransformation': 0.7383,\n",
       " 'all': 0.7119181818181818}"
      ]
     },
     "execution_count": 318,
     "metadata": {},
     "output_type": "execute_result"
    }
   ],
   "source": [
    "bpm"
   ]
  },
  {
   "cell_type": "code",
   "execution_count": 319,
   "metadata": {},
   "outputs": [],
   "source": [
    "accs = accsT.T"
   ]
  },
  {
   "cell_type": "code",
   "execution_count": 320,
   "metadata": {},
   "outputs": [],
   "source": [
    "accs[\"best_performing_model\"] = bpm.values()\n",
    "centroids = clusters.keys()\n",
    "for centroid in centroids :\n",
    "    accs[centroid] = ori_accs[centroid]\n",
    "\n",
    "accs = accs.drop(columns=ensembles)"
   ]
  },
  {
   "cell_type": "code",
   "execution_count": 321,
   "metadata": {},
   "outputs": [],
   "source": [
    "accsT = accs.T"
   ]
  },
  {
   "cell_type": "code",
   "execution_count": 322,
   "metadata": {},
   "outputs": [
    {
     "data": {
      "text/html": [
       "<div>\n",
       "<style scoped>\n",
       "    .dataframe tbody tr th:only-of-type {\n",
       "        vertical-align: middle;\n",
       "    }\n",
       "\n",
       "    .dataframe tbody tr th {\n",
       "        vertical-align: top;\n",
       "    }\n",
       "\n",
       "    .dataframe thead th {\n",
       "        text-align: right;\n",
       "    }\n",
       "</style>\n",
       "<table border=\"1\" class=\"dataframe\">\n",
       "  <thead>\n",
       "    <tr style=\"text-align: right;\">\n",
       "      <th></th>\n",
       "      <th>autoattack</th>\n",
       "      <th>autopgd</th>\n",
       "      <th>bim</th>\n",
       "      <th>cw</th>\n",
       "      <th>fgsm</th>\n",
       "      <th>pgd</th>\n",
       "      <th>deepfool</th>\n",
       "      <th>newtonfool</th>\n",
       "      <th>squareattack</th>\n",
       "      <th>pixelattack</th>\n",
       "      <th>spatialtransformation</th>\n",
       "      <th>all</th>\n",
       "    </tr>\n",
       "  </thead>\n",
       "  <tbody>\n",
       "    <tr>\n",
       "      <th>real_model</th>\n",
       "      <td>0.713</td>\n",
       "      <td>0.712</td>\n",
       "      <td>0.708</td>\n",
       "      <td>0.722</td>\n",
       "      <td>0.693</td>\n",
       "      <td>0.709</td>\n",
       "      <td>0.710</td>\n",
       "      <td>0.721</td>\n",
       "      <td>0.716</td>\n",
       "      <td>0.644</td>\n",
       "      <td>0.738</td>\n",
       "      <td>0.708</td>\n",
       "    </tr>\n",
       "    <tr>\n",
       "      <th>best_performing_model</th>\n",
       "      <td>0.718</td>\n",
       "      <td>0.719</td>\n",
       "      <td>0.712</td>\n",
       "      <td>0.729</td>\n",
       "      <td>0.698</td>\n",
       "      <td>0.713</td>\n",
       "      <td>0.711</td>\n",
       "      <td>0.727</td>\n",
       "      <td>0.722</td>\n",
       "      <td>0.644</td>\n",
       "      <td>0.738</td>\n",
       "      <td>0.712</td>\n",
       "    </tr>\n",
       "    <tr>\n",
       "      <th>autopgd</th>\n",
       "      <td>0.718</td>\n",
       "      <td>0.719</td>\n",
       "      <td>0.712</td>\n",
       "      <td>0.729</td>\n",
       "      <td>0.698</td>\n",
       "      <td>0.713</td>\n",
       "      <td>0.711</td>\n",
       "      <td>0.727</td>\n",
       "      <td>0.722</td>\n",
       "      <td>0.143</td>\n",
       "      <td>0.365</td>\n",
       "      <td>0.632</td>\n",
       "    </tr>\n",
       "    <tr>\n",
       "      <th>pixelattack</th>\n",
       "      <td>0.100</td>\n",
       "      <td>0.100</td>\n",
       "      <td>0.100</td>\n",
       "      <td>0.100</td>\n",
       "      <td>0.100</td>\n",
       "      <td>0.100</td>\n",
       "      <td>0.100</td>\n",
       "      <td>0.100</td>\n",
       "      <td>0.100</td>\n",
       "      <td>0.644</td>\n",
       "      <td>0.100</td>\n",
       "      <td>0.149</td>\n",
       "    </tr>\n",
       "    <tr>\n",
       "      <th>spatialtransformation</th>\n",
       "      <td>0.441</td>\n",
       "      <td>0.444</td>\n",
       "      <td>0.436</td>\n",
       "      <td>0.480</td>\n",
       "      <td>0.446</td>\n",
       "      <td>0.441</td>\n",
       "      <td>0.442</td>\n",
       "      <td>0.480</td>\n",
       "      <td>0.499</td>\n",
       "      <td>0.098</td>\n",
       "      <td>0.738</td>\n",
       "      <td>0.450</td>\n",
       "    </tr>\n",
       "  </tbody>\n",
       "</table>\n",
       "</div>"
      ],
      "text/plain": [
       "                       autoattack  autopgd   bim    cw  fgsm   pgd  deepfool  \\\n",
       "real_model                  0.713    0.712 0.708 0.722 0.693 0.709     0.710   \n",
       "best_performing_model       0.718    0.719 0.712 0.729 0.698 0.713     0.711   \n",
       "autopgd                     0.718    0.719 0.712 0.729 0.698 0.713     0.711   \n",
       "pixelattack                 0.100    0.100 0.100 0.100 0.100 0.100     0.100   \n",
       "spatialtransformation       0.441    0.444 0.436 0.480 0.446 0.441     0.442   \n",
       "\n",
       "                       newtonfool  squareattack  pixelattack  \\\n",
       "real_model                  0.721         0.716        0.644   \n",
       "best_performing_model       0.727         0.722        0.644   \n",
       "autopgd                     0.727         0.722        0.143   \n",
       "pixelattack                 0.100         0.100        0.644   \n",
       "spatialtransformation       0.480         0.499        0.098   \n",
       "\n",
       "                       spatialtransformation   all  \n",
       "real_model                             0.738 0.708  \n",
       "best_performing_model                  0.738 0.712  \n",
       "autopgd                                0.365 0.632  \n",
       "pixelattack                            0.100 0.149  \n",
       "spatialtransformation                  0.738 0.450  "
      ]
     },
     "execution_count": 322,
     "metadata": {},
     "output_type": "execute_result"
    }
   ],
   "source": [
    "accsT"
   ]
  },
  {
   "cell_type": "code",
   "execution_count": 323,
   "metadata": {},
   "outputs": [],
   "source": [
    "def plot_heatmap(metrics, cmap, fpath, vmin, vmax, annot=True): \n",
    "\n",
    "    df = pd.DataFrame(data=metrics)\n",
    "\n",
    "    plt.figure(figsize=(12,4))\n",
    "    fig = sns.heatmap(df, cmap=cmap, vmin=vmin, vmax=vmax, annot=annot, fmt=\".3f\", linewidth=0.7)\n",
    "#     fig.set(xlabel='Test', ylabel='Train', fontsize=18)\n",
    "    plt.xlabel('Test', fontsize=16)\n",
    "    plt.ylabel('Train', fontsize=16)\n",
    "    fig.figure.savefig(fpath, bbox_inches='tight')\n",
    "    plt.show()"
   ]
  },
  {
   "cell_type": "code",
   "execution_count": 324,
   "metadata": {},
   "outputs": [
    {
     "data": {
      "image/png": "[encoded data removed]",
      "text/plain": [
       "<Figure size 864x288 with 2 Axes>"
      ]
     },
     "metadata": {
      "needs_background": "light"
     },
     "output_type": "display_data"
    }
   ],
   "source": [
    "path = \"plot/bot-ensemble-model.png\"\n",
    "\n",
    "# Generate a custom diverging colormap\n",
    "cmap = sns.diverging_palette(h_neg=240, h_pos=0,s=75, l=50, n=1, as_cmap=True)\n",
    "plot_heatmap(accsT, cmap, path, 0, 1)"
   ]
  },
  {
   "cell_type": "code",
   "execution_count": null,
   "metadata": {},
   "outputs": [],
   "source": []
  }
 ],
 "metadata": {
  "kernelspec": {
   "display_name": "Python 3",
   "language": "python",
   "name": "python3"
  },
  "language_info": {
   "codemirror_mode": {
    "name": "ipython",
    "version": 3
   },
   "file_extension": ".py",
   "mimetype": "text/x-python",
   "name": "python",
   "nbconvert_exporter": "python",
   "pygments_lexer": "ipython3",
   "version": "3.7.7"
  }
 },
 "nbformat": 4,
 "nbformat_minor": 4
}
