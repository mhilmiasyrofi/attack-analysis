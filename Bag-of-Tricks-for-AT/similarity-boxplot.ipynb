{
 "cells": [
  {
   "cell_type": "markdown",
   "metadata": {},
   "source": [
    "# Upper-bound Analysis"
   ]
  },
  {
   "cell_type": "code",
   "execution_count": 24,
   "metadata": {},
   "outputs": [],
   "source": [
    "import pandas as pd\n",
    "import numpy as np\n",
    "import seaborn as sns\n",
    "import matplotlib.pyplot as plt\n",
    "%matplotlib inline\n",
    "from scipy.spatial import distance\n",
    "\n",
    "pd.options.display.float_format = '{:,.3f}'.format"
   ]
  },
  {
   "cell_type": "code",
   "execution_count": 25,
   "metadata": {},
   "outputs": [],
   "source": [
    "base_dir = \"../trained_models/BagOfTricks/1000val/full/\"\n",
    "def load_data(train, test, fname, valtest=None) :\n",
    "    if valtest == None :\n",
    "        fpath = base_dir + \"{}/eval/best/{}/{}.txt\".format(train, test, fname)\n",
    "    else :\n",
    "        fpath = base_dir + \"{}/val/{}/best/{}/{}.txt\".format(train, valtest, test, fname)\n",
    "\n",
    "    return np.loadtxt(fpath).astype(np.int)\n",
    "\n",
    "train = \"autoattack\"\n",
    "test = \"pgd\"\n",
    "\n",
    "y_original = load_data(train, test, \"Y_original\", 1000)\n",
    "y_original_pred = load_data(train, test, \"Y_original_pred\", 1000)\n",
    "y_adv = load_data(train, test, \"Y_adv\", 1000)\n",
    "y_adv_pred = load_data(train, test, \"Y_adv_pred\", 1000)"
   ]
  },
  {
   "cell_type": "code",
   "execution_count": 26,
   "metadata": {},
   "outputs": [
    {
     "name": "stdout",
     "output_type": "stream",
     "text": [
      "Y_adv(pgd,autoattack): [3 8 8 ... 5 1 7]\n",
      "Y_adv_pred(pgd,autoattack): [3 8 8 ... 5 1 7]\n"
     ]
    }
   ],
   "source": [
    "def get_robust_data(train, test, valtest=None):\n",
    "    y_adv = load_data(train, test, \"Y_adv\", valtest)\n",
    "    y_adv_pred = load_data(train, test, \"Y_adv_pred\", valtest)\n",
    "    return y_adv, y_adv_pred\n",
    "\n",
    "train = \"pgd\"\n",
    "test = \"autoattack\"\n",
    "y_adv, y_adv_pred = get_robust_data(train, test, None)\n",
    "\n",
    "print(\"Y_adv({},{}): {}\".format(train, test, y_adv))\n",
    "print(\"Y_adv_pred({},{}): {}\".format(train, test, y_adv_pred))"
   ]
  },
  {
   "cell_type": "code",
   "execution_count": 27,
   "metadata": {},
   "outputs": [],
   "source": [
    "attacks = [\"autoattack\", \"autopgd\", \"bim\", \"cw\", \"fgsm\", \"pgd\", \"deepfool\", \"newtonfool\", \"squareattack\", \"pixelattack\", \"spatialtransformation\"]"
   ]
  },
  {
   "cell_type": "code",
   "execution_count": 28,
   "metadata": {},
   "outputs": [],
   "source": [
    "train = attacks.copy()\n",
    "\n",
    "test = attacks.copy()\n",
    "test.append(\"all\")"
   ]
  },
  {
   "cell_type": "code",
   "execution_count": 87,
   "metadata": {},
   "outputs": [],
   "source": [
    "def get_accuracies(attacks, valtest=None) :\n",
    "    predictions = {}\n",
    "    labels = {}\n",
    "\n",
    "    for a1 in train :\n",
    "        p = np.array([])\n",
    "        l = np.array([])\n",
    "        for a2 in attacks :\n",
    "            y, y_pred = get_robust_data(a1, a2, valtest)\n",
    "            p = np.concatenate((p, y_pred))\n",
    "            l = np.concatenate((l, y))\n",
    "        predictions[a1] = {}\n",
    "        labels[a1] = {}\n",
    "        predictions[a1][\"all\"] = p\n",
    "        labels[a1][\"all\"] = l\n",
    "\n",
    "    for a1 in train :\n",
    "        for a2 in attacks :\n",
    "            y, y_pred = get_robust_data(a1, a2, valtest)\n",
    "            predictions[a1][a2] = y_pred\n",
    "            labels[a1][a2] = y\n",
    "\n",
    "    accs = {}\n",
    "    for tr in train :\n",
    "        accs[tr] = {}\n",
    "        for ts in test :\n",
    "            accs[tr][ts] = (labels[tr][ts] == predictions[tr][ts]).sum().item() / len(labels[tr][ts])\n",
    "\n",
    "\n",
    "    accs = pd.DataFrame(data=accs)\n",
    "    accs_transpose = pd.DataFrame(data=accs).T\n",
    "    return accs_transpose, accs \n",
    "\n",
    "accs_transpose, accs = get_accuracies(attacks, 1000)"
   ]
  },
  {
   "cell_type": "code",
   "execution_count": 88,
   "metadata": {},
   "outputs": [
    {
     "data": {
      "text/html": [
       "<div>\n",
       "<style scoped>\n",
       "    .dataframe tbody tr th:only-of-type {\n",
       "        vertical-align: middle;\n",
       "    }\n",
       "\n",
       "    .dataframe tbody tr th {\n",
       "        vertical-align: top;\n",
       "    }\n",
       "\n",
       "    .dataframe thead th {\n",
       "        text-align: right;\n",
       "    }\n",
       "</style>\n",
       "<table border=\"1\" class=\"dataframe\">\n",
       "  <thead>\n",
       "    <tr style=\"text-align: right;\">\n",
       "      <th></th>\n",
       "      <th>autoattack</th>\n",
       "      <th>autopgd</th>\n",
       "      <th>bim</th>\n",
       "      <th>cw</th>\n",
       "      <th>fgsm</th>\n",
       "      <th>pgd</th>\n",
       "      <th>deepfool</th>\n",
       "      <th>newtonfool</th>\n",
       "      <th>squareattack</th>\n",
       "      <th>pixelattack</th>\n",
       "      <th>spatialtransformation</th>\n",
       "      <th>all</th>\n",
       "    </tr>\n",
       "  </thead>\n",
       "  <tbody>\n",
       "    <tr>\n",
       "      <th>autoattack</th>\n",
       "      <td>0.722</td>\n",
       "      <td>0.721</td>\n",
       "      <td>0.714</td>\n",
       "      <td>0.723</td>\n",
       "      <td>0.702</td>\n",
       "      <td>0.713</td>\n",
       "      <td>0.710</td>\n",
       "      <td>0.727</td>\n",
       "      <td>0.732</td>\n",
       "      <td>0.119</td>\n",
       "      <td>0.364</td>\n",
       "      <td>0.632</td>\n",
       "    </tr>\n",
       "    <tr>\n",
       "      <th>autopgd</th>\n",
       "      <td>0.720</td>\n",
       "      <td>0.721</td>\n",
       "      <td>0.720</td>\n",
       "      <td>0.734</td>\n",
       "      <td>0.700</td>\n",
       "      <td>0.709</td>\n",
       "      <td>0.711</td>\n",
       "      <td>0.723</td>\n",
       "      <td>0.724</td>\n",
       "      <td>0.158</td>\n",
       "      <td>0.379</td>\n",
       "      <td>0.636</td>\n",
       "    </tr>\n",
       "    <tr>\n",
       "      <th>bim</th>\n",
       "      <td>0.715</td>\n",
       "      <td>0.713</td>\n",
       "      <td>0.719</td>\n",
       "      <td>0.726</td>\n",
       "      <td>0.701</td>\n",
       "      <td>0.716</td>\n",
       "      <td>0.709</td>\n",
       "      <td>0.721</td>\n",
       "      <td>0.721</td>\n",
       "      <td>0.111</td>\n",
       "      <td>0.325</td>\n",
       "      <td>0.625</td>\n",
       "    </tr>\n",
       "    <tr>\n",
       "      <th>cw</th>\n",
       "      <td>0.700</td>\n",
       "      <td>0.701</td>\n",
       "      <td>0.712</td>\n",
       "      <td>0.732</td>\n",
       "      <td>0.687</td>\n",
       "      <td>0.709</td>\n",
       "      <td>0.719</td>\n",
       "      <td>0.727</td>\n",
       "      <td>0.736</td>\n",
       "      <td>0.100</td>\n",
       "      <td>0.406</td>\n",
       "      <td>0.630</td>\n",
       "    </tr>\n",
       "    <tr>\n",
       "      <th>fgsm</th>\n",
       "      <td>0.705</td>\n",
       "      <td>0.704</td>\n",
       "      <td>0.708</td>\n",
       "      <td>0.728</td>\n",
       "      <td>0.707</td>\n",
       "      <td>0.709</td>\n",
       "      <td>0.708</td>\n",
       "      <td>0.716</td>\n",
       "      <td>0.706</td>\n",
       "      <td>0.103</td>\n",
       "      <td>0.287</td>\n",
       "      <td>0.616</td>\n",
       "    </tr>\n",
       "    <tr>\n",
       "      <th>pgd</th>\n",
       "      <td>0.721</td>\n",
       "      <td>0.722</td>\n",
       "      <td>0.720</td>\n",
       "      <td>0.727</td>\n",
       "      <td>0.719</td>\n",
       "      <td>0.722</td>\n",
       "      <td>0.717</td>\n",
       "      <td>0.719</td>\n",
       "      <td>0.723</td>\n",
       "      <td>0.136</td>\n",
       "      <td>0.345</td>\n",
       "      <td>0.634</td>\n",
       "    </tr>\n",
       "    <tr>\n",
       "      <th>deepfool</th>\n",
       "      <td>0.693</td>\n",
       "      <td>0.693</td>\n",
       "      <td>0.694</td>\n",
       "      <td>0.711</td>\n",
       "      <td>0.682</td>\n",
       "      <td>0.694</td>\n",
       "      <td>0.714</td>\n",
       "      <td>0.710</td>\n",
       "      <td>0.706</td>\n",
       "      <td>0.090</td>\n",
       "      <td>0.348</td>\n",
       "      <td>0.612</td>\n",
       "    </tr>\n",
       "    <tr>\n",
       "      <th>newtonfool</th>\n",
       "      <td>0.685</td>\n",
       "      <td>0.685</td>\n",
       "      <td>0.677</td>\n",
       "      <td>0.712</td>\n",
       "      <td>0.669</td>\n",
       "      <td>0.684</td>\n",
       "      <td>0.702</td>\n",
       "      <td>0.714</td>\n",
       "      <td>0.706</td>\n",
       "      <td>0.138</td>\n",
       "      <td>0.328</td>\n",
       "      <td>0.609</td>\n",
       "    </tr>\n",
       "    <tr>\n",
       "      <th>squareattack</th>\n",
       "      <td>0.641</td>\n",
       "      <td>0.641</td>\n",
       "      <td>0.650</td>\n",
       "      <td>0.696</td>\n",
       "      <td>0.643</td>\n",
       "      <td>0.635</td>\n",
       "      <td>0.650</td>\n",
       "      <td>0.683</td>\n",
       "      <td>0.771</td>\n",
       "      <td>0.111</td>\n",
       "      <td>0.317</td>\n",
       "      <td>0.585</td>\n",
       "    </tr>\n",
       "    <tr>\n",
       "      <th>pixelattack</th>\n",
       "      <td>0.090</td>\n",
       "      <td>0.090</td>\n",
       "      <td>0.090</td>\n",
       "      <td>0.090</td>\n",
       "      <td>0.090</td>\n",
       "      <td>0.090</td>\n",
       "      <td>0.090</td>\n",
       "      <td>0.090</td>\n",
       "      <td>0.090</td>\n",
       "      <td>0.665</td>\n",
       "      <td>0.090</td>\n",
       "      <td>0.142</td>\n",
       "    </tr>\n",
       "    <tr>\n",
       "      <th>spatialtransformation</th>\n",
       "      <td>0.431</td>\n",
       "      <td>0.433</td>\n",
       "      <td>0.438</td>\n",
       "      <td>0.489</td>\n",
       "      <td>0.467</td>\n",
       "      <td>0.444</td>\n",
       "      <td>0.450</td>\n",
       "      <td>0.487</td>\n",
       "      <td>0.515</td>\n",
       "      <td>0.092</td>\n",
       "      <td>0.745</td>\n",
       "      <td>0.454</td>\n",
       "    </tr>\n",
       "  </tbody>\n",
       "</table>\n",
       "</div>"
      ],
      "text/plain": [
       "                       autoattack  autopgd   bim    cw  fgsm   pgd  deepfool  \\\n",
       "autoattack                  0.722    0.721 0.714 0.723 0.702 0.713     0.710   \n",
       "autopgd                     0.720    0.721 0.720 0.734 0.700 0.709     0.711   \n",
       "bim                         0.715    0.713 0.719 0.726 0.701 0.716     0.709   \n",
       "cw                          0.700    0.701 0.712 0.732 0.687 0.709     0.719   \n",
       "fgsm                        0.705    0.704 0.708 0.728 0.707 0.709     0.708   \n",
       "pgd                         0.721    0.722 0.720 0.727 0.719 0.722     0.717   \n",
       "deepfool                    0.693    0.693 0.694 0.711 0.682 0.694     0.714   \n",
       "newtonfool                  0.685    0.685 0.677 0.712 0.669 0.684     0.702   \n",
       "squareattack                0.641    0.641 0.650 0.696 0.643 0.635     0.650   \n",
       "pixelattack                 0.090    0.090 0.090 0.090 0.090 0.090     0.090   \n",
       "spatialtransformation       0.431    0.433 0.438 0.489 0.467 0.444     0.450   \n",
       "\n",
       "                       newtonfool  squareattack  pixelattack  \\\n",
       "autoattack                  0.727         0.732        0.119   \n",
       "autopgd                     0.723         0.724        0.158   \n",
       "bim                         0.721         0.721        0.111   \n",
       "cw                          0.727         0.736        0.100   \n",
       "fgsm                        0.716         0.706        0.103   \n",
       "pgd                         0.719         0.723        0.136   \n",
       "deepfool                    0.710         0.706        0.090   \n",
       "newtonfool                  0.714         0.706        0.138   \n",
       "squareattack                0.683         0.771        0.111   \n",
       "pixelattack                 0.090         0.090        0.665   \n",
       "spatialtransformation       0.487         0.515        0.092   \n",
       "\n",
       "                       spatialtransformation   all  \n",
       "autoattack                             0.364 0.632  \n",
       "autopgd                                0.379 0.636  \n",
       "bim                                    0.325 0.625  \n",
       "cw                                     0.406 0.630  \n",
       "fgsm                                   0.287 0.616  \n",
       "pgd                                    0.345 0.634  \n",
       "deepfool                               0.348 0.612  \n",
       "newtonfool                             0.328 0.609  \n",
       "squareattack                           0.317 0.585  \n",
       "pixelattack                            0.090 0.142  \n",
       "spatialtransformation                  0.745 0.454  "
      ]
     },
     "execution_count": 88,
     "metadata": {},
     "output_type": "execute_result"
    }
   ],
   "source": [
    "accs_transpose"
   ]
  },
  {
   "cell_type": "code",
   "execution_count": 90,
   "metadata": {},
   "outputs": [
    {
     "data": {
      "text/html": [
       "<div>\n",
       "<style scoped>\n",
       "    .dataframe tbody tr th:only-of-type {\n",
       "        vertical-align: middle;\n",
       "    }\n",
       "\n",
       "    .dataframe tbody tr th {\n",
       "        vertical-align: top;\n",
       "    }\n",
       "\n",
       "    .dataframe thead th {\n",
       "        text-align: right;\n",
       "    }\n",
       "</style>\n",
       "<table border=\"1\" class=\"dataframe\">\n",
       "  <thead>\n",
       "    <tr style=\"text-align: right;\">\n",
       "      <th></th>\n",
       "      <th>autopgd</th>\n",
       "      <th>pgd</th>\n",
       "      <th>autoattack</th>\n",
       "      <th>cw</th>\n",
       "      <th>bim</th>\n",
       "      <th>fgsm</th>\n",
       "      <th>deepfool</th>\n",
       "      <th>newtonfool</th>\n",
       "      <th>squareattack</th>\n",
       "      <th>spatialtransformation</th>\n",
       "      <th>pixelattack</th>\n",
       "      <th>all</th>\n",
       "    </tr>\n",
       "  </thead>\n",
       "  <tbody>\n",
       "    <tr>\n",
       "      <th>autopgd</th>\n",
       "      <td>0.721</td>\n",
       "      <td>0.709</td>\n",
       "      <td>0.720</td>\n",
       "      <td>0.734</td>\n",
       "      <td>0.720</td>\n",
       "      <td>0.700</td>\n",
       "      <td>0.711</td>\n",
       "      <td>0.723</td>\n",
       "      <td>0.724</td>\n",
       "      <td>0.379</td>\n",
       "      <td>0.158</td>\n",
       "      <td>0.636</td>\n",
       "    </tr>\n",
       "    <tr>\n",
       "      <th>pgd</th>\n",
       "      <td>0.722</td>\n",
       "      <td>0.722</td>\n",
       "      <td>0.721</td>\n",
       "      <td>0.727</td>\n",
       "      <td>0.720</td>\n",
       "      <td>0.719</td>\n",
       "      <td>0.717</td>\n",
       "      <td>0.719</td>\n",
       "      <td>0.723</td>\n",
       "      <td>0.345</td>\n",
       "      <td>0.136</td>\n",
       "      <td>0.634</td>\n",
       "    </tr>\n",
       "    <tr>\n",
       "      <th>autoattack</th>\n",
       "      <td>0.721</td>\n",
       "      <td>0.713</td>\n",
       "      <td>0.722</td>\n",
       "      <td>0.723</td>\n",
       "      <td>0.714</td>\n",
       "      <td>0.702</td>\n",
       "      <td>0.710</td>\n",
       "      <td>0.727</td>\n",
       "      <td>0.732</td>\n",
       "      <td>0.364</td>\n",
       "      <td>0.119</td>\n",
       "      <td>0.632</td>\n",
       "    </tr>\n",
       "    <tr>\n",
       "      <th>cw</th>\n",
       "      <td>0.701</td>\n",
       "      <td>0.709</td>\n",
       "      <td>0.700</td>\n",
       "      <td>0.732</td>\n",
       "      <td>0.712</td>\n",
       "      <td>0.687</td>\n",
       "      <td>0.719</td>\n",
       "      <td>0.727</td>\n",
       "      <td>0.736</td>\n",
       "      <td>0.406</td>\n",
       "      <td>0.100</td>\n",
       "      <td>0.630</td>\n",
       "    </tr>\n",
       "    <tr>\n",
       "      <th>bim</th>\n",
       "      <td>0.713</td>\n",
       "      <td>0.716</td>\n",
       "      <td>0.715</td>\n",
       "      <td>0.726</td>\n",
       "      <td>0.719</td>\n",
       "      <td>0.701</td>\n",
       "      <td>0.709</td>\n",
       "      <td>0.721</td>\n",
       "      <td>0.721</td>\n",
       "      <td>0.325</td>\n",
       "      <td>0.111</td>\n",
       "      <td>0.625</td>\n",
       "    </tr>\n",
       "    <tr>\n",
       "      <th>fgsm</th>\n",
       "      <td>0.704</td>\n",
       "      <td>0.709</td>\n",
       "      <td>0.705</td>\n",
       "      <td>0.728</td>\n",
       "      <td>0.708</td>\n",
       "      <td>0.707</td>\n",
       "      <td>0.708</td>\n",
       "      <td>0.716</td>\n",
       "      <td>0.706</td>\n",
       "      <td>0.287</td>\n",
       "      <td>0.103</td>\n",
       "      <td>0.616</td>\n",
       "    </tr>\n",
       "    <tr>\n",
       "      <th>deepfool</th>\n",
       "      <td>0.693</td>\n",
       "      <td>0.694</td>\n",
       "      <td>0.693</td>\n",
       "      <td>0.711</td>\n",
       "      <td>0.694</td>\n",
       "      <td>0.682</td>\n",
       "      <td>0.714</td>\n",
       "      <td>0.710</td>\n",
       "      <td>0.706</td>\n",
       "      <td>0.348</td>\n",
       "      <td>0.090</td>\n",
       "      <td>0.612</td>\n",
       "    </tr>\n",
       "    <tr>\n",
       "      <th>newtonfool</th>\n",
       "      <td>0.685</td>\n",
       "      <td>0.684</td>\n",
       "      <td>0.685</td>\n",
       "      <td>0.712</td>\n",
       "      <td>0.677</td>\n",
       "      <td>0.669</td>\n",
       "      <td>0.702</td>\n",
       "      <td>0.714</td>\n",
       "      <td>0.706</td>\n",
       "      <td>0.328</td>\n",
       "      <td>0.138</td>\n",
       "      <td>0.609</td>\n",
       "    </tr>\n",
       "    <tr>\n",
       "      <th>squareattack</th>\n",
       "      <td>0.641</td>\n",
       "      <td>0.635</td>\n",
       "      <td>0.641</td>\n",
       "      <td>0.696</td>\n",
       "      <td>0.650</td>\n",
       "      <td>0.643</td>\n",
       "      <td>0.650</td>\n",
       "      <td>0.683</td>\n",
       "      <td>0.771</td>\n",
       "      <td>0.317</td>\n",
       "      <td>0.111</td>\n",
       "      <td>0.585</td>\n",
       "    </tr>\n",
       "    <tr>\n",
       "      <th>spatialtransformation</th>\n",
       "      <td>0.433</td>\n",
       "      <td>0.444</td>\n",
       "      <td>0.431</td>\n",
       "      <td>0.489</td>\n",
       "      <td>0.438</td>\n",
       "      <td>0.467</td>\n",
       "      <td>0.450</td>\n",
       "      <td>0.487</td>\n",
       "      <td>0.515</td>\n",
       "      <td>0.745</td>\n",
       "      <td>0.092</td>\n",
       "      <td>0.454</td>\n",
       "    </tr>\n",
       "    <tr>\n",
       "      <th>pixelattack</th>\n",
       "      <td>0.090</td>\n",
       "      <td>0.090</td>\n",
       "      <td>0.090</td>\n",
       "      <td>0.090</td>\n",
       "      <td>0.090</td>\n",
       "      <td>0.090</td>\n",
       "      <td>0.090</td>\n",
       "      <td>0.090</td>\n",
       "      <td>0.090</td>\n",
       "      <td>0.090</td>\n",
       "      <td>0.665</td>\n",
       "      <td>0.142</td>\n",
       "    </tr>\n",
       "  </tbody>\n",
       "</table>\n",
       "</div>"
      ],
      "text/plain": [
       "                       autopgd   pgd  autoattack    cw   bim  fgsm  deepfool  \\\n",
       "autopgd                  0.721 0.709       0.720 0.734 0.720 0.700     0.711   \n",
       "pgd                      0.722 0.722       0.721 0.727 0.720 0.719     0.717   \n",
       "autoattack               0.721 0.713       0.722 0.723 0.714 0.702     0.710   \n",
       "cw                       0.701 0.709       0.700 0.732 0.712 0.687     0.719   \n",
       "bim                      0.713 0.716       0.715 0.726 0.719 0.701     0.709   \n",
       "fgsm                     0.704 0.709       0.705 0.728 0.708 0.707     0.708   \n",
       "deepfool                 0.693 0.694       0.693 0.711 0.694 0.682     0.714   \n",
       "newtonfool               0.685 0.684       0.685 0.712 0.677 0.669     0.702   \n",
       "squareattack             0.641 0.635       0.641 0.696 0.650 0.643     0.650   \n",
       "spatialtransformation    0.433 0.444       0.431 0.489 0.438 0.467     0.450   \n",
       "pixelattack              0.090 0.090       0.090 0.090 0.090 0.090     0.090   \n",
       "\n",
       "                       newtonfool  squareattack  spatialtransformation  \\\n",
       "autopgd                     0.723         0.724                  0.379   \n",
       "pgd                         0.719         0.723                  0.345   \n",
       "autoattack                  0.727         0.732                  0.364   \n",
       "cw                          0.727         0.736                  0.406   \n",
       "bim                         0.721         0.721                  0.325   \n",
       "fgsm                        0.716         0.706                  0.287   \n",
       "deepfool                    0.710         0.706                  0.348   \n",
       "newtonfool                  0.714         0.706                  0.328   \n",
       "squareattack                0.683         0.771                  0.317   \n",
       "spatialtransformation       0.487         0.515                  0.745   \n",
       "pixelattack                 0.090         0.090                  0.090   \n",
       "\n",
       "                       pixelattack   all  \n",
       "autopgd                      0.158 0.636  \n",
       "pgd                          0.136 0.634  \n",
       "autoattack                   0.119 0.632  \n",
       "cw                           0.100 0.630  \n",
       "bim                          0.111 0.625  \n",
       "fgsm                         0.103 0.616  \n",
       "deepfool                     0.090 0.612  \n",
       "newtonfool                   0.138 0.609  \n",
       "squareattack                 0.111 0.585  \n",
       "spatialtransformation        0.092 0.454  \n",
       "pixelattack                  0.665 0.142  "
      ]
     },
     "execution_count": 90,
     "metadata": {},
     "output_type": "execute_result"
    }
   ],
   "source": [
    "sorted_acc = accs_transpose.sort_values(by=\"all\", ascending=False)\n",
    "idx = list(sorted_acc.index)\n",
    "sorted_acc = sorted_acc.reindex(idx, axis=0)\n",
    "idx.append(\"all\")\n",
    "sorted_acc = sorted_acc.reindex(idx, axis=1)\n",
    "sorted_acc"
   ]
  },
  {
   "cell_type": "code",
   "execution_count": 91,
   "metadata": {},
   "outputs": [],
   "source": [
    "acc_val = get_accuracies(attacks, 1000)[0]\n",
    "acc_test = get_accuracies(attacks, None)[0]\n",
    "\n",
    "acc_val = acc_val.reindex(idx[:-1], axis=0)\n",
    "acc_val = acc_val.reindex(idx, axis=1)\n",
    "acc_test = acc_test.reindex(idx[:-1], axis=0)\n",
    "acc_test = acc_test.reindex(idx, axis=1)\n",
    "\n",
    "diff = abs(acc_val - acc_test)"
   ]
  },
  {
   "cell_type": "code",
   "execution_count": 92,
   "metadata": {},
   "outputs": [],
   "source": [
    "def plot_heatmap(metrics, cmap, fpath, vmin, vmax, annot=True): \n",
    "\n",
    "    df = pd.DataFrame(data=metrics)\n",
    "\n",
    "    plt.figure(figsize=(12,9))\n",
    "    fig = sns.heatmap(df, cmap=cmap, vmin=vmin, vmax=vmax, annot=annot, fmt=\".3f\", linewidth=0.7)\n",
    "#     fig.set(xlabel='Test', ylabel='Train', fontsize=18)\n",
    "    plt.xlabel('Test', fontsize=16)\n",
    "    plt.ylabel('Train', fontsize=16)\n",
    "    fig.figure.savefig(fpath, bbox_inches='tight')\n",
    "    plt.show()"
   ]
  },
  {
   "cell_type": "code",
   "execution_count": 93,
   "metadata": {},
   "outputs": [
    {
     "data": {
      "image/png": "[encoded data removed]",
      "text/plain": [
       "<Figure size 864x648 with 2 Axes>"
      ]
     },
     "metadata": {
      "needs_background": "light"
     },
     "output_type": "display_data"
    }
   ],
   "source": [
    "path = \"plot/bot-accuracy-validation.png\"\n",
    "\n",
    "# Generate a custom diverging colormap\n",
    "cmap = sns.diverging_palette(h_neg=240, h_pos=0,s=75, l=50, n=1, as_cmap=True)\n",
    "plot_heatmap(sorted_acc.drop(columns=[\"all\"]), cmap, path, 0, 1)"
   ]
  },
  {
   "cell_type": "code",
   "execution_count": 94,
   "metadata": {},
   "outputs": [
    {
     "data": {
      "image/png": "[encoded data removed]",
      "text/plain": [
       "<Figure size 864x648 with 2 Axes>"
      ]
     },
     "metadata": {
      "needs_background": "light"
     },
     "output_type": "display_data"
    }
   ],
   "source": [
    "path = \"plot/bot-diff-accuracy.png\"\n",
    "\n",
    "# cmap = sns.diverging_palette(h_neg=240, h_pos=0,s=75, l=50, n=1, as_cmap=True)\n",
    "cmap = \"gray_r\"\n",
    "plot_heatmap(abs(diff).drop(columns=[\"all\"]), cmap, path, 0, 1)"
   ]
  },
  {
   "cell_type": "code",
   "execution_count": 15,
   "metadata": {},
   "outputs": [],
   "source": [
    "# print(sorted_acc.to_latex(bold_rows=True))"
   ]
  },
  {
   "cell_type": "code",
   "execution_count": 99,
   "metadata": {},
   "outputs": [],
   "source": [
    "accs_transpose, accs = get_accuracies(attacks, None)"
   ]
  },
  {
   "cell_type": "code",
   "execution_count": 105,
   "metadata": {},
   "outputs": [
    {
     "data": {
      "text/plain": [
       "{0: ['autoattack',\n",
       "  'autopgd',\n",
       "  'bim',\n",
       "  'cw',\n",
       "  'fgsm',\n",
       "  'pgd',\n",
       "  'deepfool',\n",
       "  'newtonfool',\n",
       "  'squareattack'],\n",
       " 1: ['pixelattack'],\n",
       " 2: ['spatialtransformation']}"
      ]
     },
     "execution_count": 105,
     "metadata": {},
     "output_type": "execute_result"
    }
   ],
   "source": [
    "cluster = {0: ['autoattack', 'autopgd', 'bim', 'cw', 'fgsm', 'pgd', 'deepfool', 'newtonfool', 'squareattack'], 1: ['pixelattack'], 2: ['spatialtransformation']}\n",
    "cluster"
   ]
  },
  {
   "cell_type": "code",
   "execution_count": 108,
   "metadata": {},
   "outputs": [
    {
     "data": {
      "text/plain": [
       "['autoattack',\n",
       " 'autopgd',\n",
       " 'bim',\n",
       " 'cw',\n",
       " 'fgsm',\n",
       " 'pgd',\n",
       " 'deepfool',\n",
       " 'newtonfool',\n",
       " 'squareattack',\n",
       " 'pixelattack',\n",
       " 'spatialtransformation']"
      ]
     },
     "execution_count": 108,
     "metadata": {},
     "output_type": "execute_result"
    }
   ],
   "source": [
    "attacks"
   ]
  },
  {
   "cell_type": "code",
   "execution_count": 111,
   "metadata": {},
   "outputs": [],
   "source": [
    "# def measure_inter_similarity(arr) :\n",
    "\n",
    "def inter_similarity_the_same_train(arr) :\n",
    "    if len(arr) <= 1 :\n",
    "        return [0]\n",
    "    res = []\n",
    "    for i in range(len(arr)) :\n",
    "        x1 = arr[i]\n",
    "        for j in range(i+1, len(arr)) :\n",
    "            x2 = arr[j]\n",
    "            if x1 != x2 :\n",
    "                for train in attacks :\n",
    "                    val = abs(accs[train][x1] - accs[train][x2])\n",
    "                    res.append(val)\n",
    "    return res\n",
    "\n",
    "def inter_similarity_the_same_test(arr) :\n",
    "    if len(arr) <= 1 :\n",
    "        return [0]\n",
    "    res = []\n",
    "    for i in range(len(arr)) :\n",
    "        x1 = arr[i]\n",
    "        for j in range(i+1, len(arr)) :\n",
    "            x2 = arr[j]\n",
    "            if x1 != x2 :\n",
    "                for test in attacks :\n",
    "                    val = abs(accs[x1][test] - accs[x2][test])\n",
    "                    res.append(val)\n",
    "    return res\n",
    "\n"
   ]
  },
  {
   "cell_type": "code",
   "execution_count": 114,
   "metadata": {},
   "outputs": [
    {
     "data": {
      "text/plain": [
       "396"
      ]
     },
     "execution_count": 114,
     "metadata": {},
     "output_type": "execute_result"
    }
   ],
   "source": [
    "len(inter_similarity_the_same_train(cluster[0]))"
   ]
  },
  {
   "cell_type": "code",
   "execution_count": 116,
   "metadata": {},
   "outputs": [
    {
     "data": {
      "text/plain": [
       "396"
      ]
     },
     "execution_count": 116,
     "metadata": {},
     "output_type": "execute_result"
    }
   ],
   "source": [
    "len(inter_similarity_the_same_test(cluster[0]))"
   ]
  },
  {
   "cell_type": "code",
   "execution_count": 134,
   "metadata": {},
   "outputs": [],
   "source": [
    "data = {}\n",
    "data[\"inter_similarity_train\"] = inter_similarity_the_same_train(cluster[0])\n",
    "data[\"inter_similarity_test\"] = inter_similarity_the_same_test(cluster[0])"
   ]
  },
  {
   "cell_type": "code",
   "execution_count": 135,
   "metadata": {},
   "outputs": [],
   "source": [
    "def outer_difference_the_same_train(cluster) :\n",
    "    res = []\n",
    "    calculated = set()\n",
    "    for k1, v1 in cluster.items() :\n",
    "        for k2, v2 in cluster.items() :\n",
    "            if k1 != k2 :\n",
    "                for a1 in v1 : \n",
    "                    for a2 in v2 :\n",
    "                        idx = a1 + \"-\" + a2\n",
    "                        if idx not in calculated :\n",
    "                            for train in attacks :\n",
    "                                val = abs(accs[train][a1] - accs[train][a2])\n",
    "                                res.append(val)\n",
    "        \n",
    "                                calculated.add(idx)\n",
    "                                calculated.add(a2 + \"-\" + a1)\n",
    "    return res"
   ]
  },
  {
   "cell_type": "code",
   "execution_count": 136,
   "metadata": {},
   "outputs": [
    {
     "data": {
      "text/plain": [
       "209"
      ]
     },
     "execution_count": 136,
     "metadata": {},
     "output_type": "execute_result"
    }
   ],
   "source": [
    "len(outer_difference_the_same_train(cluster))"
   ]
  },
  {
   "cell_type": "code",
   "execution_count": 137,
   "metadata": {},
   "outputs": [],
   "source": [
    "def outer_difference_the_same_test(cluster) :\n",
    "    res = []\n",
    "    calculated = set()\n",
    "    for k1, v1 in cluster.items() :\n",
    "        for k2, v2 in cluster.items() :\n",
    "            if k1 != k2 :\n",
    "                for a1 in v1 : \n",
    "                    for a2 in v2 :\n",
    "                        idx = a1 + \"-\" + a2\n",
    "                        if idx not in calculated :\n",
    "                            for test in attacks :\n",
    "                                val = abs(accs[a1][test] - accs[a2][test])\n",
    "                                res.append(val)\n",
    "        \n",
    "                                calculated.add(idx)\n",
    "                                calculated.add(a2 + \"-\" + a1)\n",
    "    return res"
   ]
  },
  {
   "cell_type": "code",
   "execution_count": 127,
   "metadata": {},
   "outputs": [
    {
     "data": {
      "text/plain": [
       "209"
      ]
     },
     "execution_count": 127,
     "metadata": {},
     "output_type": "execute_result"
    }
   ],
   "source": [
    "len(outer_difference_the_same_test(cluster))"
   ]
  },
  {
   "cell_type": "code",
   "execution_count": 138,
   "metadata": {},
   "outputs": [],
   "source": [
    "data[\"outer_difference_train\"] = outer_difference_the_same_train(cluster)\n",
    "data[\"outer_difference_test\"] = outer_difference_the_same_test(cluster)"
   ]
  },
  {
   "cell_type": "code",
   "execution_count": 147,
   "metadata": {},
   "outputs": [
    {
     "data": {
      "image/png": "[encoded data removed]",
      "text/plain": [
       "<Figure size 864x648 with 1 Axes>"
      ]
     },
     "metadata": {
      "needs_background": "light"
     },
     "output_type": "display_data"
    }
   ],
   "source": [
    "fig, ax = plt.subplots(figsize=(12,9))\n",
    "ax.boxplot(data.values())\n",
    "ax.set_xticklabels(data.keys())\n",
    "fpath = \"plot/bot-detail-similarity.png\"\n",
    "fig.savefig(fpath, bbox_inches='tight')"
   ]
  },
  {
   "cell_type": "code",
   "execution_count": null,
   "metadata": {},
   "outputs": [],
   "source": []
  }
 ],
 "metadata": {
  "kernelspec": {
   "display_name": "Python 3",
   "language": "python",
   "name": "python3"
  },
  "language_info": {
   "codemirror_mode": {
    "name": "ipython",
    "version": 3
   },
   "file_extension": ".py",
   "mimetype": "text/x-python",
   "name": "python",
   "nbconvert_exporter": "python",
   "pygments_lexer": "ipython3",
   "version": "3.7.7"
  }
 },
 "nbformat": 4,
 "nbformat_minor": 4
}
