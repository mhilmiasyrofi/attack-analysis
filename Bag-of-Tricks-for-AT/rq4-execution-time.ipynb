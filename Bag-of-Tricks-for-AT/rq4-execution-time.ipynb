{
 "cells": [
  {
   "cell_type": "markdown",
   "metadata": {},
   "source": [
    "# RQ4: Execution Time"
   ]
  },
  {
   "cell_type": "code",
   "execution_count": 4,
   "metadata": {},
   "outputs": [],
   "source": [
    "import pandas as pd\n",
    "import numpy as np\n",
    "import seaborn as sns\n",
    "import matplotlib.pyplot as plt\n",
    "%matplotlib inline\n",
    "from scipy.spatial import distance\n",
    "pd.options.display.float_format = '{:,.3f}'.format"
   ]
  },
  {
   "cell_type": "code",
   "execution_count": 6,
   "metadata": {},
   "outputs": [],
   "source": [
    "attacks = [\"autoattack\", \"autopgd\", \"bim\", \"cw\", \"fgsm\", \"pgd\", \"deepfool\", \"newtonfool\", \"squareattack\", \"pixelattack\", \"spatialtransformation\"]"
   ]
  },
  {
   "cell_type": "code",
   "execution_count": 7,
   "metadata": {},
   "outputs": [],
   "source": [
    "train = attacks.copy()\n",
    "test = attacks.copy()"
   ]
  },
  {
   "cell_type": "code",
   "execution_count": 11,
   "metadata": {},
   "outputs": [
    {
     "data": {
      "text/plain": [
       "datetime.timedelta(seconds=157)"
      ]
     },
     "execution_count": 11,
     "metadata": {},
     "output_type": "execute_result"
    }
   ],
   "source": [
    "import datetime\n",
    "\n",
    "base_dir = \"../trained_models/BagOfTricks/1000val/\"\n",
    "\n",
    "def get_adv_train_time_execution(train, sample=None) :\n",
    "    if sample :\n",
    "        fpath = base_dir + \"{}sample/{}/output.log\".format(sample, train)\n",
    "    else :\n",
    "        fpath = base_dir + \"full/{}/output.log\".format(train)\n",
    "    \n",
    "    file = open(fpath)\n",
    "    lines = file.readlines()\n",
    "    file.close()\n",
    "    \n",
    "    start_time = None\n",
    "    end_time = None\n",
    "    \n",
    "    datefmt='%Y/%m/%d %H:%M:%S'\n",
    "        \n",
    "    for l in lines :\n",
    "        token = l.split(\"-\")\n",
    "        date_str = token[0][1:-2]\n",
    "        date_time = datetime.datetime.strptime(date_str, datefmt)\n",
    "        if token[1][1:11] == \"Namespace(\" :\n",
    "            start_time = date_time\n",
    "        else :\n",
    "            end_time = date_time\n",
    "    \n",
    "    if end_time > start_time :\n",
    "        return end_time-start_time\n",
    "    raise ValueError(\"Duration not found\")"
   ]
  },
  {
   "cell_type": "code",
   "execution_count": 14,
   "metadata": {},
   "outputs": [
    {
     "data": {
      "text/plain": [
       "datetime.timedelta(seconds=81)"
      ]
     },
     "execution_count": 14,
     "metadata": {},
     "output_type": "execute_result"
    }
   ],
   "source": [
    "# sample = 50\n",
    "# sample = None\n",
    "get_adv_train_time_execution(\"pgd\", sample)"
   ]
  },
  {
   "cell_type": "markdown",
   "metadata": {},
   "source": [
    "### Execution Time for Adv Training in RQ1"
   ]
  },
  {
   "cell_type": "code",
   "execution_count": 25,
   "metadata": {},
   "outputs": [
    {
     "data": {
      "text/plain": [
       "{'autoattack': datetime.timedelta(seconds=2993),\n",
       " 'autopgd': datetime.timedelta(seconds=3011),\n",
       " 'bim': datetime.timedelta(seconds=3025),\n",
       " 'cw': datetime.timedelta(seconds=3042),\n",
       " 'fgsm': datetime.timedelta(seconds=2996),\n",
       " 'pgd': datetime.timedelta(seconds=3277),\n",
       " 'deepfool': datetime.timedelta(seconds=3045),\n",
       " 'newtonfool': datetime.timedelta(seconds=3267),\n",
       " 'squareattack': datetime.timedelta(seconds=3302),\n",
       " 'pixelattack': datetime.timedelta(seconds=3285),\n",
       " 'spatialtransformation': datetime.timedelta(seconds=3299)}"
      ]
     },
     "execution_count": 25,
     "metadata": {},
     "output_type": "execute_result"
    }
   ],
   "source": [
    "durations = {}\n",
    "for tr in train :\n",
    "    durations[tr] = get_adv_train_time_execution(tr, None)\n",
    "\n",
    "durations"
   ]
  },
  {
   "cell_type": "code",
   "execution_count": 26,
   "metadata": {},
   "outputs": [
    {
     "name": "stdout",
     "output_type": "stream",
     "text": [
      "Training time for RQ1:  9:35:42\n"
     ]
    }
   ],
   "source": [
    "duration_rq1 = np.sum(list(durations.values()))\n",
    "print(\"Training time for RQ1: \", duration_rq1)"
   ]
  },
  {
   "cell_type": "markdown",
   "metadata": {},
   "source": [
    "### Execution Time for Adv Training in RQ4"
   ]
  },
  {
   "cell_type": "code",
   "execution_count": 27,
   "metadata": {},
   "outputs": [
    {
     "data": {
      "text/plain": [
       "{'autoattack': datetime.timedelta(seconds=75),\n",
       " 'autopgd': datetime.timedelta(seconds=77),\n",
       " 'bim': datetime.timedelta(seconds=76),\n",
       " 'cw': datetime.timedelta(seconds=77),\n",
       " 'fgsm': datetime.timedelta(seconds=76),\n",
       " 'pgd': datetime.timedelta(seconds=81),\n",
       " 'deepfool': datetime.timedelta(seconds=77),\n",
       " 'newtonfool': datetime.timedelta(seconds=81),\n",
       " 'squareattack': datetime.timedelta(seconds=82),\n",
       " 'pixelattack': datetime.timedelta(seconds=80),\n",
       " 'spatialtransformation': datetime.timedelta(seconds=82)}"
      ]
     },
     "execution_count": 27,
     "metadata": {},
     "output_type": "execute_result"
    }
   ],
   "source": [
    "durations = {}\n",
    "for tr in train :\n",
    "    durations[tr] = get_adv_train_time_execution(tr, 50)\n",
    "\n",
    "durations"
   ]
  },
  {
   "cell_type": "code",
   "execution_count": 28,
   "metadata": {},
   "outputs": [
    {
     "name": "stdout",
     "output_type": "stream",
     "text": [
      "Training time for RQ4:  0:14:24\n"
     ]
    }
   ],
   "source": [
    "duration_rq4 = np.sum(list(durations.values()))\n",
    "print(\"Training time for RQ4: \", duration_rq4)"
   ]
  },
  {
   "cell_type": "markdown",
   "metadata": {},
   "source": [
    "### Percentage"
   ]
  },
  {
   "cell_type": "code",
   "execution_count": 29,
   "metadata": {},
   "outputs": [
    {
     "name": "stdout",
     "output_type": "stream",
     "text": [
      "Precentage: 2.50%\n"
     ]
    }
   ],
   "source": [
    "print(\"Precentage: {:.2f}%\".format(100 * duration_rq4 / duration_rq1))"
   ]
  },
  {
   "cell_type": "code",
   "execution_count": null,
   "metadata": {},
   "outputs": [],
   "source": []
  },
  {
   "cell_type": "markdown",
   "metadata": {},
   "source": [
    "### Execution Time for Adv Detector"
   ]
  },
  {
   "cell_type": "code",
   "execution_count": 36,
   "metadata": {},
   "outputs": [],
   "source": [
    "base_dir = \"../adv_detectors/1000val/full/\"\n",
    "\n",
    "def get_adv_detector_execution_time(train) :\n",
    "    fpath = base_dir + \"{}/output.log\".format(train)\n",
    "    \n",
    "    file = open(fpath)\n",
    "    lines = file.readlines()\n",
    "    file.close()\n",
    "    \n",
    "    start_time = None\n",
    "    end_time = None\n",
    "    \n",
    "    datefmt='%Y/%m/%d %H:%M:%S'\n",
    "        \n",
    "    for l in lines :\n",
    "        token = l.split(\"-\")\n",
    "        date_str = token[0][1:-2]\n",
    "        date_time = datetime.datetime.strptime(date_str, datefmt)\n",
    "        if token[1][1:11] == \"Namespace(\" :\n",
    "            start_time = date_time\n",
    "        else :\n",
    "            end_time = date_time\n",
    "    \n",
    "    if end_time > start_time :\n",
    "        return end_time-start_time\n",
    "    raise ValueError(\"Duration not found\")"
   ]
  },
  {
   "cell_type": "code",
   "execution_count": 37,
   "metadata": {},
   "outputs": [],
   "source": [
    "ensembles = [\"pixelattack_spatialtransformation_autoattack\", \"pixelattack_spatialtransformation_bim\", \"pixelattack_spatialtransformation_deepfool\"]\n",
    "# ensembles = [\"pixelattack_spatialtransformation_autoattack\", \"pixelattack_spatialtransformation_bim\"]\n",
    "attacks = [\"autoattack\", \"autopgd\", \"bim\", \"cw\", \"fgsm\", \"pgd\", \"deepfool\", \"newtonfool\", \"squareattack\", \"pixelattack\", \"spatialtransformation\"]"
   ]
  },
  {
   "cell_type": "code",
   "execution_count": 38,
   "metadata": {},
   "outputs": [
    {
     "data": {
      "text/plain": [
       "{'pixelattack_spatialtransformation_autoattack': datetime.timedelta(seconds=4078),\n",
       " 'pixelattack_spatialtransformation_bim': datetime.timedelta(seconds=4192),\n",
       " 'pixelattack_spatialtransformation_deepfool': datetime.timedelta(seconds=3904)}"
      ]
     },
     "execution_count": 38,
     "metadata": {},
     "output_type": "execute_result"
    }
   ],
   "source": [
    "durations = {}\n",
    "for tr in ensembles :\n",
    "    durations[tr] = get_adv_detector_execution_time(tr)\n",
    "\n",
    "durations"
   ]
  },
  {
   "cell_type": "code",
   "execution_count": 39,
   "metadata": {},
   "outputs": [
    {
     "name": "stdout",
     "output_type": "stream",
     "text": [
      "Average Duration:  1:07:38\n"
     ]
    }
   ],
   "source": [
    "print(\"Average Duration: \", np.mean(list(durations.values())))"
   ]
  },
  {
   "cell_type": "code",
   "execution_count": 40,
   "metadata": {},
   "outputs": [
    {
     "name": "stdout",
     "output_type": "stream",
     "text": [
      "Training time 1 model:  0:52:20.181818\n"
     ]
    }
   ],
   "source": [
    "print(\"Training time 1 model: \", duration_rq1/len(attacks))"
   ]
  },
  {
   "cell_type": "code",
   "execution_count": null,
   "metadata": {},
   "outputs": [],
   "source": []
  },
  {
   "cell_type": "code",
   "execution_count": 24,
   "metadata": {},
   "outputs": [
    {
     "name": "stdout",
     "output_type": "stream",
     "text": [
      "days: 0 \n",
      "hours: 0 \n",
      "minutes: 14\n"
     ]
    }
   ],
   "source": [
    "days_and_time = duration\n",
    "days = days_and_time.days\n",
    "seconds = days_and_time.seconds\n",
    "\n",
    "hours = seconds//3600\n",
    "minutes = (seconds//60)%60\n",
    "print(\"days:\", days, \"\\nhours:\", hours, \"\\nminutes:\", minutes)"
   ]
  },
  {
   "cell_type": "code",
   "execution_count": null,
   "metadata": {},
   "outputs": [],
   "source": []
  }
 ],
 "metadata": {
  "kernelspec": {
   "display_name": "Python 3",
   "language": "python",
   "name": "python3"
  },
  "language_info": {
   "codemirror_mode": {
    "name": "ipython",
    "version": 3
   },
   "file_extension": ".py",
   "mimetype": "text/x-python",
   "name": "python",
   "nbconvert_exporter": "python",
   "pygments_lexer": "ipython3",
   "version": "3.7.7"
  }
 },
 "nbformat": 4,
 "nbformat_minor": 4
}
