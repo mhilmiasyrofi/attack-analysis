{
 "cells": [
  {
   "cell_type": "markdown",
   "metadata": {},
   "source": [
    "# RQ1: Intracluster and Intercluster Analysis"
   ]
  },
  {
   "cell_type": "code",
   "execution_count": 1,
   "metadata": {},
   "outputs": [],
   "source": [
    "import pandas as pd\n",
    "import numpy as np\n",
    "import seaborn as sns\n",
    "import matplotlib.pyplot as plt\n",
    "%matplotlib inline\n",
    "from scipy.spatial import distance\n",
    "\n",
    "pd.options.display.float_format = '{:,.3f}'.format"
   ]
  },
  {
   "cell_type": "code",
   "execution_count": 2,
   "metadata": {},
   "outputs": [],
   "source": [
    "base_dir = \"../trained_models/AWP/1000val/full/\"\n",
    "def load_data(train, test, fname, valtest=None) :\n",
    "    if valtest == None :\n",
    "        fpath = base_dir + \"{}/eval/best/{}/{}.txt\".format(train, test, fname)\n",
    "    else :\n",
    "        fpath = base_dir + \"{}/val/{}/best/{}/{}.txt\".format(train, valtest, test, fname)\n",
    "\n",
    "    return np.loadtxt(fpath).astype(np.int)\n",
    "\n",
    "train = \"autoattack\"\n",
    "test = \"pgd\"\n",
    "\n",
    "y_original = load_data(train, test, \"Y_original\", 1000)\n",
    "y_original_pred = load_data(train, test, \"Y_original_pred\", 1000)\n",
    "y_adv = load_data(train, test, \"Y_adv\", 1000)\n",
    "y_adv_pred = load_data(train, test, \"Y_adv_pred\", 1000)"
   ]
  },
  {
   "cell_type": "code",
   "execution_count": 3,
   "metadata": {},
   "outputs": [
    {
     "name": "stdout",
     "output_type": "stream",
     "text": [
      "Y_adv(pgd,autoattack): [3 8 8 ... 5 1 7]\n",
      "Y_adv_pred(pgd,autoattack): [3 8 8 ... 5 1 7]\n"
     ]
    }
   ],
   "source": [
    "def get_robust_data(train, test, valtest=None):\n",
    "    y_adv = load_data(train, test, \"Y_adv\", valtest)\n",
    "    y_adv_pred = load_data(train, test, \"Y_adv_pred\", valtest)\n",
    "    return y_adv, y_adv_pred\n",
    "\n",
    "train = \"pgd\"\n",
    "test = \"autoattack\"\n",
    "y_adv, y_adv_pred = get_robust_data(train, test, None)\n",
    "\n",
    "print(\"Y_adv({},{}): {}\".format(train, test, y_adv))\n",
    "print(\"Y_adv_pred({},{}): {}\".format(train, test, y_adv_pred))"
   ]
  },
  {
   "cell_type": "code",
   "execution_count": 4,
   "metadata": {},
   "outputs": [],
   "source": [
    "attacks = [\"autoattack\", \"autopgd\", \"bim\", \"cw\", \"fgsm\", \"pgd\", \"deepfool\", \"newtonfool\", \"squareattack\", \"pixelattack\", \"spatialtransformation\"]"
   ]
  },
  {
   "cell_type": "code",
   "execution_count": 5,
   "metadata": {},
   "outputs": [],
   "source": [
    "train = attacks.copy()\n",
    "\n",
    "test = attacks.copy()\n",
    "test.append(\"all\")"
   ]
  },
  {
   "cell_type": "code",
   "execution_count": 6,
   "metadata": {},
   "outputs": [],
   "source": [
    "def get_accuracies(attacks, valtest=None) :\n",
    "    predictions = {}\n",
    "    labels = {}\n",
    "\n",
    "    for a1 in train :\n",
    "        p = np.array([])\n",
    "        l = np.array([])\n",
    "        for a2 in attacks :\n",
    "            y, y_pred = get_robust_data(a1, a2, valtest)\n",
    "            p = np.concatenate((p, y_pred))\n",
    "            l = np.concatenate((l, y))\n",
    "        predictions[a1] = {}\n",
    "        labels[a1] = {}\n",
    "        predictions[a1][\"all\"] = p\n",
    "        labels[a1][\"all\"] = l\n",
    "\n",
    "    for a1 in train :\n",
    "        for a2 in attacks :\n",
    "            y, y_pred = get_robust_data(a1, a2, valtest)\n",
    "            predictions[a1][a2] = y_pred\n",
    "            labels[a1][a2] = y\n",
    "\n",
    "    accs = {}\n",
    "    for tr in train :\n",
    "        accs[tr] = {}\n",
    "        for ts in test :\n",
    "            accs[tr][ts] = (labels[tr][ts] == predictions[tr][ts]).sum().item() / len(labels[tr][ts])\n",
    "\n",
    "\n",
    "    accs = pd.DataFrame(data=accs)\n",
    "    accs_transpose = pd.DataFrame(data=accs).T\n",
    "    return accs_transpose, accs \n",
    "\n",
    "accs_transpose, accs = get_accuracies(attacks, 1000)"
   ]
  },
  {
   "cell_type": "code",
   "execution_count": 7,
   "metadata": {},
   "outputs": [
    {
     "data": {
      "text/html": [
       "<div>\n",
       "<style scoped>\n",
       "    .dataframe tbody tr th:only-of-type {\n",
       "        vertical-align: middle;\n",
       "    }\n",
       "\n",
       "    .dataframe tbody tr th {\n",
       "        vertical-align: top;\n",
       "    }\n",
       "\n",
       "    .dataframe thead th {\n",
       "        text-align: right;\n",
       "    }\n",
       "</style>\n",
       "<table border=\"1\" class=\"dataframe\">\n",
       "  <thead>\n",
       "    <tr style=\"text-align: right;\">\n",
       "      <th></th>\n",
       "      <th>autoattack</th>\n",
       "      <th>autopgd</th>\n",
       "      <th>bim</th>\n",
       "      <th>cw</th>\n",
       "      <th>fgsm</th>\n",
       "      <th>pgd</th>\n",
       "      <th>deepfool</th>\n",
       "      <th>newtonfool</th>\n",
       "      <th>squareattack</th>\n",
       "      <th>pixelattack</th>\n",
       "      <th>spatialtransformation</th>\n",
       "      <th>all</th>\n",
       "    </tr>\n",
       "  </thead>\n",
       "  <tbody>\n",
       "    <tr>\n",
       "      <th>autoattack</th>\n",
       "      <td>0.789</td>\n",
       "      <td>0.789</td>\n",
       "      <td>0.779</td>\n",
       "      <td>0.795</td>\n",
       "      <td>0.764</td>\n",
       "      <td>0.773</td>\n",
       "      <td>0.776</td>\n",
       "      <td>0.788</td>\n",
       "      <td>0.788</td>\n",
       "      <td>0.171</td>\n",
       "      <td>0.393</td>\n",
       "      <td>0.691</td>\n",
       "    </tr>\n",
       "    <tr>\n",
       "      <th>autopgd</th>\n",
       "      <td>0.782</td>\n",
       "      <td>0.783</td>\n",
       "      <td>0.774</td>\n",
       "      <td>0.791</td>\n",
       "      <td>0.770</td>\n",
       "      <td>0.787</td>\n",
       "      <td>0.782</td>\n",
       "      <td>0.790</td>\n",
       "      <td>0.783</td>\n",
       "      <td>0.142</td>\n",
       "      <td>0.351</td>\n",
       "      <td>0.685</td>\n",
       "    </tr>\n",
       "    <tr>\n",
       "      <th>bim</th>\n",
       "      <td>0.785</td>\n",
       "      <td>0.785</td>\n",
       "      <td>0.780</td>\n",
       "      <td>0.779</td>\n",
       "      <td>0.757</td>\n",
       "      <td>0.773</td>\n",
       "      <td>0.773</td>\n",
       "      <td>0.780</td>\n",
       "      <td>0.771</td>\n",
       "      <td>0.129</td>\n",
       "      <td>0.402</td>\n",
       "      <td>0.683</td>\n",
       "    </tr>\n",
       "    <tr>\n",
       "      <th>cw</th>\n",
       "      <td>0.781</td>\n",
       "      <td>0.781</td>\n",
       "      <td>0.776</td>\n",
       "      <td>0.805</td>\n",
       "      <td>0.768</td>\n",
       "      <td>0.772</td>\n",
       "      <td>0.789</td>\n",
       "      <td>0.803</td>\n",
       "      <td>0.798</td>\n",
       "      <td>0.144</td>\n",
       "      <td>0.380</td>\n",
       "      <td>0.691</td>\n",
       "    </tr>\n",
       "    <tr>\n",
       "      <th>fgsm</th>\n",
       "      <td>0.776</td>\n",
       "      <td>0.776</td>\n",
       "      <td>0.775</td>\n",
       "      <td>0.779</td>\n",
       "      <td>0.774</td>\n",
       "      <td>0.768</td>\n",
       "      <td>0.768</td>\n",
       "      <td>0.780</td>\n",
       "      <td>0.770</td>\n",
       "      <td>0.159</td>\n",
       "      <td>0.365</td>\n",
       "      <td>0.681</td>\n",
       "    </tr>\n",
       "    <tr>\n",
       "      <th>pgd</th>\n",
       "      <td>0.773</td>\n",
       "      <td>0.773</td>\n",
       "      <td>0.775</td>\n",
       "      <td>0.791</td>\n",
       "      <td>0.756</td>\n",
       "      <td>0.779</td>\n",
       "      <td>0.769</td>\n",
       "      <td>0.784</td>\n",
       "      <td>0.781</td>\n",
       "      <td>0.110</td>\n",
       "      <td>0.372</td>\n",
       "      <td>0.678</td>\n",
       "    </tr>\n",
       "    <tr>\n",
       "      <th>deepfool</th>\n",
       "      <td>0.780</td>\n",
       "      <td>0.780</td>\n",
       "      <td>0.782</td>\n",
       "      <td>0.793</td>\n",
       "      <td>0.765</td>\n",
       "      <td>0.786</td>\n",
       "      <td>0.787</td>\n",
       "      <td>0.794</td>\n",
       "      <td>0.783</td>\n",
       "      <td>0.148</td>\n",
       "      <td>0.360</td>\n",
       "      <td>0.687</td>\n",
       "    </tr>\n",
       "    <tr>\n",
       "      <th>newtonfool</th>\n",
       "      <td>0.778</td>\n",
       "      <td>0.778</td>\n",
       "      <td>0.773</td>\n",
       "      <td>0.799</td>\n",
       "      <td>0.764</td>\n",
       "      <td>0.763</td>\n",
       "      <td>0.778</td>\n",
       "      <td>0.801</td>\n",
       "      <td>0.800</td>\n",
       "      <td>0.149</td>\n",
       "      <td>0.384</td>\n",
       "      <td>0.688</td>\n",
       "    </tr>\n",
       "    <tr>\n",
       "      <th>squareattack</th>\n",
       "      <td>0.725</td>\n",
       "      <td>0.726</td>\n",
       "      <td>0.723</td>\n",
       "      <td>0.777</td>\n",
       "      <td>0.709</td>\n",
       "      <td>0.719</td>\n",
       "      <td>0.739</td>\n",
       "      <td>0.773</td>\n",
       "      <td>0.835</td>\n",
       "      <td>0.223</td>\n",
       "      <td>0.369</td>\n",
       "      <td>0.665</td>\n",
       "    </tr>\n",
       "    <tr>\n",
       "      <th>pixelattack</th>\n",
       "      <td>0.089</td>\n",
       "      <td>0.089</td>\n",
       "      <td>0.089</td>\n",
       "      <td>0.089</td>\n",
       "      <td>0.089</td>\n",
       "      <td>0.089</td>\n",
       "      <td>0.089</td>\n",
       "      <td>0.089</td>\n",
       "      <td>0.089</td>\n",
       "      <td>0.786</td>\n",
       "      <td>0.089</td>\n",
       "      <td>0.152</td>\n",
       "    </tr>\n",
       "    <tr>\n",
       "      <th>spatialtransformation</th>\n",
       "      <td>0.523</td>\n",
       "      <td>0.521</td>\n",
       "      <td>0.506</td>\n",
       "      <td>0.550</td>\n",
       "      <td>0.501</td>\n",
       "      <td>0.517</td>\n",
       "      <td>0.519</td>\n",
       "      <td>0.558</td>\n",
       "      <td>0.574</td>\n",
       "      <td>0.121</td>\n",
       "      <td>0.837</td>\n",
       "      <td>0.521</td>\n",
       "    </tr>\n",
       "  </tbody>\n",
       "</table>\n",
       "</div>"
      ],
      "text/plain": [
       "                       autoattack  autopgd   bim    cw  fgsm   pgd  deepfool  \\\n",
       "autoattack                  0.789    0.789 0.779 0.795 0.764 0.773     0.776   \n",
       "autopgd                     0.782    0.783 0.774 0.791 0.770 0.787     0.782   \n",
       "bim                         0.785    0.785 0.780 0.779 0.757 0.773     0.773   \n",
       "cw                          0.781    0.781 0.776 0.805 0.768 0.772     0.789   \n",
       "fgsm                        0.776    0.776 0.775 0.779 0.774 0.768     0.768   \n",
       "pgd                         0.773    0.773 0.775 0.791 0.756 0.779     0.769   \n",
       "deepfool                    0.780    0.780 0.782 0.793 0.765 0.786     0.787   \n",
       "newtonfool                  0.778    0.778 0.773 0.799 0.764 0.763     0.778   \n",
       "squareattack                0.725    0.726 0.723 0.777 0.709 0.719     0.739   \n",
       "pixelattack                 0.089    0.089 0.089 0.089 0.089 0.089     0.089   \n",
       "spatialtransformation       0.523    0.521 0.506 0.550 0.501 0.517     0.519   \n",
       "\n",
       "                       newtonfool  squareattack  pixelattack  \\\n",
       "autoattack                  0.788         0.788        0.171   \n",
       "autopgd                     0.790         0.783        0.142   \n",
       "bim                         0.780         0.771        0.129   \n",
       "cw                          0.803         0.798        0.144   \n",
       "fgsm                        0.780         0.770        0.159   \n",
       "pgd                         0.784         0.781        0.110   \n",
       "deepfool                    0.794         0.783        0.148   \n",
       "newtonfool                  0.801         0.800        0.149   \n",
       "squareattack                0.773         0.835        0.223   \n",
       "pixelattack                 0.089         0.089        0.786   \n",
       "spatialtransformation       0.558         0.574        0.121   \n",
       "\n",
       "                       spatialtransformation   all  \n",
       "autoattack                             0.393 0.691  \n",
       "autopgd                                0.351 0.685  \n",
       "bim                                    0.402 0.683  \n",
       "cw                                     0.380 0.691  \n",
       "fgsm                                   0.365 0.681  \n",
       "pgd                                    0.372 0.678  \n",
       "deepfool                               0.360 0.687  \n",
       "newtonfool                             0.384 0.688  \n",
       "squareattack                           0.369 0.665  \n",
       "pixelattack                            0.089 0.152  \n",
       "spatialtransformation                  0.837 0.521  "
      ]
     },
     "execution_count": 7,
     "metadata": {},
     "output_type": "execute_result"
    }
   ],
   "source": [
    "accs_transpose"
   ]
  },
  {
   "cell_type": "code",
   "execution_count": 8,
   "metadata": {},
   "outputs": [
    {
     "data": {
      "text/html": [
       "<div>\n",
       "<style scoped>\n",
       "    .dataframe tbody tr th:only-of-type {\n",
       "        vertical-align: middle;\n",
       "    }\n",
       "\n",
       "    .dataframe tbody tr th {\n",
       "        vertical-align: top;\n",
       "    }\n",
       "\n",
       "    .dataframe thead th {\n",
       "        text-align: right;\n",
       "    }\n",
       "</style>\n",
       "<table border=\"1\" class=\"dataframe\">\n",
       "  <thead>\n",
       "    <tr style=\"text-align: right;\">\n",
       "      <th></th>\n",
       "      <th>autoattack</th>\n",
       "      <th>cw</th>\n",
       "      <th>newtonfool</th>\n",
       "      <th>deepfool</th>\n",
       "      <th>autopgd</th>\n",
       "      <th>bim</th>\n",
       "      <th>fgsm</th>\n",
       "      <th>pgd</th>\n",
       "      <th>squareattack</th>\n",
       "      <th>spatialtransformation</th>\n",
       "      <th>pixelattack</th>\n",
       "      <th>all</th>\n",
       "    </tr>\n",
       "  </thead>\n",
       "  <tbody>\n",
       "    <tr>\n",
       "      <th>autoattack</th>\n",
       "      <td>0.789</td>\n",
       "      <td>0.795</td>\n",
       "      <td>0.788</td>\n",
       "      <td>0.776</td>\n",
       "      <td>0.789</td>\n",
       "      <td>0.779</td>\n",
       "      <td>0.764</td>\n",
       "      <td>0.773</td>\n",
       "      <td>0.788</td>\n",
       "      <td>0.393</td>\n",
       "      <td>0.171</td>\n",
       "      <td>0.691</td>\n",
       "    </tr>\n",
       "    <tr>\n",
       "      <th>cw</th>\n",
       "      <td>0.781</td>\n",
       "      <td>0.805</td>\n",
       "      <td>0.803</td>\n",
       "      <td>0.789</td>\n",
       "      <td>0.781</td>\n",
       "      <td>0.776</td>\n",
       "      <td>0.768</td>\n",
       "      <td>0.772</td>\n",
       "      <td>0.798</td>\n",
       "      <td>0.380</td>\n",
       "      <td>0.144</td>\n",
       "      <td>0.691</td>\n",
       "    </tr>\n",
       "    <tr>\n",
       "      <th>newtonfool</th>\n",
       "      <td>0.778</td>\n",
       "      <td>0.799</td>\n",
       "      <td>0.801</td>\n",
       "      <td>0.778</td>\n",
       "      <td>0.778</td>\n",
       "      <td>0.773</td>\n",
       "      <td>0.764</td>\n",
       "      <td>0.763</td>\n",
       "      <td>0.800</td>\n",
       "      <td>0.384</td>\n",
       "      <td>0.149</td>\n",
       "      <td>0.688</td>\n",
       "    </tr>\n",
       "    <tr>\n",
       "      <th>deepfool</th>\n",
       "      <td>0.780</td>\n",
       "      <td>0.793</td>\n",
       "      <td>0.794</td>\n",
       "      <td>0.787</td>\n",
       "      <td>0.780</td>\n",
       "      <td>0.782</td>\n",
       "      <td>0.765</td>\n",
       "      <td>0.786</td>\n",
       "      <td>0.783</td>\n",
       "      <td>0.360</td>\n",
       "      <td>0.148</td>\n",
       "      <td>0.687</td>\n",
       "    </tr>\n",
       "    <tr>\n",
       "      <th>autopgd</th>\n",
       "      <td>0.782</td>\n",
       "      <td>0.791</td>\n",
       "      <td>0.790</td>\n",
       "      <td>0.782</td>\n",
       "      <td>0.783</td>\n",
       "      <td>0.774</td>\n",
       "      <td>0.770</td>\n",
       "      <td>0.787</td>\n",
       "      <td>0.783</td>\n",
       "      <td>0.351</td>\n",
       "      <td>0.142</td>\n",
       "      <td>0.685</td>\n",
       "    </tr>\n",
       "    <tr>\n",
       "      <th>bim</th>\n",
       "      <td>0.785</td>\n",
       "      <td>0.779</td>\n",
       "      <td>0.780</td>\n",
       "      <td>0.773</td>\n",
       "      <td>0.785</td>\n",
       "      <td>0.780</td>\n",
       "      <td>0.757</td>\n",
       "      <td>0.773</td>\n",
       "      <td>0.771</td>\n",
       "      <td>0.402</td>\n",
       "      <td>0.129</td>\n",
       "      <td>0.683</td>\n",
       "    </tr>\n",
       "    <tr>\n",
       "      <th>fgsm</th>\n",
       "      <td>0.776</td>\n",
       "      <td>0.779</td>\n",
       "      <td>0.780</td>\n",
       "      <td>0.768</td>\n",
       "      <td>0.776</td>\n",
       "      <td>0.775</td>\n",
       "      <td>0.774</td>\n",
       "      <td>0.768</td>\n",
       "      <td>0.770</td>\n",
       "      <td>0.365</td>\n",
       "      <td>0.159</td>\n",
       "      <td>0.681</td>\n",
       "    </tr>\n",
       "    <tr>\n",
       "      <th>pgd</th>\n",
       "      <td>0.773</td>\n",
       "      <td>0.791</td>\n",
       "      <td>0.784</td>\n",
       "      <td>0.769</td>\n",
       "      <td>0.773</td>\n",
       "      <td>0.775</td>\n",
       "      <td>0.756</td>\n",
       "      <td>0.779</td>\n",
       "      <td>0.781</td>\n",
       "      <td>0.372</td>\n",
       "      <td>0.110</td>\n",
       "      <td>0.678</td>\n",
       "    </tr>\n",
       "    <tr>\n",
       "      <th>squareattack</th>\n",
       "      <td>0.725</td>\n",
       "      <td>0.777</td>\n",
       "      <td>0.773</td>\n",
       "      <td>0.739</td>\n",
       "      <td>0.726</td>\n",
       "      <td>0.723</td>\n",
       "      <td>0.709</td>\n",
       "      <td>0.719</td>\n",
       "      <td>0.835</td>\n",
       "      <td>0.369</td>\n",
       "      <td>0.223</td>\n",
       "      <td>0.665</td>\n",
       "    </tr>\n",
       "    <tr>\n",
       "      <th>spatialtransformation</th>\n",
       "      <td>0.523</td>\n",
       "      <td>0.550</td>\n",
       "      <td>0.558</td>\n",
       "      <td>0.519</td>\n",
       "      <td>0.521</td>\n",
       "      <td>0.506</td>\n",
       "      <td>0.501</td>\n",
       "      <td>0.517</td>\n",
       "      <td>0.574</td>\n",
       "      <td>0.837</td>\n",
       "      <td>0.121</td>\n",
       "      <td>0.521</td>\n",
       "    </tr>\n",
       "    <tr>\n",
       "      <th>pixelattack</th>\n",
       "      <td>0.089</td>\n",
       "      <td>0.089</td>\n",
       "      <td>0.089</td>\n",
       "      <td>0.089</td>\n",
       "      <td>0.089</td>\n",
       "      <td>0.089</td>\n",
       "      <td>0.089</td>\n",
       "      <td>0.089</td>\n",
       "      <td>0.089</td>\n",
       "      <td>0.089</td>\n",
       "      <td>0.786</td>\n",
       "      <td>0.152</td>\n",
       "    </tr>\n",
       "  </tbody>\n",
       "</table>\n",
       "</div>"
      ],
      "text/plain": [
       "                       autoattack    cw  newtonfool  deepfool  autopgd   bim  \\\n",
       "autoattack                  0.789 0.795       0.788     0.776    0.789 0.779   \n",
       "cw                          0.781 0.805       0.803     0.789    0.781 0.776   \n",
       "newtonfool                  0.778 0.799       0.801     0.778    0.778 0.773   \n",
       "deepfool                    0.780 0.793       0.794     0.787    0.780 0.782   \n",
       "autopgd                     0.782 0.791       0.790     0.782    0.783 0.774   \n",
       "bim                         0.785 0.779       0.780     0.773    0.785 0.780   \n",
       "fgsm                        0.776 0.779       0.780     0.768    0.776 0.775   \n",
       "pgd                         0.773 0.791       0.784     0.769    0.773 0.775   \n",
       "squareattack                0.725 0.777       0.773     0.739    0.726 0.723   \n",
       "spatialtransformation       0.523 0.550       0.558     0.519    0.521 0.506   \n",
       "pixelattack                 0.089 0.089       0.089     0.089    0.089 0.089   \n",
       "\n",
       "                       fgsm   pgd  squareattack  spatialtransformation  \\\n",
       "autoattack            0.764 0.773         0.788                  0.393   \n",
       "cw                    0.768 0.772         0.798                  0.380   \n",
       "newtonfool            0.764 0.763         0.800                  0.384   \n",
       "deepfool              0.765 0.786         0.783                  0.360   \n",
       "autopgd               0.770 0.787         0.783                  0.351   \n",
       "bim                   0.757 0.773         0.771                  0.402   \n",
       "fgsm                  0.774 0.768         0.770                  0.365   \n",
       "pgd                   0.756 0.779         0.781                  0.372   \n",
       "squareattack          0.709 0.719         0.835                  0.369   \n",
       "spatialtransformation 0.501 0.517         0.574                  0.837   \n",
       "pixelattack           0.089 0.089         0.089                  0.089   \n",
       "\n",
       "                       pixelattack   all  \n",
       "autoattack                   0.171 0.691  \n",
       "cw                           0.144 0.691  \n",
       "newtonfool                   0.149 0.688  \n",
       "deepfool                     0.148 0.687  \n",
       "autopgd                      0.142 0.685  \n",
       "bim                          0.129 0.683  \n",
       "fgsm                         0.159 0.681  \n",
       "pgd                          0.110 0.678  \n",
       "squareattack                 0.223 0.665  \n",
       "spatialtransformation        0.121 0.521  \n",
       "pixelattack                  0.786 0.152  "
      ]
     },
     "execution_count": 8,
     "metadata": {},
     "output_type": "execute_result"
    }
   ],
   "source": [
    "sorted_acc = accs_transpose.sort_values(by=\"all\", ascending=False)\n",
    "idx = list(sorted_acc.index)\n",
    "sorted_acc = sorted_acc.reindex(idx, axis=0)\n",
    "idx.append(\"all\")\n",
    "sorted_acc = sorted_acc.reindex(idx, axis=1)\n",
    "sorted_acc"
   ]
  },
  {
   "cell_type": "code",
   "execution_count": 9,
   "metadata": {},
   "outputs": [],
   "source": [
    "acc_val = get_accuracies(attacks, 1000)[0]\n",
    "acc_test = get_accuracies(attacks, None)[0]\n",
    "\n",
    "acc_val = acc_val.reindex(idx[:-1], axis=0)\n",
    "acc_val = acc_val.reindex(idx, axis=1)\n",
    "acc_test = acc_test.reindex(idx[:-1], axis=0)\n",
    "acc_test = acc_test.reindex(idx, axis=1)\n",
    "\n",
    "diff = abs(acc_val - acc_test)"
   ]
  },
  {
   "cell_type": "code",
   "execution_count": 11,
   "metadata": {},
   "outputs": [],
   "source": [
    "def plot_heatmap(metrics, cmap, fpath, vmin, vmax, annot=True): \n",
    "\n",
    "    df = pd.DataFrame(data=metrics)\n",
    "\n",
    "    plt.figure(figsize=(12,9))\n",
    "    fig = sns.heatmap(df, cmap=cmap, vmin=vmin, vmax=vmax, annot=annot, fmt=\".3f\", linewidth=0.7)\n",
    "#     fig.set(xlabel='Test', ylabel='Train', fontsize=18)\n",
    "    plt.xlabel('Test', fontsize=16)\n",
    "    plt.ylabel('Train', fontsize=16)\n",
    "    fig.figure.savefig(fpath, bbox_inches='tight')\n",
    "    plt.show()"
   ]
  },
  {
   "cell_type": "code",
   "execution_count": 12,
   "metadata": {},
   "outputs": [
    {
     "data": {
      "image/png": "[encoded data removed]",
      "text/plain": [
       "<Figure size 864x648 with 2 Axes>"
      ]
     },
     "metadata": {
      "needs_background": "light"
     },
     "output_type": "display_data"
    }
   ],
   "source": [
    "path = \"plot/awp-accuracy-validation.png\"\n",
    "\n",
    "# Generate a custom diverging colormap\n",
    "cmap = sns.diverging_palette(h_neg=240, h_pos=0,s=75, l=50, n=1, as_cmap=True)\n",
    "plot_heatmap(sorted_acc.drop(columns=[\"all\"]), cmap, path, 0, 1)"
   ]
  },
  {
   "cell_type": "code",
   "execution_count": 13,
   "metadata": {},
   "outputs": [
    {
     "data": {
      "image/png": "[encoded data removed]",
      "text/plain": [
       "<Figure size 864x648 with 2 Axes>"
      ]
     },
     "metadata": {
      "needs_background": "light"
     },
     "output_type": "display_data"
    }
   ],
   "source": [
    "path = \"plot/awp-diff-accuracy.png\"\n",
    "\n",
    "# cmap = sns.diverging_palette(h_neg=240, h_pos=0,s=75, l=50, n=1, as_cmap=True)\n",
    "cmap = \"gray_r\"\n",
    "plot_heatmap(abs(diff).drop(columns=[\"all\"]), cmap, path, 0, 1)"
   ]
  },
  {
   "cell_type": "code",
   "execution_count": 14,
   "metadata": {},
   "outputs": [],
   "source": [
    "# print(sorted_acc.to_latex(bold_rows=True))"
   ]
  },
  {
   "cell_type": "code",
   "execution_count": 15,
   "metadata": {},
   "outputs": [],
   "source": [
    "accs_transpose, accs = get_accuracies(attacks, None)"
   ]
  },
  {
   "cell_type": "code",
   "execution_count": 16,
   "metadata": {},
   "outputs": [
    {
     "data": {
      "text/plain": [
       "{0: ['autoattack',\n",
       "  'autopgd',\n",
       "  'bim',\n",
       "  'cw',\n",
       "  'fgsm',\n",
       "  'pgd',\n",
       "  'deepfool',\n",
       "  'newtonfool',\n",
       "  'squareattack'],\n",
       " 1: ['pixelattack'],\n",
       " 2: ['spatialtransformation']}"
      ]
     },
     "execution_count": 16,
     "metadata": {},
     "output_type": "execute_result"
    }
   ],
   "source": [
    "cluster = {0: ['autoattack', 'autopgd', 'bim', 'cw', 'fgsm', 'pgd', 'deepfool', 'newtonfool', 'squareattack'], 1: ['pixelattack'], 2: ['spatialtransformation']}\n",
    "cluster"
   ]
  },
  {
   "cell_type": "code",
   "execution_count": 17,
   "metadata": {},
   "outputs": [
    {
     "data": {
      "text/plain": [
       "['autoattack',\n",
       " 'autopgd',\n",
       " 'bim',\n",
       " 'cw',\n",
       " 'fgsm',\n",
       " 'pgd',\n",
       " 'deepfool',\n",
       " 'newtonfool',\n",
       " 'squareattack',\n",
       " 'pixelattack',\n",
       " 'spatialtransformation']"
      ]
     },
     "execution_count": 17,
     "metadata": {},
     "output_type": "execute_result"
    }
   ],
   "source": [
    "attacks"
   ]
  },
  {
   "cell_type": "code",
   "execution_count": 18,
   "metadata": {},
   "outputs": [],
   "source": [
    "def intra_similarity_the_same_train(arr) :\n",
    "    if len(arr) <= 1 :\n",
    "        return [0]\n",
    "    res = []\n",
    "    for i in range(len(arr)) :\n",
    "        x1 = arr[i]\n",
    "        for j in range(i+1, len(arr)) :\n",
    "            x2 = arr[j]\n",
    "            if x1 != x2 :\n",
    "                for train in attacks :\n",
    "                    val = abs(accs[train][x1] - accs[train][x2])\n",
    "                    res.append(val)\n",
    "    return res\n",
    "\n",
    "def intra_similarity_the_same_test(arr) :\n",
    "    if len(arr) <= 1 :\n",
    "        return [0]\n",
    "    res = []\n",
    "    for i in range(len(arr)) :\n",
    "        x1 = arr[i]\n",
    "        for j in range(i+1, len(arr)) :\n",
    "            x2 = arr[j]\n",
    "            if x1 != x2 :\n",
    "                for test in attacks :\n",
    "                    val = abs(accs[x1][test] - accs[x2][test])\n",
    "                    res.append(val)\n",
    "    return res\n",
    "\n"
   ]
  },
  {
   "cell_type": "code",
   "execution_count": 21,
   "metadata": {},
   "outputs": [
    {
     "data": {
      "text/plain": [
       "396"
      ]
     },
     "execution_count": 21,
     "metadata": {},
     "output_type": "execute_result"
    }
   ],
   "source": [
    "len(intra_similarity_the_same_train(cluster[0]))"
   ]
  },
  {
   "cell_type": "code",
   "execution_count": 22,
   "metadata": {},
   "outputs": [
    {
     "data": {
      "text/plain": [
       "396"
      ]
     },
     "execution_count": 22,
     "metadata": {},
     "output_type": "execute_result"
    }
   ],
   "source": [
    "len(intra_similarity_the_same_test(cluster[0]))"
   ]
  },
  {
   "cell_type": "code",
   "execution_count": 26,
   "metadata": {},
   "outputs": [],
   "source": [
    "data = {}\n",
    "data[\"S(1)\"] = intra_similarity_the_same_train(cluster[0])\n",
    "data[\"S(2)\"] = intra_similarity_the_same_test(cluster[0])"
   ]
  },
  {
   "cell_type": "code",
   "execution_count": 27,
   "metadata": {},
   "outputs": [],
   "source": [
    "def inter_difference_the_same_train(cluster) :\n",
    "    res = []\n",
    "    calculated = set()\n",
    "    for k1, v1 in cluster.items() :\n",
    "        for k2, v2 in cluster.items() :\n",
    "            if k1 != k2 :\n",
    "                for a1 in v1 : \n",
    "                    for a2 in v2 :\n",
    "                        idx = a1 + \"-\" + a2\n",
    "                        if idx not in calculated :\n",
    "                            for train in attacks :\n",
    "                                val = abs(accs[train][a1] - accs[train][a2])\n",
    "#                                 if val <= 0.1 :\n",
    "#                                     print(\"Attack 1: \", a1)\n",
    "#                                     print(\"Attack 2: \", a2)\n",
    "#                                     print(\"Train: \", train)\n",
    "                                res.append(val)\n",
    "        \n",
    "                                calculated.add(idx)\n",
    "                                calculated.add(a2 + \"-\" + a1)\n",
    "    return res"
   ]
  },
  {
   "cell_type": "code",
   "execution_count": 28,
   "metadata": {},
   "outputs": [
    {
     "data": {
      "text/plain": [
       "209"
      ]
     },
     "execution_count": 28,
     "metadata": {},
     "output_type": "execute_result"
    }
   ],
   "source": [
    "len(inter_difference_the_same_train(cluster))"
   ]
  },
  {
   "cell_type": "code",
   "execution_count": 29,
   "metadata": {},
   "outputs": [],
   "source": [
    "def inter_difference_the_same_test(cluster) :\n",
    "    res = []\n",
    "    calculated = set()\n",
    "    for k1, v1 in cluster.items() :\n",
    "        for k2, v2 in cluster.items() :\n",
    "            if k1 != k2 :\n",
    "                for a1 in v1 : \n",
    "                    for a2 in v2 :\n",
    "                        idx = a1 + \"-\" + a2\n",
    "                        if idx not in calculated :\n",
    "                            for test in attacks :\n",
    "                                val = abs(accs[a1][test] - accs[a2][test])\n",
    "#                                 if val <= 0.1 :\n",
    "#                                     print(\"Attack 1: \", a1)\n",
    "#                                     print(\"Attack 2: \", a2)\n",
    "#                                     print(\"Test: \", test)\n",
    "#                                     print(\"Abs Diff: {:.4f}\".format(val))\n",
    "#                                     print(\"\")\n",
    "\n",
    "                                res.append(val)\n",
    "        \n",
    "                                calculated.add(idx)\n",
    "                                calculated.add(a2 + \"-\" + a1)\n",
    "    return res"
   ]
  },
  {
   "cell_type": "code",
   "execution_count": 30,
   "metadata": {},
   "outputs": [
    {
     "data": {
      "text/plain": [
       "209"
      ]
     },
     "execution_count": 30,
     "metadata": {},
     "output_type": "execute_result"
    }
   ],
   "source": [
    "len(inter_difference_the_same_test(cluster))"
   ]
  },
  {
   "cell_type": "code",
   "execution_count": 31,
   "metadata": {},
   "outputs": [
    {
     "data": {
      "text/plain": [
       "0.004799999999999999"
      ]
     },
     "execution_count": 31,
     "metadata": {},
     "output_type": "execute_result"
    }
   ],
   "source": [
    "diff_test = inter_difference_the_same_test(cluster)\n",
    "min(diff_test)"
   ]
  },
  {
   "cell_type": "code",
   "execution_count": 32,
   "metadata": {},
   "outputs": [],
   "source": [
    "data[\"D(1)\"] = inter_difference_the_same_train(cluster)\n",
    "data[\"D(2)\"] = inter_difference_the_same_test(cluster)"
   ]
  },
  {
   "cell_type": "code",
   "execution_count": 33,
   "metadata": {},
   "outputs": [],
   "source": [
    "def d3(cluster) :\n",
    "    res = []\n",
    "    for i, c1 in cluster.items() :\n",
    "        for j, c2 in cluster.items() :\n",
    "            if i != j :\n",
    "                for attack1train in c1 :\n",
    "                    for attack1test in c1 :\n",
    "                        for attack2test in c2 :\n",
    "                            val = accs[attack1train][attack1test] - accs[attack1train][attack2test]\n",
    "                            res.append(val)\n",
    "    return res"
   ]
  },
  {
   "cell_type": "code",
   "execution_count": 34,
   "metadata": {},
   "outputs": [
    {
     "data": {
      "text/plain": [
       "182"
      ]
     },
     "execution_count": 34,
     "metadata": {},
     "output_type": "execute_result"
    }
   ],
   "source": [
    "len(d3(cluster))"
   ]
  },
  {
   "cell_type": "code",
   "execution_count": 35,
   "metadata": {},
   "outputs": [],
   "source": [
    "data[\"D(3)\"] = d3(cluster)"
   ]
  },
  {
   "cell_type": "code",
   "execution_count": 36,
   "metadata": {},
   "outputs": [
    {
     "data": {
      "image/png": "[encoded data removed]",
      "text/plain": [
       "<Figure size 864x648 with 1 Axes>"
      ]
     },
     "metadata": {
      "needs_background": "light"
     },
     "output_type": "display_data"
    }
   ],
   "source": [
    "fig, ax = plt.subplots(figsize=(12,9))\n",
    "ax.boxplot(data.values())\n",
    "ax.set_xticklabels(data.keys())\n",
    "fpath = \"plot/awp-detail-similarity.png\"\n",
    "fig.savefig(fpath, bbox_inches='tight')"
   ]
  }
 ],
 "metadata": {
  "kernelspec": {
   "display_name": "Python 3",
   "language": "python",
   "name": "python3"
  },
  "language_info": {
   "codemirror_mode": {
    "name": "ipython",
    "version": 3
   },
   "file_extension": ".py",
   "mimetype": "text/x-python",
   "name": "python",
   "nbconvert_exporter": "python",
   "pygments_lexer": "ipython3",
   "version": "3.7.7"
  }
 },
 "nbformat": 4,
 "nbformat_minor": 4
}
